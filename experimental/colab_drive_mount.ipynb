{
 "cells": [
  {
   "cell_type": "markdown",
   "metadata": {},
   "source": [
    "# ColabでGoogleDriveをマウントする方法を説明します。\n",
    "\n",
    "## 背景\n",
    "Colabでは、ランタイムを削除するとDisk上のファイルがクリアされます。RusyBotはシステム上にSqlite3のDBをつくっているためランタイム削除のたびにDBがクリアされることになります。\n",
    "\n",
    "そこで、DBをGoogleDriveに置く方法を説明します。\n",
    "\n",
    "この方法はローカルPCで余裕のあるディスクにDBを構築したい場合にも有効です。"
   ]
  },
  {
   "cell_type": "code",
   "execution_count": null,
   "metadata": {},
   "outputs": [],
   "source": [
    "! pip install rbot"
   ]
  },
  {
   "cell_type": "code",
   "execution_count": null,
   "metadata": {},
   "outputs": [],
   "source": [
    "from rbot import BinanceConfig\n",
    "from rbot import BinanceConfig"
   ]
  },
  {
   "cell_type": "code",
   "execution_count": null,
   "metadata": {},
   "outputs": [],
   "source": [
    "# Google Driveをマウントする\n",
    "from google.colab import drive\n",
    "\n",
    "drive.mount('/content/drive')"
   ]
  },
  {
   "cell_type": "code",
   "execution_count": null,
   "metadata": {},
   "outputs": [],
   "source": [
    "# DBの保存先をGoogle Driveに変更する\n",
    "config = BinanceConfig.BTCUSDT\n",
    "config.db_base_dir = '/content/drive'"
   ]
  },
  {
   "cell_type": "code",
   "execution_count": null,
   "metadata": {},
   "outputs": [],
   "source": [
    "# Binanceのインスタンスを作成する\n",
    "binance = Binance(config)\n",
    "\n",
    "binance"
   ]
  },
  {
   "cell_type": "code",
   "execution_count": null,
   "metadata": {},
   "outputs": [],
   "source": [
    "# データをダウンロードする\n",
    "binance.download(ndays=1, verbose=True)"
   ]
  }
 ],
 "metadata": {
  "kernelspec": {
   "display_name": ".venv",
   "language": "python",
   "name": "python3"
  },
  "language_info": {
   "codemirror_mode": {
    "name": "ipython",
    "version": 3
   },
   "file_extension": ".py",
   "mimetype": "text/x-python",
   "name": "python",
   "nbconvert_exporter": "python",
   "pygments_lexer": "ipython3",
   "version": "3.12.1"
  }
 },
 "nbformat": 4,
 "nbformat_minor": 2
}
