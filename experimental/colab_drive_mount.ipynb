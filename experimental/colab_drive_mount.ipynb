{
  "cells": [
    {
      "cell_type": "markdown",
      "metadata": {
        "id": "view-in-github",
        "colab_type": "text"
      },
      "source": [
        "<a href=\"https://colab.research.google.com/github/yasstake/rusty-bot/blob/main/experimental/colab_drive_mount.ipynb\" target=\"_parent\"><img src=\"https://colab.research.google.com/assets/colab-badge.svg\" alt=\"Open In Colab\"/></a>"
      ]
    },
    {
      "cell_type": "markdown",
      "metadata": {
        "id": "hCeU7CAj8CLd"
      },
      "source": [
        "# ColabでGoogleDriveをマウントする方法を説明します。\n",
        "\n",
        "## 背景\n",
        "Colabでは、ランタイムを削除するとDisk上のファイルがクリアされます。RusyBotはシステム上にSqlite3のDBをつくっているためランタイム削除のたびにDBがクリアされることになります。\n",
        "\n",
        "そこで、DBをGoogleDriveに置く方法を説明します。\n",
        "\n",
        "BinanceConfig.db_base_dirでDB保存先を変更する方法は、ローカルPCで余裕のあるディスクにDBを構築したい場合にも有効です。"
      ]
    },
    {
      "cell_type": "code",
      "execution_count": null,
      "metadata": {
        "id": "TyxsNSX38CLf",
        "outputId": "863fa933-92be-4300-cbc4-60b0c0e5a15e",
        "colab": {
          "base_uri": "https://localhost:8080/"
        }
      },
      "outputs": [
        {
          "output_type": "stream",
          "name": "stdout",
          "text": [
            "Collecting rbot\n",
            "  Downloading rbot-0.2.14-cp38-abi3-manylinux_2_17_x86_64.manylinux2014_x86_64.whl (16.1 MB)\n",
            "\u001b[2K     \u001b[90m━━━━━━━━━━━━━━━━━━━━━━━━━━━━━━━━━━━━━━━━\u001b[0m \u001b[32m16.1/16.1 MB\u001b[0m \u001b[31m18.0 MB/s\u001b[0m eta \u001b[36m0:00:00\u001b[0m\n",
            "\u001b[?25hInstalling collected packages: rbot\n",
            "Successfully installed rbot-0.2.14\n"
          ]
        }
      ],
      "source": [
        "! pip install rbot"
      ]
    },
    {
      "cell_type": "code",
      "execution_count": null,
      "metadata": {
        "id": "54fjNj1c8CLg",
        "outputId": "e67fc224-46e0-4ae8-b6e4-e45c63f0d255",
        "colab": {
          "base_uri": "https://localhost:8080/"
        }
      },
      "outputs": [
        {
          "output_type": "stream",
          "name": "stdout",
          "text": [
            "rbot version:  0.2.14\n",
            "!!! ABSOLUTELY NO WARRANTY !!!\n",
            "!!!  USE AT YOUR OWN RISK  !!!\n",
            "See document at https://github.com/yasstake/rusty-bot\n",
            " All rights reserved. (c) 2022-2023 rbot developers / yasstake\n"
          ]
        }
      ],
      "source": [
        "from rbot import BinanceConfig\n",
        "from rbot import BinanceMarket"
      ]
    },
    {
      "cell_type": "code",
      "execution_count": null,
      "metadata": {
        "id": "HJ5dMktb8CLg",
        "outputId": "578ee6e7-d11e-4ed3-b473-1c0741131b91",
        "colab": {
          "base_uri": "https://localhost:8080/"
        }
      },
      "outputs": [
        {
          "output_type": "stream",
          "name": "stdout",
          "text": [
            "Mounted at /content/drive\n"
          ]
        }
      ],
      "source": [
        "# Google Driveをマウントする\n",
        "from google.colab import drive\n",
        "\n",
        "drive.mount('/content/drive')\n",
        "\n",
        "# DBの保存先をGoogle Driveに変更する\n",
        "config = BinanceConfig.BTCUSDT\n",
        "config.db_base_dir = '/content/drive/MyDrive'    # MyDrive以下を指定しましたが適宜変更ください"
      ]
    },
    {
      "cell_type": "code",
      "execution_count": null,
      "metadata": {
        "id": "cRxu-gK78CLh",
        "outputId": "5e1cb873-cd6d-4f11-ad2a-cac2d76cf5dc",
        "colab": {
          "base_uri": "https://localhost:8080/",
          "height": 35
        }
      },
      "outputs": [
        {
          "output_type": "execute_result",
          "data": {
            "text/plain": [
              "'/content/drive/MyDrive/DB/BN/SPOT-BTCUSDT.db'"
            ],
            "application/vnd.google.colaboratory.intrinsic+json": {
              "type": "string"
            }
          },
          "metadata": {},
          "execution_count": 5
        }
      ],
      "source": [
        "# Binanceのインスタンスを作成する\n",
        "binance = BinanceMarket(config)\n",
        "\n",
        "# 具体的に作られたDBのパスを表示\n",
        "binance.file_name"
      ]
    },
    {
      "cell_type": "code",
      "execution_count": null,
      "metadata": {
        "id": "8XMi8_ph8CLh",
        "outputId": "bd4d83aa-f0c5-432f-d0a7-2cbb321e5110",
        "colab": {
          "base_uri": "https://localhost:8080/"
        }
      },
      "outputs": [
        {
          "output_type": "execute_result",
          "data": {
            "text/plain": [
              "0"
            ]
          },
          "metadata": {},
          "execution_count": 6
        }
      ],
      "source": [
        "# データをダウンロードする。１０日分は案外時間がかかります。\n",
        "binance.download(ndays=10, verbose=True, archive_only=True)"
      ]
    },
    {
      "cell_type": "code",
      "source": [
        "# ダウンロード状況を確認（実際にダウンロードされた日数は、まだアーカイブされていない日があるため１日減ることがあります）\n",
        "binance"
      ],
      "metadata": {
        "id": "a4A-n6fa82gs",
        "outputId": "99456715-5067-41dc-a485-300295ebc1ff",
        "colab": {
          "base_uri": "https://localhost:8080/",
          "height": 139
        }
      },
      "execution_count": null,
      "outputs": [
        {
          "output_type": "execute_result",
          "data": {
            "text/plain": [
              "<BinanceMarket at 0x577e96f69990>"
            ],
            "text/html": [
              "<b>Binance DB (BTCUSDT)</b>\n",
              "            <table>\n",
              "            <caption>Trade Database info table</caption>\n",
              "            <tr><th>start</th><th>end</th></tr>\n",
              "            <tr><td>1702166400000000</td><td>1703030399999000</td></tr>\n",
              "            <tr><td>\"2023-12-10T00:00:00.000000\"</td><td>\"2023-12-19T23:59:59.999000\"</td></tr>\n",
              "            <tr><td><b>days=</b></td><td>9</td></tr>                \n",
              "            </table>                \n",
              "            "
            ]
          },
          "metadata": {},
          "execution_count": 7
        }
      ]
    },
    {
      "cell_type": "markdown",
      "source": [
        "## 折角なので分析"
      ],
      "metadata": {
        "id": "EVv-CJfu-bN0"
      }
    },
    {
      "cell_type": "markdown",
      "source": [
        "kashiharaさんの\n",
        "「国内取引所と海外取引所の短期的値動きの変化」\n",
        "https://note.com/kashihara1/n/nb3424848a968\n",
        "\n",
        "を参考にボラティリティ（＝振れ幅？）を分析してみます。\n",
        "\n",
        "元記事では、おそらくボラティリティが年々小さくなっていてBotにはつらい状況になってきているということを分析されているのだと理解しました。\n",
        "\n",
        "以下簡単に直近の数字をしらべてみました。"
      ],
      "metadata": {
        "id": "y-iZUZ1s_tzS"
      }
    },
    {
      "cell_type": "code",
      "source": [
        "# 1分足\n",
        "from rbot import NOW\n",
        "from rbot import DAYS\n",
        "\n",
        "# 9日分の４本足を作成します。\n",
        "ohlcv = binance.ohlcv(start_time=NOW()-DAYS(9), end_time=0, window_sec=60)"
      ],
      "metadata": {
        "id": "1xeS_yuW-Ky4"
      },
      "execution_count": null,
      "outputs": []
    },
    {
      "cell_type": "code",
      "source": [
        "# ohlcvにPorlasのDataFrameで格納されています。\n",
        "ohlcv.head()"
      ],
      "metadata": {
        "id": "WY11Js8VAudK",
        "outputId": "ab940aac-d04f-47e5-fe1e-347ac70b9683",
        "colab": {
          "base_uri": "https://localhost:8080/",
          "height": 255
        }
      },
      "execution_count": null,
      "outputs": [
        {
          "output_type": "execute_result",
          "data": {
            "text/plain": [
              "shape: (5, 7)\n",
              "┌─────────────────────┬──────────┬──────────┬──────────┬──────────┬──────────┬───────┐\n",
              "│ timestamp           ┆ open     ┆ high     ┆ low      ┆ close    ┆ volume   ┆ count │\n",
              "│ ---                 ┆ ---      ┆ ---      ┆ ---      ┆ ---      ┆ ---      ┆ ---   │\n",
              "│ datetime[μs]        ┆ f64      ┆ f64      ┆ f64      ┆ f64      ┆ f64      ┆ u32   │\n",
              "╞═════════════════════╪══════════╪══════════╪══════════╪══════════╪══════════╪═══════╡\n",
              "│ 2023-12-12 02:05:00 ┆ 41700.0  ┆ 41700.0  ┆ 41670.0  ┆ 41695.98 ┆ 19.69278 ┆ 1152  │\n",
              "│ 2023-12-12 02:06:00 ┆ 41695.99 ┆ 41698.02 ┆ 41682.01 ┆ 41693.56 ┆ 12.41739 ┆ 743   │\n",
              "│ 2023-12-12 02:07:00 ┆ 41693.57 ┆ 41709.82 ┆ 41693.56 ┆ 41708.2  ┆ 12.87403 ┆ 523   │\n",
              "│ 2023-12-12 02:08:00 ┆ 41708.21 ┆ 41708.21 ┆ 41670.0  ┆ 41683.96 ┆ 20.33856 ┆ 866   │\n",
              "│ 2023-12-12 02:09:00 ┆ 41683.96 ┆ 41710.58 ┆ 41683.95 ┆ 41710.01 ┆ 12.47006 ┆ 661   │\n",
              "└─────────────────────┴──────────┴──────────┴──────────┴──────────┴──────────┴───────┘"
            ],
            "text/html": [
              "<div><style>\n",
              ".dataframe > thead > tr > th,\n",
              ".dataframe > tbody > tr > td {\n",
              "  text-align: right;\n",
              "}\n",
              "</style>\n",
              "<small>shape: (5, 7)</small><table border=\"1\" class=\"dataframe\"><thead><tr><th>timestamp</th><th>open</th><th>high</th><th>low</th><th>close</th><th>volume</th><th>count</th></tr><tr><td>datetime[μs]</td><td>f64</td><td>f64</td><td>f64</td><td>f64</td><td>f64</td><td>u32</td></tr></thead><tbody><tr><td>2023-12-12 02:05:00</td><td>41700.0</td><td>41700.0</td><td>41670.0</td><td>41695.98</td><td>19.69278</td><td>1152</td></tr><tr><td>2023-12-12 02:06:00</td><td>41695.99</td><td>41698.02</td><td>41682.01</td><td>41693.56</td><td>12.41739</td><td>743</td></tr><tr><td>2023-12-12 02:07:00</td><td>41693.57</td><td>41709.82</td><td>41693.56</td><td>41708.2</td><td>12.87403</td><td>523</td></tr><tr><td>2023-12-12 02:08:00</td><td>41708.21</td><td>41708.21</td><td>41670.0</td><td>41683.96</td><td>20.33856</td><td>866</td></tr><tr><td>2023-12-12 02:09:00</td><td>41683.96</td><td>41710.58</td><td>41683.95</td><td>41710.01</td><td>12.47006</td><td>661</td></tr></tbody></table></div>"
            ]
          },
          "metadata": {},
          "execution_count": 9
        }
      ]
    },
    {
      "cell_type": "code",
      "source": [
        "# pandasに変換して分析することも可能です。\n",
        "ohlcv_df = ohlcv.to_pandas(use_pyarrow_extension_array=True)\n",
        "\n",
        "ohlcv_df.head()"
      ],
      "metadata": {
        "id": "vNmoJ4lvA_EQ",
        "outputId": "dc3b5c1a-c6e2-46eb-d017-e9dd869f9f33",
        "colab": {
          "base_uri": "https://localhost:8080/",
          "height": 206
        }
      },
      "execution_count": null,
      "outputs": [
        {
          "output_type": "execute_result",
          "data": {
            "text/plain": [
              "             timestamp     open     high      low    close             volume  \\\n",
              "0  2023-12-12 02:05:00  41700.0  41700.0  41670.0 41695.98  19.69278000000001   \n",
              "1  2023-12-12 02:06:00 41695.99 41698.02 41682.01 41693.56 12.417389999999994   \n",
              "2  2023-12-12 02:07:00 41693.57 41709.82 41693.56  41708.2  12.87402999999999   \n",
              "3  2023-12-12 02:08:00 41708.21 41708.21  41670.0 41683.96 20.338560000000015   \n",
              "4  2023-12-12 02:09:00 41683.96 41710.58 41683.95 41710.01           12.47006   \n",
              "\n",
              "  count  \n",
              "0  1152  \n",
              "1   743  \n",
              "2   523  \n",
              "3   866  \n",
              "4   661  "
            ],
            "text/html": [
              "\n",
              "  <div id=\"df-2399e85a-c873-4eda-b03e-2e70423e8095\" class=\"colab-df-container\">\n",
              "    <div>\n",
              "<style scoped>\n",
              "    .dataframe tbody tr th:only-of-type {\n",
              "        vertical-align: middle;\n",
              "    }\n",
              "\n",
              "    .dataframe tbody tr th {\n",
              "        vertical-align: top;\n",
              "    }\n",
              "\n",
              "    .dataframe thead th {\n",
              "        text-align: right;\n",
              "    }\n",
              "</style>\n",
              "<table border=\"1\" class=\"dataframe\">\n",
              "  <thead>\n",
              "    <tr style=\"text-align: right;\">\n",
              "      <th></th>\n",
              "      <th>timestamp</th>\n",
              "      <th>open</th>\n",
              "      <th>high</th>\n",
              "      <th>low</th>\n",
              "      <th>close</th>\n",
              "      <th>volume</th>\n",
              "      <th>count</th>\n",
              "    </tr>\n",
              "  </thead>\n",
              "  <tbody>\n",
              "    <tr>\n",
              "      <th>0</th>\n",
              "      <td>2023-12-12 02:05:00</td>\n",
              "      <td>41700.0</td>\n",
              "      <td>41700.0</td>\n",
              "      <td>41670.0</td>\n",
              "      <td>41695.98</td>\n",
              "      <td>19.69278000000001</td>\n",
              "      <td>1152</td>\n",
              "    </tr>\n",
              "    <tr>\n",
              "      <th>1</th>\n",
              "      <td>2023-12-12 02:06:00</td>\n",
              "      <td>41695.99</td>\n",
              "      <td>41698.02</td>\n",
              "      <td>41682.01</td>\n",
              "      <td>41693.56</td>\n",
              "      <td>12.417389999999994</td>\n",
              "      <td>743</td>\n",
              "    </tr>\n",
              "    <tr>\n",
              "      <th>2</th>\n",
              "      <td>2023-12-12 02:07:00</td>\n",
              "      <td>41693.57</td>\n",
              "      <td>41709.82</td>\n",
              "      <td>41693.56</td>\n",
              "      <td>41708.2</td>\n",
              "      <td>12.87402999999999</td>\n",
              "      <td>523</td>\n",
              "    </tr>\n",
              "    <tr>\n",
              "      <th>3</th>\n",
              "      <td>2023-12-12 02:08:00</td>\n",
              "      <td>41708.21</td>\n",
              "      <td>41708.21</td>\n",
              "      <td>41670.0</td>\n",
              "      <td>41683.96</td>\n",
              "      <td>20.338560000000015</td>\n",
              "      <td>866</td>\n",
              "    </tr>\n",
              "    <tr>\n",
              "      <th>4</th>\n",
              "      <td>2023-12-12 02:09:00</td>\n",
              "      <td>41683.96</td>\n",
              "      <td>41710.58</td>\n",
              "      <td>41683.95</td>\n",
              "      <td>41710.01</td>\n",
              "      <td>12.47006</td>\n",
              "      <td>661</td>\n",
              "    </tr>\n",
              "  </tbody>\n",
              "</table>\n",
              "</div>\n",
              "    <div class=\"colab-df-buttons\">\n",
              "\n",
              "  <div class=\"colab-df-container\">\n",
              "    <button class=\"colab-df-convert\" onclick=\"convertToInteractive('df-2399e85a-c873-4eda-b03e-2e70423e8095')\"\n",
              "            title=\"Convert this dataframe to an interactive table.\"\n",
              "            style=\"display:none;\">\n",
              "\n",
              "  <svg xmlns=\"http://www.w3.org/2000/svg\" height=\"24px\" viewBox=\"0 -960 960 960\">\n",
              "    <path d=\"M120-120v-720h720v720H120Zm60-500h600v-160H180v160Zm220 220h160v-160H400v160Zm0 220h160v-160H400v160ZM180-400h160v-160H180v160Zm440 0h160v-160H620v160ZM180-180h160v-160H180v160Zm440 0h160v-160H620v160Z\"/>\n",
              "  </svg>\n",
              "    </button>\n",
              "\n",
              "  <style>\n",
              "    .colab-df-container {\n",
              "      display:flex;\n",
              "      gap: 12px;\n",
              "    }\n",
              "\n",
              "    .colab-df-convert {\n",
              "      background-color: #E8F0FE;\n",
              "      border: none;\n",
              "      border-radius: 50%;\n",
              "      cursor: pointer;\n",
              "      display: none;\n",
              "      fill: #1967D2;\n",
              "      height: 32px;\n",
              "      padding: 0 0 0 0;\n",
              "      width: 32px;\n",
              "    }\n",
              "\n",
              "    .colab-df-convert:hover {\n",
              "      background-color: #E2EBFA;\n",
              "      box-shadow: 0px 1px 2px rgba(60, 64, 67, 0.3), 0px 1px 3px 1px rgba(60, 64, 67, 0.15);\n",
              "      fill: #174EA6;\n",
              "    }\n",
              "\n",
              "    .colab-df-buttons div {\n",
              "      margin-bottom: 4px;\n",
              "    }\n",
              "\n",
              "    [theme=dark] .colab-df-convert {\n",
              "      background-color: #3B4455;\n",
              "      fill: #D2E3FC;\n",
              "    }\n",
              "\n",
              "    [theme=dark] .colab-df-convert:hover {\n",
              "      background-color: #434B5C;\n",
              "      box-shadow: 0px 1px 3px 1px rgba(0, 0, 0, 0.15);\n",
              "      filter: drop-shadow(0px 1px 2px rgba(0, 0, 0, 0.3));\n",
              "      fill: #FFFFFF;\n",
              "    }\n",
              "  </style>\n",
              "\n",
              "    <script>\n",
              "      const buttonEl =\n",
              "        document.querySelector('#df-2399e85a-c873-4eda-b03e-2e70423e8095 button.colab-df-convert');\n",
              "      buttonEl.style.display =\n",
              "        google.colab.kernel.accessAllowed ? 'block' : 'none';\n",
              "\n",
              "      async function convertToInteractive(key) {\n",
              "        const element = document.querySelector('#df-2399e85a-c873-4eda-b03e-2e70423e8095');\n",
              "        const dataTable =\n",
              "          await google.colab.kernel.invokeFunction('convertToInteractive',\n",
              "                                                    [key], {});\n",
              "        if (!dataTable) return;\n",
              "\n",
              "        const docLinkHtml = 'Like what you see? Visit the ' +\n",
              "          '<a target=\"_blank\" href=https://colab.research.google.com/notebooks/data_table.ipynb>data table notebook</a>'\n",
              "          + ' to learn more about interactive tables.';\n",
              "        element.innerHTML = '';\n",
              "        dataTable['output_type'] = 'display_data';\n",
              "        await google.colab.output.renderOutput(dataTable, element);\n",
              "        const docLink = document.createElement('div');\n",
              "        docLink.innerHTML = docLinkHtml;\n",
              "        element.appendChild(docLink);\n",
              "      }\n",
              "    </script>\n",
              "  </div>\n",
              "\n",
              "\n",
              "<div id=\"df-42405fa7-b8bd-4a89-9f79-6dcf21af5e63\">\n",
              "  <button class=\"colab-df-quickchart\" onclick=\"quickchart('df-42405fa7-b8bd-4a89-9f79-6dcf21af5e63')\"\n",
              "            title=\"Suggest charts\"\n",
              "            style=\"display:none;\">\n",
              "\n",
              "<svg xmlns=\"http://www.w3.org/2000/svg\" height=\"24px\"viewBox=\"0 0 24 24\"\n",
              "     width=\"24px\">\n",
              "    <g>\n",
              "        <path d=\"M19 3H5c-1.1 0-2 .9-2 2v14c0 1.1.9 2 2 2h14c1.1 0 2-.9 2-2V5c0-1.1-.9-2-2-2zM9 17H7v-7h2v7zm4 0h-2V7h2v10zm4 0h-2v-4h2v4z\"/>\n",
              "    </g>\n",
              "</svg>\n",
              "  </button>\n",
              "\n",
              "<style>\n",
              "  .colab-df-quickchart {\n",
              "      --bg-color: #E8F0FE;\n",
              "      --fill-color: #1967D2;\n",
              "      --hover-bg-color: #E2EBFA;\n",
              "      --hover-fill-color: #174EA6;\n",
              "      --disabled-fill-color: #AAA;\n",
              "      --disabled-bg-color: #DDD;\n",
              "  }\n",
              "\n",
              "  [theme=dark] .colab-df-quickchart {\n",
              "      --bg-color: #3B4455;\n",
              "      --fill-color: #D2E3FC;\n",
              "      --hover-bg-color: #434B5C;\n",
              "      --hover-fill-color: #FFFFFF;\n",
              "      --disabled-bg-color: #3B4455;\n",
              "      --disabled-fill-color: #666;\n",
              "  }\n",
              "\n",
              "  .colab-df-quickchart {\n",
              "    background-color: var(--bg-color);\n",
              "    border: none;\n",
              "    border-radius: 50%;\n",
              "    cursor: pointer;\n",
              "    display: none;\n",
              "    fill: var(--fill-color);\n",
              "    height: 32px;\n",
              "    padding: 0;\n",
              "    width: 32px;\n",
              "  }\n",
              "\n",
              "  .colab-df-quickchart:hover {\n",
              "    background-color: var(--hover-bg-color);\n",
              "    box-shadow: 0 1px 2px rgba(60, 64, 67, 0.3), 0 1px 3px 1px rgba(60, 64, 67, 0.15);\n",
              "    fill: var(--button-hover-fill-color);\n",
              "  }\n",
              "\n",
              "  .colab-df-quickchart-complete:disabled,\n",
              "  .colab-df-quickchart-complete:disabled:hover {\n",
              "    background-color: var(--disabled-bg-color);\n",
              "    fill: var(--disabled-fill-color);\n",
              "    box-shadow: none;\n",
              "  }\n",
              "\n",
              "  .colab-df-spinner {\n",
              "    border: 2px solid var(--fill-color);\n",
              "    border-color: transparent;\n",
              "    border-bottom-color: var(--fill-color);\n",
              "    animation:\n",
              "      spin 1s steps(1) infinite;\n",
              "  }\n",
              "\n",
              "  @keyframes spin {\n",
              "    0% {\n",
              "      border-color: transparent;\n",
              "      border-bottom-color: var(--fill-color);\n",
              "      border-left-color: var(--fill-color);\n",
              "    }\n",
              "    20% {\n",
              "      border-color: transparent;\n",
              "      border-left-color: var(--fill-color);\n",
              "      border-top-color: var(--fill-color);\n",
              "    }\n",
              "    30% {\n",
              "      border-color: transparent;\n",
              "      border-left-color: var(--fill-color);\n",
              "      border-top-color: var(--fill-color);\n",
              "      border-right-color: var(--fill-color);\n",
              "    }\n",
              "    40% {\n",
              "      border-color: transparent;\n",
              "      border-right-color: var(--fill-color);\n",
              "      border-top-color: var(--fill-color);\n",
              "    }\n",
              "    60% {\n",
              "      border-color: transparent;\n",
              "      border-right-color: var(--fill-color);\n",
              "    }\n",
              "    80% {\n",
              "      border-color: transparent;\n",
              "      border-right-color: var(--fill-color);\n",
              "      border-bottom-color: var(--fill-color);\n",
              "    }\n",
              "    90% {\n",
              "      border-color: transparent;\n",
              "      border-bottom-color: var(--fill-color);\n",
              "    }\n",
              "  }\n",
              "</style>\n",
              "\n",
              "  <script>\n",
              "    async function quickchart(key) {\n",
              "      const quickchartButtonEl =\n",
              "        document.querySelector('#' + key + ' button');\n",
              "      quickchartButtonEl.disabled = true;  // To prevent multiple clicks.\n",
              "      quickchartButtonEl.classList.add('colab-df-spinner');\n",
              "      try {\n",
              "        const charts = await google.colab.kernel.invokeFunction(\n",
              "            'suggestCharts', [key], {});\n",
              "      } catch (error) {\n",
              "        console.error('Error during call to suggestCharts:', error);\n",
              "      }\n",
              "      quickchartButtonEl.classList.remove('colab-df-spinner');\n",
              "      quickchartButtonEl.classList.add('colab-df-quickchart-complete');\n",
              "    }\n",
              "    (() => {\n",
              "      let quickchartButtonEl =\n",
              "        document.querySelector('#df-42405fa7-b8bd-4a89-9f79-6dcf21af5e63 button');\n",
              "      quickchartButtonEl.style.display =\n",
              "        google.colab.kernel.accessAllowed ? 'block' : 'none';\n",
              "    })();\n",
              "  </script>\n",
              "</div>\n",
              "    </div>\n",
              "  </div>\n"
            ]
          },
          "metadata": {},
          "execution_count": 10
        }
      ]
    },
    {
      "cell_type": "code",
      "source": [
        "# HighとLowの差分を追加しましょう\n",
        "range = (ohlcv.get_column('high') - ohlcv.get_column('low')).alias('range')\n",
        "ohlcv = ohlcv.with_columns(range)\n",
        "\n",
        "# 差分の終値に対する比率を追加しましょう\n",
        "range_rate = (range / ohlcv['close']).alias('range_rate')\n",
        "ohlcv = ohlcv.with_columns(range_rate)\n",
        "\n",
        "ohlcv.head()\n"
      ],
      "metadata": {
        "id": "qgNojXpnBMz3",
        "outputId": "10366c61-57f0-436c-b6c8-262152a93fa6",
        "colab": {
          "base_uri": "https://localhost:8080/",
          "height": 255
        }
      },
      "execution_count": null,
      "outputs": [
        {
          "output_type": "execute_result",
          "data": {
            "text/plain": [
              "shape: (5, 9)\n",
              "┌─────────────────────┬──────────┬──────────┬──────────┬───┬──────────┬───────┬───────┬────────────┐\n",
              "│ timestamp           ┆ open     ┆ high     ┆ low      ┆ … ┆ volume   ┆ count ┆ range ┆ range_rate │\n",
              "│ ---                 ┆ ---      ┆ ---      ┆ ---      ┆   ┆ ---      ┆ ---   ┆ ---   ┆ ---        │\n",
              "│ datetime[μs]        ┆ f64      ┆ f64      ┆ f64      ┆   ┆ f64      ┆ u32   ┆ f64   ┆ f64        │\n",
              "╞═════════════════════╪══════════╪══════════╪══════════╪═══╪══════════╪═══════╪═══════╪════════════╡\n",
              "│ 2023-12-12 02:05:00 ┆ 41700.0  ┆ 41700.0  ┆ 41670.0  ┆ … ┆ 19.69278 ┆ 1152  ┆ 30.0  ┆ 0.000719   │\n",
              "│ 2023-12-12 02:06:00 ┆ 41695.99 ┆ 41698.02 ┆ 41682.01 ┆ … ┆ 12.41739 ┆ 743   ┆ 16.01 ┆ 0.000384   │\n",
              "│ 2023-12-12 02:07:00 ┆ 41693.57 ┆ 41709.82 ┆ 41693.56 ┆ … ┆ 12.87403 ┆ 523   ┆ 16.26 ┆ 0.00039    │\n",
              "│ 2023-12-12 02:08:00 ┆ 41708.21 ┆ 41708.21 ┆ 41670.0  ┆ … ┆ 20.33856 ┆ 866   ┆ 38.21 ┆ 0.000917   │\n",
              "│ 2023-12-12 02:09:00 ┆ 41683.96 ┆ 41710.58 ┆ 41683.95 ┆ … ┆ 12.47006 ┆ 661   ┆ 26.63 ┆ 0.000638   │\n",
              "└─────────────────────┴──────────┴──────────┴──────────┴───┴──────────┴───────┴───────┴────────────┘"
            ],
            "text/html": [
              "<div><style>\n",
              ".dataframe > thead > tr > th,\n",
              ".dataframe > tbody > tr > td {\n",
              "  text-align: right;\n",
              "}\n",
              "</style>\n",
              "<small>shape: (5, 9)</small><table border=\"1\" class=\"dataframe\"><thead><tr><th>timestamp</th><th>open</th><th>high</th><th>low</th><th>close</th><th>volume</th><th>count</th><th>range</th><th>range_rate</th></tr><tr><td>datetime[μs]</td><td>f64</td><td>f64</td><td>f64</td><td>f64</td><td>f64</td><td>u32</td><td>f64</td><td>f64</td></tr></thead><tbody><tr><td>2023-12-12 02:05:00</td><td>41700.0</td><td>41700.0</td><td>41670.0</td><td>41695.98</td><td>19.69278</td><td>1152</td><td>30.0</td><td>0.000719</td></tr><tr><td>2023-12-12 02:06:00</td><td>41695.99</td><td>41698.02</td><td>41682.01</td><td>41693.56</td><td>12.41739</td><td>743</td><td>16.01</td><td>0.000384</td></tr><tr><td>2023-12-12 02:07:00</td><td>41693.57</td><td>41709.82</td><td>41693.56</td><td>41708.2</td><td>12.87403</td><td>523</td><td>16.26</td><td>0.00039</td></tr><tr><td>2023-12-12 02:08:00</td><td>41708.21</td><td>41708.21</td><td>41670.0</td><td>41683.96</td><td>20.33856</td><td>866</td><td>38.21</td><td>0.000917</td></tr><tr><td>2023-12-12 02:09:00</td><td>41683.96</td><td>41710.58</td><td>41683.95</td><td>41710.01</td><td>12.47006</td><td>661</td><td>26.63</td><td>0.000638</td></tr></tbody></table></div>"
            ]
          },
          "metadata": {},
          "execution_count": 11
        }
      ]
    },
    {
      "cell_type": "code",
      "source": [
        "import matplotlib.pyplot as plt"
      ],
      "metadata": {
        "id": "Z_xWKQP6Dokr"
      },
      "execution_count": null,
      "outputs": []
    },
    {
      "cell_type": "code",
      "source": [
        "plt.plot(ohlcv['timestamp'], ohlcv['range_rate'])\n",
        "plt.show()"
      ],
      "metadata": {
        "id": "2NUaJ5aqDoY8",
        "outputId": "ed9583dc-946c-4ec3-8a5c-cec45b30d73d",
        "colab": {
          "base_uri": "https://localhost:8080/",
          "height": 430
        }
      },
      "execution_count": null,
      "outputs": [
        {
          "output_type": "display_data",
          "data": {
            "text/plain": [
              "<Figure size 640x480 with 1 Axes>"
            ],
            "image/png": "[encoded data removed]"
          },
          "metadata": {}
        }
      ]
    },
    {
      "cell_type": "code",
      "source": [
        "# range_rateの概要（統計値）を表示する\n",
        "ohlcv['range_rate'].describe()"
      ],
      "metadata": {
        "id": "BbPNEYK9DKq2",
        "outputId": "ad7f3f95-094d-4397-a490-1bcbd693ffb3",
        "colab": {
          "base_uri": "https://localhost:8080/",
          "height": 380
        }
      },
      "execution_count": null,
      "outputs": [
        {
          "output_type": "execute_result",
          "data": {
            "text/plain": [
              "shape: (9, 2)\n",
              "┌────────────┬───────────┐\n",
              "│ statistic  ┆ value     │\n",
              "│ ---        ┆ ---       │\n",
              "│ str        ┆ f64       │\n",
              "╞════════════╪═══════════╡\n",
              "│ count      ┆ 11395.0   │\n",
              "│ null_count ┆ 0.0       │\n",
              "│ mean       ┆ 0.000649  │\n",
              "│ std        ┆ 0.000634  │\n",
              "│ min        ┆ 2.3218e-7 │\n",
              "│ max        ┆ 0.026654  │\n",
              "│ median     ┆ 0.000521  │\n",
              "│ 25%        ┆ 0.000296  │\n",
              "│ 75%        ┆ 0.000836  │\n",
              "└────────────┴───────────┘"
            ],
            "text/html": [
              "<div><style>\n",
              ".dataframe > thead > tr > th,\n",
              ".dataframe > tbody > tr > td {\n",
              "  text-align: right;\n",
              "}\n",
              "</style>\n",
              "<small>shape: (9, 2)</small><table border=\"1\" class=\"dataframe\"><thead><tr><th>statistic</th><th>value</th></tr><tr><td>str</td><td>f64</td></tr></thead><tbody><tr><td>&quot;count&quot;</td><td>11395.0</td></tr><tr><td>&quot;null_count&quot;</td><td>0.0</td></tr><tr><td>&quot;mean&quot;</td><td>0.000649</td></tr><tr><td>&quot;std&quot;</td><td>0.000634</td></tr><tr><td>&quot;min&quot;</td><td>2.3218e-7</td></tr><tr><td>&quot;max&quot;</td><td>0.026654</td></tr><tr><td>&quot;median&quot;</td><td>0.000521</td></tr><tr><td>&quot;25%&quot;</td><td>0.000296</td></tr><tr><td>&quot;75%&quot;</td><td>0.000836</td></tr></tbody></table></div>"
            ]
          },
          "metadata": {},
          "execution_count": 14
        }
      ]
    },
    {
      "cell_type": "code",
      "source": [
        "# rangeの概要（統計値）を表示する\n",
        "ohlcv['range'].describe()"
      ],
      "metadata": {
        "id": "NXGfLMqFHaGH",
        "outputId": "fea31bc1-1d2b-43b1-9a8b-8617d4bc6b4f",
        "colab": {
          "base_uri": "https://localhost:8080/",
          "height": 380
        }
      },
      "execution_count": null,
      "outputs": [
        {
          "output_type": "execute_result",
          "data": {
            "text/plain": [
              "shape: (9, 2)\n",
              "┌────────────┬───────────┐\n",
              "│ statistic  ┆ value     │\n",
              "│ ---        ┆ ---       │\n",
              "│ str        ┆ f64       │\n",
              "╞════════════╪═══════════╡\n",
              "│ count      ┆ 11395.0   │\n",
              "│ null_count ┆ 0.0       │\n",
              "│ mean       ┆ 27.309437 │\n",
              "│ std        ┆ 26.659581 │\n",
              "│ min        ┆ 0.01      │\n",
              "│ max        ┆ 1116.27   │\n",
              "│ median     ┆ 21.91     │\n",
              "│ 25%        ┆ 12.55     │\n",
              "│ 75%        ┆ 35.09     │\n",
              "└────────────┴───────────┘"
            ],
            "text/html": [
              "<div><style>\n",
              ".dataframe > thead > tr > th,\n",
              ".dataframe > tbody > tr > td {\n",
              "  text-align: right;\n",
              "}\n",
              "</style>\n",
              "<small>shape: (9, 2)</small><table border=\"1\" class=\"dataframe\"><thead><tr><th>statistic</th><th>value</th></tr><tr><td>str</td><td>f64</td></tr></thead><tbody><tr><td>&quot;count&quot;</td><td>11395.0</td></tr><tr><td>&quot;null_count&quot;</td><td>0.0</td></tr><tr><td>&quot;mean&quot;</td><td>27.309437</td></tr><tr><td>&quot;std&quot;</td><td>26.659581</td></tr><tr><td>&quot;min&quot;</td><td>0.01</td></tr><tr><td>&quot;max&quot;</td><td>1116.27</td></tr><tr><td>&quot;median&quot;</td><td>21.91</td></tr><tr><td>&quot;25%&quot;</td><td>12.55</td></tr><tr><td>&quot;75%&quot;</td><td>35.09</td></tr></tbody></table></div>"
            ]
          },
          "metadata": {},
          "execution_count": 15
        }
      ]
    },
    {
      "cell_type": "markdown",
      "source": [
        "## まとめ\n",
        "2023年12月21日で試したみたところ、１本足での変化率は平均0.06%ぐらい。具体的な値としては27ドルぐらい。\n",
        "\n",
        "これは１分の間のポジションをオープンしクローズする高頻度だと完璧に変化をあてても２７ドルしか鞘がとれないということ。0.06%のうち、手数料で往復0.02%とられることを考えると残り3分の2になって20ドルの鞘も難しいということらしい。\n",
        "\n",
        "もうすこし長期でかんがてみようかなあ。"
      ],
      "metadata": {
        "id": "9DgZTwPXHHas"
      }
    },
    {
      "cell_type": "code",
      "source": [],
      "metadata": {
        "id": "-U0s6WDTEpo7"
      },
      "execution_count": null,
      "outputs": []
    }
  ],
  "metadata": {
    "kernelspec": {
      "display_name": ".venv",
      "language": "python",
      "name": "python3"
    },
    "language_info": {
      "codemirror_mode": {
        "name": "ipython",
        "version": 3
      },
      "file_extension": ".py",
      "mimetype": "text/x-python",
      "name": "python",
      "nbconvert_exporter": "python",
      "pygments_lexer": "ipython3",
      "version": "3.12.1"
    },
    "colab": {
      "provenance": [],
      "include_colab_link": true
    }
  },
  "nbformat": 4,
  "nbformat_minor": 0
}