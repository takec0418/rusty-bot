{
  "cells": [
    {
      "cell_type": "markdown",
      "metadata": {
        "id": "view-in-github",
        "colab_type": "text"
      },
      "source": [
        "<a href=\"https://colab.research.google.com/github/yasstake/rusty-bot/blob/main/tutorial/skelton_back_test.ipynb\" target=\"_parent\"><img src=\"https://colab.research.google.com/assets/colab-badge.svg\" alt=\"Open In Colab\"/></a>"
      ]
    },
    {
      "cell_type": "markdown",
      "metadata": {
        "id": "zDM8-cMgbz1N"
      },
      "source": [
        "# RustyBot(rbot)のフレームワークスケルトン(BackTest)\n",
        "\n",
        "フレームワークで動かすためのBotの構造サンプルを提供します。\n",
        "\n",
        "`on_init`, `on_tick`, `on_clock`, `on_update`を必要に応じて実装します。\n",
        "\n",
        "バックテストはColabで動きます。試してみてください。\n",
        "\n",
        "\n",
        "参考：\n",
        "forward, real_runはWebSocketが繋げるローカル環境が必要です。\n",
        "* [forward test](./skelton_forward_test.ipynb)\n",
        "* [real run](./skelton_real_run_testnet.ipynb)"
      ]
    },
    {
      "cell_type": "code",
      "execution_count": 2,
      "metadata": {
        "id": "iHPUva_0bz1O"
      },
      "outputs": [],
      "source": [
        "\n",
        "class SkeltonAgent:      # クラス名は任意です\n",
        "    def __init__(self):\n",
        "        \"\"\"Botの初期化処理です。パラメータなどを設定するといいでしょう。利用しなくても構いません。\n",
        "        \"\"\"\n",
        "        self.tick_count = 0         # on_tickが呼び出された回数をカウントします。\n",
        "\n",
        "    def on_init(self, session):\n",
        "        \"\"\"Botの初期化処理。Botの初期化時に一度だけ呼ばれます。\n",
        "        通常はsession.clock_interval_secを指定しon_clockの呼び出し間隔を設定します。\n",
        "        Args:\n",
        "            session: セッション情報（Botの初期化時用に渡されます）\n",
        "        \"\"\"\n",
        "        session.clock_interval_sec = 60 * 60 * 1        # 1時間ごとにon_clockを呼び出す\n",
        "\n",
        "\n",
        "    def on_tick(self, session, side, price, size):\n",
        "        \"\"\"取引所からの全ての約定イベント毎に呼び出される処理です（高頻度で呼び出されます）\n",
        "        Args:\n",
        "            session: セッション情報（市況情報の取得や注文するために利用します)\n",
        "            side: 売買区分です。\"Buy\"または\"Sell\"が設定されます。\n",
        "            price: 約定価格です。\n",
        "            size: 約定数量です。\n",
        "        \"\"\"\n",
        "\n",
        "        # on_tickは高頻度によびだされるので、１万回に1回だけ内容をプリントします。\n",
        "        if self.tick_count % 10_000 == 0:\n",
        "            print(\"on_tick: \", side, price, size)\n",
        "\n",
        "        self.tick_count += 1\n",
        "\n",
        "    def on_clock(self, session, clock):\n",
        "        \"\"\"定期的にフレームワークから呼び出される処理です。\n",
        "        session.clock_interval_secで指定した間隔で呼び出されます。\n",
        "\n",
        "        Args:\n",
        "            session: セッション情報（市況情報の取得や注文するために利用します)\n",
        "            clock: 現在時刻です。エポック時間からのマイクロ秒で表されます。\n",
        "        \"\"\"\n",
        "        # 現在の時刻をプリントします。\n",
        "        print(\"on_clock: \", clock, \": \", time_string(clock))\n",
        "\n",
        "    def on_update(self, session, updated_order):\n",
        "        \"\"\"自分の注文状態が変化した場合に呼び出される処理です。\n",
        "        Args:\n",
        "            session: セッション情報（市況情報の取得や注文するために利用します)\n",
        "            session: セッション情報（市況情報の取得や注文するために利用します)\n",
        "            updated_order: 注文状態が変化した注文情報です。\n",
        "        \"\"\"\n",
        "        # 注文状態が変化した注文情報をプリントします。オーダーを発行しない限り呼び出されません。\n",
        "        print(\"on_update\", updated_order)\n",
        "\n",
        ""
      ]
    },
    {
      "cell_type": "markdown",
      "metadata": {
        "id": "pi97jpFPbz1Q"
      },
      "source": [
        "## バックテストの準備"
      ]
    },
    {
      "cell_type": "code",
      "execution_count": 3,
      "metadata": {
        "id": "YkyNQ-Pxbz1Q",
        "outputId": "d0acc0b9-5454-4a0b-9daf-283064141eb0",
        "colab": {
          "base_uri": "https://localhost:8080/"
        }
      },
      "outputs": [
        {
          "output_type": "stream",
          "name": "stdout",
          "text": [
            "Requirement already satisfied: pip in /usr/local/lib/python3.10/dist-packages (23.1.2)\n",
            "Collecting pip\n",
            "  Downloading pip-23.3.2-py3-none-any.whl (2.1 MB)\n",
            "\u001b[2K     \u001b[90m━━━━━━━━━━━━━━━━━━━━━━━━━━━━━━━━━━━━━━━━\u001b[0m \u001b[32m2.1/2.1 MB\u001b[0m \u001b[31m12.0 MB/s\u001b[0m eta \u001b[36m0:00:00\u001b[0m\n",
            "\u001b[?25hInstalling collected packages: pip\n",
            "  Attempting uninstall: pip\n",
            "    Found existing installation: pip 23.1.2\n",
            "    Uninstalling pip-23.1.2:\n",
            "      Successfully uninstalled pip-23.1.2\n",
            "Successfully installed pip-23.3.2\n",
            "Collecting rbot\n",
            "  Downloading rbot-0.2.13-cp38-abi3-manylinux_2_17_x86_64.manylinux2014_x86_64.whl.metadata (254 bytes)\n",
            "Downloading rbot-0.2.13-cp38-abi3-manylinux_2_17_x86_64.manylinux2014_x86_64.whl (16.1 MB)\n",
            "\u001b[2K   \u001b[90m━━━━━━━━━━━━━━━━━━━━━━━━━━━━━━━━━━━━━━━━\u001b[0m \u001b[32m16.1/16.1 MB\u001b[0m \u001b[31m15.8 MB/s\u001b[0m eta \u001b[36m0:00:00\u001b[0m\n",
            "\u001b[?25hInstalling collected packages: rbot\n",
            "Successfully installed rbot-0.2.13\n",
            "\u001b[33mWARNING: Running pip as the 'root' user can result in broken permissions and conflicting behaviour with the system package manager. It is recommended to use a virtual environment instead: https://pip.pypa.io/warnings/venv\u001b[0m\u001b[33m\n",
            "\u001b[0m"
          ]
        }
      ],
      "source": [
        "# rbotをインストールします。\n",
        "! pip install --upgrade pip\n",
        "! pip install rbot"
      ]
    },
    {
      "cell_type": "code",
      "execution_count": 4,
      "metadata": {
        "id": "8jYiqqWNbz1Q",
        "outputId": "db24a4be-b1a2-4652-bd01-bdccb01c71f8",
        "colab": {
          "base_uri": "https://localhost:8080/"
        }
      },
      "outputs": [
        {
          "output_type": "stream",
          "name": "stdout",
          "text": [
            "rbot version:  0.2.13\n",
            "!!! ABSOLUTELY NO WARRANTY !!!\n",
            "!!!  USE AT YOUR OWN RISK  !!!\n",
            "See document at https://github.com/yasstake/rusty-bot\n",
            " All rights reserved. (c) 2022-2023 rbot developers / yasstake\n"
          ]
        }
      ],
      "source": [
        "# Binanceマーケットを指定します。\n",
        "\n",
        "from rbot import BinanceMarket\n",
        "from rbot import BinanceConfig\n",
        "from rbot import time_string\n",
        "\n",
        "market = BinanceMarket(BinanceConfig.BTCUSDT)"
      ]
    },
    {
      "cell_type": "code",
      "execution_count": 5,
      "metadata": {
        "id": "IjNoddTGbz1Q",
        "outputId": "dde2e615-e6fd-42f1-9ad1-e615458ac1ed",
        "colab": {
          "base_uri": "https://localhost:8080/"
        }
      },
      "outputs": [
        {
          "output_type": "execute_result",
          "data": {
            "text/plain": [
              "1741646"
            ]
          },
          "metadata": {},
          "execution_count": 5
        }
      ],
      "source": [
        "# 過去ログを１日分ダウンロードします。\n",
        "\n",
        "market.download(ndays=1, verbose=True, archive_only=True)\n",
        "\n",
        "# 更新系のオペレーションは１つのプロセスしかできません。他にプロセスがある場合はデッドロックする場合があります。\n",
        "# また大量のファイルをダウンロードするため、ディスク容量に注意してください。\n"
      ]
    },
    {
      "cell_type": "code",
      "execution_count": 6,
      "metadata": {
        "id": "GM1PpuLTbz1Q",
        "outputId": "6de872c8-fbb1-432f-e215-9ba7e3a8b043",
        "colab": {
          "base_uri": "https://localhost:8080/",
          "height": 35
        }
      },
      "outputs": [
        {
          "output_type": "execute_result",
          "data": {
            "text/plain": [
              "'/root/.local/share/rbot/DB/BN/SPOT-BTCUSDT.db'"
            ],
            "application/vnd.google.colaboratory.intrinsic+json": {
              "type": "string"
            }
          },
          "metadata": {},
          "execution_count": 6
        }
      ],
      "source": [
        "# DBの場所は以下の場所にあります。古いバージョンのrbotと非互換が発生した場合などDBファイルを一旦削除してください。\n",
        "market.file_name"
      ]
    },
    {
      "cell_type": "markdown",
      "metadata": {
        "id": "G-3kvXLSbz1R"
      },
      "source": []
    },
    {
      "cell_type": "code",
      "execution_count": 7,
      "metadata": {
        "id": "3GdhFk-Ubz1R",
        "outputId": "076b9ff7-a62c-421d-d32c-c7c514e73e70",
        "colab": {
          "base_uri": "https://localhost:8080/"
        }
      },
      "outputs": [
        {
          "output_type": "stream",
          "name": "stdout",
          "text": [
            "on_clock:  1702890000000000 :  2023-12-18T09:00:00.000000\n",
            "on_tick:  Buy 40987.96 0.00244\n",
            "on_tick:  Buy 41080.0 0.00117\n",
            "on_tick:  Buy 41063.99 0.17856\n",
            "on_clock:  1702893600000000 :  2023-12-18T10:00:00.000000\n",
            "on_tick:  Buy 40958.37 0.00206\n",
            "on_tick:  Sell 40898.81 0.00425\n",
            "on_tick:  Sell 40938.8 0.00015\n",
            "on_tick:  Buy 40813.77 0.02061\n",
            "on_tick:  Buy 40808.27 0.16244\n",
            "on_tick:  Buy 40711.1 0.0006\n",
            "on_tick:  Sell 40668.0 1.13462\n",
            "on_tick:  Sell 40619.0 0.0002\n",
            "on_tick:  Sell 40665.17 0.00082\n",
            "on_tick:  Sell 40751.1 0.00268\n",
            "on_tick:  Sell 40758.15 0.00148\n",
            "on_clock:  1702897200000000 :  2023-12-18T11:00:00.000000\n",
            "on_tick:  Sell 40824.01 0.01251\n",
            "on_tick:  Buy 40905.64 0.00019\n",
            "on_tick:  Buy 41112.53 0.00652\n",
            "on_tick:  Buy 41121.1 0.06307\n",
            "on_tick:  Buy 41131.09 0.00315\n",
            "on_tick:  Sell 41023.86 0.06426\n",
            "on_tick:  Sell 40980.8 0.00273\n",
            "on_tick:  Buy 41013.98 0.5\n",
            "on_clock:  1702900800000000 :  2023-12-18T12:00:00.000000\n",
            "on_tick:  Sell 41107.12 0.01125\n",
            "on_tick:  Sell 41049.98 0.24383\n",
            "on_tick:  Sell 40978.0 0.00214\n",
            "on_tick:  Buy 41049.93 0.06308\n",
            "on_tick:  Sell 40935.67 0.00092\n",
            "on_tick:  Sell 40931.2 0.00015\n",
            "on_clock:  1702904400000000 :  2023-12-18T13:00:00.000000\n",
            "on_tick:  Buy 40936.98 0.45\n",
            "on_tick:  Buy 41092.58 0.00492\n",
            "on_tick:  Sell 41124.81 0.04839\n",
            "on_tick:  Sell 41243.65 0.00891\n",
            "on_tick:  Buy 41300.01 0.00125\n",
            "on_tick:  Buy 41270.0 0.00188\n",
            "on_tick:  Buy 41216.41 0.0018\n",
            "on_tick:  Buy 41259.99 0.00118\n",
            "on_tick:  Buy 41329.4 0.00062\n",
            "on_tick:  Sell 41393.88 0.00724\n",
            "on_clock:  1702908000000000 :  2023-12-18T14:00:00.000000\n",
            "on_tick:  Sell 41374.23 0.00063\n",
            "on_tick:  Sell 41348.9 0.00062\n",
            "on_tick:  Sell 41331.22 0.00062\n",
            "on_tick:  Sell 41460.0 0.1471\n",
            "on_tick:  Sell 41538.46 0.00059\n",
            "on_tick:  Sell 41605.0 0.00062\n",
            "on_tick:  Buy 41666.0 0.00117\n",
            "on_tick:  Sell 41657.72 0.001\n",
            "on_tick:  Buy 41672.21 0.00232\n",
            "on_tick:  Buy 41715.42 0.00048\n",
            "on_tick:  Buy 41605.26 0.00062\n",
            "on_clock:  1702911600000000 :  2023-12-18T15:00:00.000000\n",
            "on_tick:  Buy 41634.85 0.00205\n",
            "on_tick:  Buy 41492.16 0.00062\n",
            "on_tick:  Buy 41459.17 0.00048\n",
            "on_tick:  Buy 41420.85 0.00013\n",
            "on_tick:  Sell 41391.2 0.00025\n",
            "on_tick:  Buy 41376.75 0.01208\n",
            "on_tick:  Buy 41399.21 0.13717\n",
            "on_tick:  Sell 41291.44 0.00239\n",
            "on_clock:  1702915200000000 :  2023-12-18T16:00:00.000000\n",
            "on_tick:  Sell 41297.86 0.45\n",
            "on_tick:  Buy 41178.6 0.00062\n",
            "on_tick:  Sell 41352.94 0.00027\n",
            "on_tick:  Sell 41401.77 0.01055\n",
            "on_tick:  Buy 41380.74 0.01314\n",
            "on_tick:  Buy 41465.12 0.00768\n",
            "on_clock:  1702918800000000 :  2023-12-18T17:00:00.000000\n",
            "on_tick:  Sell 41507.98 0.00246\n",
            "on_tick:  Sell 41433.14 0.00062\n",
            "on_tick:  Sell 41537.1 0.79488\n",
            "on_tick:  Sell 41624.76 0.00062\n",
            "on_tick:  Buy 41544.15 0.01193\n",
            "on_tick:  Buy 41533.17 0.01203\n",
            "on_clock:  1702922400000000 :  2023-12-18T18:00:00.000000\n",
            "on_tick:  Buy 41369.03 0.01969\n",
            "on_tick:  Buy 41460.44 0.00118\n",
            "on_tick:  Buy 41477.85 0.00039\n",
            "on_tick:  Sell 41523.01 0.00188\n",
            "on_clock:  1702926000000000 :  2023-12-18T19:00:00.000000\n",
            "on_tick:  Sell 41661.94 0.00062\n",
            "on_tick:  Buy 41701.98 0.00062\n",
            "on_tick:  Sell 41702.72 0.00222\n",
            "on_tick:  Buy 41662.69 0.01997\n",
            "on_tick:  Sell 41664.5 0.00222\n",
            "on_tick:  Buy 41710.13 0.00117\n",
            "on_clock:  1702929600000000 :  2023-12-18T20:00:00.000000\n",
            "on_tick:  Buy 41745.99 0.00035\n",
            "on_tick:  Sell 41674.01 0.00364\n",
            "on_tick:  Sell 41659.44 0.0006\n",
            "on_tick:  Buy 41803.3 0.00192\n",
            "on_tick:  Sell 41838.38 0.00389\n",
            "on_tick:  Buy 41944.15 0.00116\n",
            "on_tick:  Sell 42000.0 0.4029\n",
            "on_clock:  1702933200000000 :  2023-12-18T21:00:00.000000\n",
            "on_tick:  Buy 42019.98 0.00116\n",
            "on_tick:  Buy 42126.0 0.00116\n",
            "on_tick:  Buy 42246.0 0.00048\n",
            "on_tick:  Sell 42362.96 0.02\n",
            "on_tick:  Sell 42473.2 0.00013\n",
            "on_tick:  Buy 42415.99 0.05\n",
            "on_tick:  Sell 42368.28 0.00161\n",
            "on_tick:  Sell 42425.08 0.039\n",
            "on_tick:  Buy 42398.04 0.00049\n",
            "on_tick:  Buy 42450.08 0.02419\n",
            "on_tick:  Sell 42498.66 0.05126\n",
            "on_tick:  Buy 42620.01 0.00114\n",
            "on_tick:  Buy 42713.5 0.00114\n",
            "on_tick:  Buy 42690.91 0.00024\n",
            "on_tick:  Buy 42579.64 0.02\n",
            "on_clock:  1702936800000000 :  2023-12-18T22:00:00.000000\n",
            "on_tick:  Sell 42569.44 0.0002\n",
            "on_tick:  Buy 42465.34 0.00062\n",
            "on_tick:  Sell 42674.64 0.00062\n",
            "on_tick:  Sell 42611.67 0.00114\n",
            "on_tick:  Sell 42476.26 0.00062\n",
            "on_tick:  Sell 42455.42 0.00513\n",
            "on_tick:  Buy 42493.66 0.00995\n",
            "on_clock:  1702940400000000 :  2023-12-18T23:00:00.000000\n",
            "on_tick:  Buy 42658.41 0.03403\n",
            "on_tick:  Buy 42642.0 0.00035\n",
            "on_tick:  Buy 42588.84 0.00062\n",
            "on_tick:  Sell 42637.46 0.00062\n",
            "on_tick:  Sell 42669.22 0.00322\n"
          ]
        },
        {
          "output_type": "execute_result",
          "data": {
            "text/plain": [
              "{\"timestamp\":1702943999999000,\"timestamp_str\": 2023-12-18T23:59:59.999000,\n",
              "\"orders\":{\"buy\":{\"asc\":false,\"list\":[]}, \"sell\":{\"asc\":true,\"list\":[]}}, \n",
              "\"account\":{\"home\":\"0.0\",\"home_free\":\"0.0\",\"home_locked\":\"0.0\",\"foreign\":\"0.0\",\"foreign_free\":\"0.0\",\"foreign_locked\":\"0.0\"}, \"psudo_account\":{\"home\":\"0.0\",\"home_free\":\"0.0\",\"home_locked\":\"0.0\",\"foreign\":\"0.0\",\"foreign_free\":\"0.0\",\"foreign_locked\":\"0.0\"},\"psudo_position\":0.0}"
            ]
          },
          "metadata": {},
          "execution_count": 7
        }
      ],
      "source": [
        "from rbot import Runner\n",
        "from rbot import NOW, DAYS\n",
        "\n",
        "agent = SkeltonAgent()\n",
        "runner = Runner()\n",
        "\n",
        "session = runner.back_test(\n",
        "                market=market,\n",
        "                agent=agent,\n",
        "                start_time=NOW() - DAYS(1),\n",
        "                end_time=0,\n",
        "                verbose=True\n",
        "            )\n",
        "\n",
        "session"
      ]
    },
    {
      "cell_type": "code",
      "execution_count": 11,
      "metadata": {
        "id": "dPXiJr2ybz1R"
      },
      "outputs": [],
      "source": [
        "# 実行したセッションからログオブジェクトを取得して分析します。\n",
        "# 今回はAgentがなにもしていないのでログがありませんが、\n",
        "# 以下流れを示します。\n",
        "log = session.log"
      ]
    },
    {
      "cell_type": "code",
      "execution_count": 9,
      "metadata": {
        "id": "67DaN7Bvbz1S",
        "outputId": "280e8ec0-a2e5-40de-f8b1-025cd8ba8b60",
        "colab": {
          "base_uri": "https://localhost:8080/",
          "height": 118
        }
      },
      "outputs": [
        {
          "output_type": "execute_result",
          "data": {
            "text/plain": [
              "shape: (0, 35)\n",
              "┌────────┬────────┬──────────────┬──────────────┬───┬────────┬─────┬──────────────┬────────────┐\n",
              "│ log_id ┆ symbol ┆ update_time  ┆ create_time  ┆ … ┆ profit ┆ fee ┆ total_profit ┆ sum_profit │\n",
              "│ ---    ┆ ---    ┆ ---          ┆ ---          ┆   ┆ ---    ┆ --- ┆ ---          ┆ ---        │\n",
              "│ i64    ┆ str    ┆ datetime[μs] ┆ datetime[μs] ┆   ┆ f64    ┆ f64 ┆ f64          ┆ f64        │\n",
              "╞════════╪════════╪══════════════╪══════════════╪═══╪════════╪═════╪══════════════╪════════════╡\n",
              "└────────┴────────┴──────────────┴──────────────┴───┴────────┴─────┴──────────────┴────────────┘"
            ],
            "text/html": [
              "<div><style>\n",
              ".dataframe > thead > tr > th,\n",
              ".dataframe > tbody > tr > td {\n",
              "  text-align: right;\n",
              "}\n",
              "</style>\n",
              "<small>shape: (0, 35)</small><table border=\"1\" class=\"dataframe\"><thead><tr><th>log_id</th><th>symbol</th><th>update_time</th><th>create_time</th><th>status</th><th>order_id</th><th>client_order_id</th><th>order_side</th><th>order_type</th><th>order_price</th><th>order_size</th><th>remain_size</th><th>transaction_id</th><th>execute_price</th><th>execute_size</th><th>quote_vol</th><th>commission</th><th>commission_asset</th><th>is_maker</th><th>message</th><th>commission_home</th><th>commission_foreign</th><th>home_change</th><th>foreign_change</th><th>free_home_change</th><th>free_foreign_change</th><th>lock_home_change</th><th>lock_foreign_change</th><th>open_position</th><th>close_position</th><th>position</th><th>profit</th><th>fee</th><th>total_profit</th><th>sum_profit</th></tr><tr><td>i64</td><td>str</td><td>datetime[μs]</td><td>datetime[μs]</td><td>str</td><td>str</td><td>str</td><td>str</td><td>str</td><td>f64</td><td>f64</td><td>f64</td><td>str</td><td>f64</td><td>f64</td><td>f64</td><td>f64</td><td>str</td><td>bool</td><td>str</td><td>f64</td><td>f64</td><td>f64</td><td>f64</td><td>f64</td><td>f64</td><td>f64</td><td>f64</td><td>f64</td><td>f64</td><td>f64</td><td>f64</td><td>f64</td><td>f64</td><td>f64</td></tr></thead><tbody></tbody></table></div>"
            ]
          },
          "metadata": {},
          "execution_count": 9
        }
      ],
      "source": [
        "# 今回はオーダー発行していないので出力されません。\n",
        "log.orders"
      ]
    },
    {
      "cell_type": "code",
      "execution_count": 10,
      "metadata": {
        "id": "P64wUBqebz1S",
        "outputId": "6553646c-4f5b-438b-8225-d67244c49622",
        "colab": {
          "base_uri": "https://localhost:8080/",
          "height": 98
        }
      },
      "outputs": [
        {
          "output_type": "execute_result",
          "data": {
            "text/plain": [
              "shape: (0, 2)\n",
              "┌──────────────┬────────────┐\n",
              "│ timestamp    ┆ indicators │\n",
              "│ ---          ┆ ---        │\n",
              "│ datetime[μs] ┆ f64        │\n",
              "╞══════════════╪════════════╡\n",
              "└──────────────┴────────────┘"
            ],
            "text/html": [
              "<div><style>\n",
              ".dataframe > thead > tr > th,\n",
              ".dataframe > tbody > tr > td {\n",
              "  text-align: right;\n",
              "}\n",
              "</style>\n",
              "<small>shape: (0, 2)</small><table border=\"1\" class=\"dataframe\"><thead><tr><th>timestamp</th><th>indicators</th></tr><tr><td>datetime[μs]</td><td>f64</td></tr></thead><tbody></tbody></table></div>"
            ]
          },
          "metadata": {},
          "execution_count": 10
        }
      ],
      "source": [
        "# 今回はインジケーターを保存していないので出力されません。\n",
        "# Agent中で session.log_indicator(\"indicator\", 1.0)\n",
        "# のように保存すると、保存時刻と値がDataFrameで取得できます。\n",
        "# キーとなる文字列は任意のものが任意数利用できます。\n",
        "log['indicators']"
      ]
    },
    {
      "cell_type": "code",
      "execution_count": null,
      "metadata": {
        "id": "t_TPpofvbz1S"
      },
      "outputs": [],
      "source": []
    }
  ],
  "metadata": {
    "kernelspec": {
      "display_name": ".venv",
      "language": "python",
      "name": "python3"
    },
    "language_info": {
      "codemirror_mode": {
        "name": "ipython",
        "version": 3
      },
      "file_extension": ".py",
      "mimetype": "text/x-python",
      "name": "python",
      "nbconvert_exporter": "python",
      "pygments_lexer": "ipython3",
      "version": "3.9.6"
    },
    "colab": {
      "provenance": [],
      "include_colab_link": true
    }
  },
  "nbformat": 4,
  "nbformat_minor": 0
}