{
  "cells": [
    {
      "cell_type": "markdown",
      "metadata": {
        "id": "dQoP2GzF3QHt"
      },
      "source": [
        "<a target=\"_blank\" href=\"https://colab.research.google.com/github/yasstake/rusty-bot/blob/main/manual/time.ipynb\">\n",
        "  <img src=\"https://colab.research.google.com/assets/colab-badge.svg\" alt=\"Open In Colab\"/>\n",
        "</a>"
      ]
    },
    {
      "cell_type": "markdown",
      "metadata": {
        "id": "UlduhzZp3OIg"
      },
      "source": [
        "# rbotの提供する時刻ユーティリティについて\n",
        "\n",
        "パッケージrbot内では、時刻についてはUTCからの経過時間(μs)で統一されています。\n",
        "\n",
        "（例外は、ohlcvなどに使う「期間」についての秒、ログの`download`で使う日数となります）\n",
        "\n",
        "μsでの表現は、コンピュータ処理には便利ですが人間にはわかりにくいのでヘルパー関数を提供しています。以下動かしながら説明します。\n",
        "\n",
        "### 一覧\n",
        "\n",
        "* `time_string(timestamp)` timestampをわかりやすい文字列へ変換する\n",
        "* `NOW()`\n",
        "* `DAYS_BEFORE(ndays)`　現在のndaysで指定した日付前のタイムスタンプ\n",
        "\n",
        "* `DAYS(ndays)` ndaysで指定したの期間をμsで表現\n",
        "* `HHMM(hh, mm)` hh時、mm分の期間をμsで表現\n",
        "* `MIN(min)` minで指定された分をμsで表現\n",
        "* `SEC(sec)` secで指定された秒をμsで表現"
      ]
    },
    {
      "cell_type": "markdown",
      "metadata": {
        "id": "DNET84zk3jU7"
      },
      "source": [
        "## Google Collab 用パッケージインストール"
      ]
    },
    {
      "cell_type": "code",
      "execution_count": 1,
      "metadata": {
        "colab": {
          "base_uri": "https://localhost:8080/"
        },
        "id": "wOPhbLiE3UNL",
        "outputId": "ec23e62c-1e71-469e-e7b9-0338f5296937"
      },
      "outputs": [
        {
          "output_type": "stream",
          "name": "stdout",
          "text": [
            "Looking in indexes: https://pypi.org/simple, https://us-python.pkg.dev/colab-wheels/public/simple/\n",
            "Requirement already satisfied: pip in /usr/local/lib/python3.8/dist-packages (21.1.3)\n",
            "Collecting pip\n",
            "  Downloading pip-22.3.1-py3-none-any.whl (2.1 MB)\n",
            "\u001b[K     |████████████████████████████████| 2.1 MB 5.3 MB/s \n",
            "\u001b[?25hInstalling collected packages: pip\n",
            "  Attempting uninstall: pip\n",
            "    Found existing installation: pip 21.1.3\n",
            "    Uninstalling pip-21.1.3:\n",
            "      Successfully uninstalled pip-21.1.3\n",
            "Successfully installed pip-22.3.1\n",
            "Looking in indexes: https://pypi.org/simple, https://us-python.pkg.dev/colab-wheels/public/simple/\n",
            "Requirement already satisfied: numpy in /usr/local/lib/python3.8/dist-packages (1.21.6)\n",
            "\u001b[33mWARNING: Running pip as the 'root' user can result in broken permissions and conflicting behaviour with the system package manager. It is recommended to use a virtual environment instead: https://pip.pypa.io/warnings/venv\u001b[0m\u001b[33m\n",
            "\u001b[0mLooking in indexes: https://pypi.org/simple, https://us-python.pkg.dev/colab-wheels/public/simple/\n",
            "Requirement already satisfied: pandas in /usr/local/lib/python3.8/dist-packages (1.3.5)\n",
            "Requirement already satisfied: python-dateutil>=2.7.3 in /usr/local/lib/python3.8/dist-packages (from pandas) (2.8.2)\n",
            "Requirement already satisfied: pytz>=2017.3 in /usr/local/lib/python3.8/dist-packages (from pandas) (2022.6)\n",
            "Requirement already satisfied: numpy>=1.17.3 in /usr/local/lib/python3.8/dist-packages (from pandas) (1.21.6)\n",
            "Requirement already satisfied: six>=1.5 in /usr/local/lib/python3.8/dist-packages (from python-dateutil>=2.7.3->pandas) (1.15.0)\n",
            "\u001b[33mWARNING: Running pip as the 'root' user can result in broken permissions and conflicting behaviour with the system package manager. It is recommended to use a virtual environment instead: https://pip.pypa.io/warnings/venv\u001b[0m\u001b[33m\n",
            "\u001b[0mFound existing installation: panel 0.12.1\n",
            "Uninstalling panel-0.12.1:\n",
            "  Successfully uninstalled panel-0.12.1\n",
            "\u001b[33mWARNING: Running pip as the 'root' user can result in broken permissions and conflicting behaviour with the system package manager. It is recommended to use a virtual environment instead: https://pip.pypa.io/warnings/venv\u001b[0m\u001b[33m\n",
            "\u001b[0m\u001b[33mWARNING: Running pip as the 'root' user can result in broken permissions and conflicting behaviour with the system package manager. It is recommended to use a virtual environment instead: https://pip.pypa.io/warnings/venv\u001b[0m\u001b[33m\n",
            "\u001b[0mLooking in indexes: https://pypi.org/simple, https://us-python.pkg.dev/colab-wheels/public/simple/\n",
            "Collecting rbot==0.2.0\n",
            "  Downloading https://github.com/yasstake/rusty-bot/releases/download/release-0.2.0a/rbot-0.2.0-cp38-cp38-manylinux_2_17_x86_64.manylinux2014_x86_64.whl (11.9 MB)\n",
            "\u001b[2K     \u001b[90m━━━━━━━━━━━━━━━━━━━━━━━━━━━━━━━━━━━━━━━━\u001b[0m \u001b[32m11.9/11.9 MB\u001b[0m \u001b[31m63.2 MB/s\u001b[0m eta \u001b[36m0:00:00\u001b[0m\n",
            "\u001b[?25hInstalling collected packages: rbot\n",
            "Successfully installed rbot-0.2.0\n",
            "\u001b[33mWARNING: Running pip as the 'root' user can result in broken permissions and conflicting behaviour with the system package manager. It is recommended to use a virtual environment instead: https://pip.pypa.io/warnings/venv\u001b[0m\u001b[33m\n",
            "\u001b[0m"
          ]
        }
      ],
      "source": [
        "# Google Clab用です。必要に応じてコメントアウトしてください\n",
        "! pip install --upgrade pip\n",
        "! pip install numpy\n",
        "! pip install pandas\n",
        "! pip uninstall -y panel\n",
        "! pip install --upgrade bokeh >= 3\n",
        "\n",
        "\n",
        "# https://github.com/yasstake/rusty-bot/releases/\n",
        "# （環境にあわせて修正お願いします。404エラーが出た場合は新しいリリースになっているので上記URLを確認してください）\n",
        "# Linux/Google Collab用\n",
        "!  pip install https://github.com/yasstake/rusty-bot/releases/download/release-0.2.0a/rbot-0.2.0-cp38-cp38-manylinux_2_17_x86_64.manylinux2014_x86_64.whl\n"
      ]
    },
    {
      "cell_type": "markdown",
      "metadata": {
        "id": "dyNKk-sr3bMD"
      },
      "source": [
        "## 動かしながら使い方説明"
      ]
    },
    {
      "cell_type": "code",
      "execution_count": 2,
      "metadata": {
        "colab": {
          "base_uri": "https://localhost:8080/"
        },
        "id": "ZPSvdmzo3OIj",
        "outputId": "6cb6d69f-c2d7-4713-f62a-a2e52c4fae63"
      },
      "outputs": [
        {
          "output_type": "stream",
          "name": "stdout",
          "text": [
            "1970-01-01T00:00:00.000000\n"
          ]
        }
      ],
      "source": [
        "from rbot import time_string\n",
        "\n",
        "# エポック日が表示される\n",
        "print(time_string(0))"
      ]
    },
    {
      "cell_type": "code",
      "execution_count": 3,
      "metadata": {
        "colab": {
          "base_uri": "https://localhost:8080/"
        },
        "id": "q0YUZA4j3OIk",
        "outputId": "c265737c-af4e-49c0-e3fb-d3e0e2861e30"
      },
      "outputs": [
        {
          "output_type": "stream",
          "name": "stdout",
          "text": [
            "現在時刻:  1671691171075881\n",
            "文字表現:  2022-12-22T06:39:31.075881\n"
          ]
        }
      ],
      "source": [
        "from rbot import NOW\n",
        "\n",
        "time_now = NOW()\n",
        "print('現在時刻: ', time_now)\n",
        "print('文字表現: ', time_string(time_now))"
      ]
    },
    {
      "cell_type": "code",
      "execution_count": 4,
      "metadata": {
        "colab": {
          "base_uri": "https://localhost:8080/"
        },
        "id": "tgN7jE5L3OIk",
        "outputId": "b0291c80-7595-4991-a965-b65233e37782"
      },
      "outputs": [
        {
          "output_type": "stream",
          "name": "stdout",
          "text": [
            "昨日： 1671604771088703  /  2022-12-21T06:39:31.088703\n"
          ]
        }
      ],
      "source": [
        "from rbot import DAYS_BEFORE\n",
        "\n",
        "last_day = DAYS_BEFORE(1)\n",
        "print('昨日：', last_day, ' / ', time_string(last_day))"
      ]
    },
    {
      "cell_type": "code",
      "execution_count": 5,
      "metadata": {
        "colab": {
          "base_uri": "https://localhost:8080/"
        },
        "id": "egdqmYLz3OIk",
        "outputId": "2a26a3f9-a0ac-41d2-c220-762a7c582285"
      },
      "outputs": [
        {
          "output_type": "stream",
          "name": "stdout",
          "text": [
            "24時間は  86400000000 μs\n",
            "9時間と10分間は  33000000000 μs\n",
            "10分間は  600000000 μs\n",
            "1秒間は  1000000 μs\n"
          ]
        }
      ],
      "source": [
        "from rbot import DAYS\n",
        "print('24時間は ', DAYS(1), 'μs')  \n",
        "\n",
        "from rbot import HHMM\n",
        "print('9時間と10分間は ', HHMM(9, 10), 'μs')\n",
        "\n",
        "from rbot import MIN\n",
        "print('10分間は ', MIN(10), 'μs')\n",
        "\n",
        "from rbot import SEC\n",
        "print('1秒間は ', SEC(1), 'μs')"
      ]
    },
    {
      "cell_type": "code",
      "execution_count": 5,
      "metadata": {
        "id": "CAThTov53OIl"
      },
      "outputs": [],
      "source": []
    }
  ],
  "metadata": {
    "colab": {
      "provenance": []
    },
    "kernelspec": {
      "display_name": "venv",
      "language": "python",
      "name": "python3"
    },
    "language_info": {
      "codemirror_mode": {
        "name": "ipython",
        "version": 3
      },
      "file_extension": ".py",
      "mimetype": "text/x-python",
      "name": "python",
      "nbconvert_exporter": "python",
      "pygments_lexer": "ipython3",
      "version": "3.10.6 (main, Aug 30 2022, 04:58:14) [Clang 13.1.6 (clang-1316.0.21.2.5)]"
    },
    "orig_nbformat": 4,
    "vscode": {
      "interpreter": {
        "hash": "e69bbd470bf1393b14609a6bb37f84ea05c8b778927caf2a584647f90d922fc5"
      }
    }
  },
  "nbformat": 4,
  "nbformat_minor": 0
}