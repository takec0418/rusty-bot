{
 "cells": [
  {
   "attachments": {},
   "cell_type": "markdown",
   "metadata": {},
   "source": [
    "# rbotの提供する時刻ユーティリティについて\n",
    "\n",
    "パッケージrbot内では、時刻についてはUTCからの経過時間(μs)で統一されています。\n",
    "\n",
    "（例外は、ohlcvなどに使う「期間」についての秒、ログの`download`で使う日数となります）\n",
    "\n",
    "μsでの表現は、コンピュータ処理には便利ですが人間にはわかりにくいのでヘルパー関数を提供しています。以下動かしながら説明します。\n",
    "\n",
    "### 一覧\n",
    "\n",
    "* `time_string(timestamp)` timestampをわかりやすい文字列へ変換する\n",
    "* `NOW()`\n",
    "* `DAYS_BEFORE(ndays)`　現在のndaysで指定した日付前のタイムスタンプ\n",
    "\n",
    "* `DAYS(ndays)` ndaysで指定したの期間をμsで表現\n",
    "* `HHMM(hh, mm)` hh時、mm分の期間をμsで表現\n",
    "* `MIN(min)` minで指定された分をμsで表現\n",
    "* `SEC(sec)` secで指定された秒をμsで表現"
   ]
  },
  {
   "cell_type": "code",
   "execution_count": null,
   "metadata": {},
   "outputs": [],
   "source": [
    "from rbot import time_string\n",
    "\n",
    "# エポック日が表示される\n",
    "print(time_string(0))"
   ]
  },
  {
   "cell_type": "code",
   "execution_count": null,
   "metadata": {},
   "outputs": [],
   "source": [
    "from rbot import NOW\n",
    "\n",
    "time_now = NOW()\n",
    "print('現在時刻: ', time_now)\n",
    "print('文字表現: ', time_string(time_now))"
   ]
  },
  {
   "cell_type": "code",
   "execution_count": null,
   "metadata": {},
   "outputs": [],
   "source": [
    "from rbot import DAYS_BEFORE\n",
    "\n",
    "last_day = DAYS_BEFORE(1)\n",
    "print('昨日：', last_day, ' / ', time_string(last_day))"
   ]
  },
  {
   "cell_type": "code",
   "execution_count": null,
   "metadata": {},
   "outputs": [],
   "source": [
    "from rbot import DAYS\n",
    "print('24時間は ', DAYS(1), 'μs')  \n",
    "\n",
    "from rbot import HHMM\n",
    "print('9時間と10分間は ', HHMM(9, 10), 'μs')\n",
    "\n",
    "from rbot import MIN\n",
    "print('10分間は ', MIN(10), 'μs')\n",
    "\n",
    "from rbot import SEC\n",
    "print('1秒間は ', SEC(1), 'μs')"
   ]
  },
  {
   "cell_type": "code",
   "execution_count": null,
   "metadata": {},
   "outputs": [],
   "source": []
  }
 ],
 "metadata": {
  "kernelspec": {
   "display_name": "venv",
   "language": "python",
   "name": "python3"
  },
  "language_info": {
   "codemirror_mode": {
    "name": "ipython",
    "version": 3
   },
   "file_extension": ".py",
   "mimetype": "text/x-python",
   "name": "python",
   "nbconvert_exporter": "python",
   "pygments_lexer": "ipython3",
   "version": "3.10.6 (main, Aug 30 2022, 04:58:14) [Clang 13.1.6 (clang-1316.0.21.2.5)]"
  },
  "orig_nbformat": 4,
  "vscode": {
   "interpreter": {
    "hash": "e69bbd470bf1393b14609a6bb37f84ea05c8b778927caf2a584647f90d922fc5"
   }
  }
 },
 "nbformat": 4,
 "nbformat_minor": 2
}
