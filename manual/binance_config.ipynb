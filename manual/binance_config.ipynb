{
 "cells": [
  {
   "cell_type": "markdown",
   "metadata": {},
   "source": [
    "# BinanceConfigクラス\n",
    "\n",
    "[api一覧はこちら](./manual.ipynb)\n",
    "\n",
    "Binanceの設定ファイルです。\n",
    "今のところ、\n",
    "* BTCUSDT 本番用\n",
    "* TEST_BTCUSDT テスト用\n",
    "のみサポートしています。\n",
    "\n",
    "プロパティは書き込み可能なため、Binanceの取り扱い通貨にあわせて変更することができます。\n",
    "\n",
    "## 使い方\n",
    "\n",
    "### KEYとSECRETを設定する(本番のみ)\n",
    "環境変数に以下２つを設定してください。\n",
    "* BINANCE_API_KEY\n",
    "* BINANCE_API_SECRET\n",
    "\n",
    "### DBのルートディレクトリを設定する（任意）\n",
    "`db_base_dir`にDBのルートディレクトリを設定してください。指定しないとSystemDirに保存されます。Binanceクラスの`file_name`プロパティでDBのパスを取得できます。\n"
   ]
  },
  {
   "cell_type": "code",
   "execution_count": null,
   "metadata": {},
   "outputs": [],
   "source": [
    "! pip install --upgrade pip\n",
    "! pip install rbot\n",
    "! pip install json2html"
   ]
  },
  {
   "cell_type": "code",
   "execution_count": null,
   "metadata": {},
   "outputs": [],
   "source": [
    "from rbot import BinanceConfig\n",
    "from json2html import *\n",
    "from IPython.display import HTML"
   ]
  },
  {
   "cell_type": "code",
   "execution_count": null,
   "metadata": {},
   "outputs": [],
   "source": [
    "# 本番用設定です\n",
    "BinanceConfig.BTCUSDT"
   ]
  },
  {
   "cell_type": "code",
   "execution_count": null,
   "metadata": {},
   "outputs": [],
   "source": [
    "# 中身を表示します。\n",
    "HTML(json2html.convert(json = BinanceConfig.BTCUSDT.__repr__()))"
   ]
  },
  {
   "cell_type": "code",
   "execution_count": null,
   "metadata": {},
   "outputs": [],
   "source": [
    "# テストネット用設定です\n",
    "BinanceConfig.TEST_BTCUSDT"
   ]
  },
  {
   "cell_type": "code",
   "execution_count": null,
   "metadata": {},
   "outputs": [],
   "source": [
    "# 中身を表示します。\n",
    "HTML(json2html.convert(json = BinanceConfig.TEST_BTCUSDT.__repr__()))"
   ]
  }
 ],
 "metadata": {
  "kernelspec": {
   "display_name": ".venv",
   "language": "python",
   "name": "python3"
  },
  "language_info": {
   "codemirror_mode": {
    "name": "ipython",
    "version": 3
   },
   "file_extension": ".py",
   "mimetype": "text/x-python",
   "name": "python",
   "nbconvert_exporter": "python",
   "pygments_lexer": "ipython3",
   "version": "3.9.6"
  }
 },
 "nbformat": 4,
 "nbformat_minor": 2
}
