{
  "cells": [
    {
      "cell_type": "markdown",
      "metadata": {
        "id": "hkkD-cZeUwuw"
      },
      "source": [
        "# Binance用オーダー発行API\n",
        "\n",
        "`BinanceMarket`は、通過ペアー毎に以下の機能を提供します。\n",
        "\n",
        "* 蓄積用データベースの生成（Sqlite)\n",
        "* 約定データのダウンロードと更新\n",
        "  * 過去データのダウンロード(Binance Webサイト)\n",
        "  * リアルタイム更新(WebSocket)\n",
        "* 約定データのDBからの取得と足の作成\n",
        "  * 任意の期間の足の作成(`ohlcv`メソッド)\n",
        "  * VAP(Value At Price)の計算(`vap`メソッド)\n",
        "* オーダーの発行・キャンセル（REST API)　KEYとSECRETの設定が必要です。\n",
        "\n",
        "また通過ペアーの設定は`BinanceConfig`クラスに定義してあります。パラーメータを修正することで任意の通過ペアーに対応可能ですが、テスト完了して提供しているものは以下になります。\n",
        "* `BinanceConfig.BTCUSDT` 本番用BTCUSDTペアー（現物）\n",
        "* `BinanceConfig.TEST_BTCUSDT`　テストネット用BTCUSDTペアー（現物）\n",
        "\n",
        "## 本サンプルの機能\n",
        "\n",
        "本サンプルでは以下を行います。\n",
        "\n",
        "* オーダーの発行(Limit, Market)\n",
        "* オーダーの検索\n",
        "* オーダーのキャンセル\n",
        "* 資産残高の確認\n",
        "\n",
        "### 利用している関数\n",
        "* オーダー発行\n",
        "  * `limit_order(side, price, size)` リミットオーダーの発行\n",
        "  * `market_order(side, size)`　マーケットオーダーの発行\n",
        "* オーダー状況確認\n",
        "  * `order_status`　オーダーステータスの確認（約定済みも含めた直近のもの）\n",
        "  * `open_orders`　未約定一覧\n",
        "* オーダーキャンセル\n",
        "  * `cancel_order(order_id)`　指定したIDのオーダキャンセル\n",
        "  * `cancel_all_orders()`　未約定のオーダーのキャンセル\n",
        "* アカウント情報\n",
        "  * `account`　アカウント情報（残高など）\n",
        "\n",
        "## API KEYについて（注：まずはテストネットで試してください）\n",
        "動作させるためにはAPI KEYが必要です。\n",
        "ローカル環境では、以下の値を環境変数に指定してください。\n",
        "* BINANCE_API_KEY   APIキー\n",
        "* BINANCE_API_SERECT  シークレット\n",
        "\n",
        "Google Clabでは、userdataに設定してください（Colabのページの左側ツールバーにある🔑マークをクリック）。"
      ]
    },
    {
      "cell_type": "markdown",
      "metadata": {
        "id": "NoPGieGZUwuy"
      },
      "source": [
        "## 必要ライブラリのインストール\n",
        "\n",
        "`rbot`がBotFrameWorkの本体です。必要なライブラリを合わせてインストールします。インストール後ランタイムの再起動が必要になる場合があります。"
      ]
    },
    {
      "cell_type": "code",
      "execution_count": 1,
      "metadata": {
        "id": "Aeg-iHJxUwuy",
        "outputId": "978b4f3d-b558-4f8b-da18-a01dd9fcb18d",
        "colab": {
          "base_uri": "https://localhost:8080/"
        }
      },
      "outputs": [
        {
          "output_type": "stream",
          "name": "stdout",
          "text": [
            "Requirement already satisfied: pip in /usr/local/lib/python3.10/dist-packages (23.3.1)\n",
            "\u001b[33mWARNING: Running pip as the 'root' user can result in broken permissions and conflicting behaviour with the system package manager. It is recommended to use a virtual environment instead: https://pip.pypa.io/warnings/venv\u001b[0m\u001b[33m\n",
            "\u001b[0mRequirement already satisfied: rbot==0.2.6 in /usr/local/lib/python3.10/dist-packages (0.2.6)\n",
            "\u001b[33mWARNING: Running pip as the 'root' user can result in broken permissions and conflicting behaviour with the system package manager. It is recommended to use a virtual environment instead: https://pip.pypa.io/warnings/venv\u001b[0m\u001b[33m\n",
            "\u001b[0m"
          ]
        }
      ],
      "source": [
        "# 必要ライブラリのインストール\n",
        "! pip install --upgrade pip\n",
        "\n",
        "# rbotがbot frameworkになります。PyPiに登録されているので、pipでインストールできます。\n",
        "# まだ開発初期段階なので、インターフェースが変わる可能性があります。そのためバージョン指定しています。\n",
        "! pip install --upgrade rbot==0.2.6\n"
      ]
    },
    {
      "cell_type": "code",
      "execution_count": 2,
      "metadata": {
        "id": "a8nwsKcfUwuz",
        "outputId": "cb1b68ba-6ffc-467e-a79e-f1d5e12e5189",
        "colab": {
          "base_uri": "https://localhost:8080/"
        }
      },
      "outputs": [
        {
          "output_type": "stream",
          "name": "stdout",
          "text": [
            "Requirement already satisfied: json2html in /usr/local/lib/python3.10/dist-packages (1.3.0)\n",
            "\u001b[33mWARNING: Running pip as the 'root' user can result in broken permissions and conflicting behaviour with the system package manager. It is recommended to use a virtual environment instead: https://pip.pypa.io/warnings/venv\u001b[0m\u001b[33m\n",
            "\u001b[0m"
          ]
        }
      ],
      "source": [
        "# 必要ライブラリのインストール。環境によっては要・不要があるので適宜修正してください。\n",
        "! pip install json2html"
      ]
    },
    {
      "cell_type": "markdown",
      "metadata": {
        "id": "9xzt1ljYUwuz"
      },
      "source": [
        "## Python コード本体\n",
        "\n",
        "### 必要ライブラリのインポート"
      ]
    },
    {
      "cell_type": "code",
      "execution_count": 1,
      "metadata": {
        "id": "S4j1aSE4Uwuz",
        "outputId": "28e9e338-915a-4de6-8e0f-0d40b6e01c86",
        "colab": {
          "base_uri": "https://localhost:8080/"
        }
      },
      "outputs": [
        {
          "output_type": "stream",
          "name": "stdout",
          "text": [
            "rbot version = 0.2.6\n"
          ]
        }
      ],
      "source": [
        "import rbot\n",
        "# BinanceMarketクラスは、BinanceのAPIを利用して、取引所の情報を取得するクラス\n",
        "from rbot import BinanceMarket\n",
        "\n",
        "# BinanceConfigクラスは、BinanceMarketクラスのコンストラクタに渡す設定クラス\n",
        "from rbot import BinanceConfig\n",
        "\n",
        "from rbot import init_log, init_debug_log\n",
        "#init_debug_log()\n",
        "\n",
        "print(\"rbot version =\", rbot.__version__)"
      ]
    },
    {
      "cell_type": "code",
      "execution_count": 2,
      "metadata": {
        "id": "lN2FrFtiUwuz"
      },
      "outputs": [],
      "source": [
        "# 必要ライブラリーのインポート\n",
        "from json2html import *\n",
        "from IPython.display import HTML"
      ]
    },
    {
      "cell_type": "markdown",
      "metadata": {
        "id": "YYxvJbCOUwuz"
      },
      "source": [
        "### BinanceMarketオブジェクトの生成\n",
        "\n",
        "引数にBinanceConfigを設定してオブジェクトを生成します。"
      ]
    },
    {
      "cell_type": "code",
      "execution_count": 3,
      "metadata": {
        "id": "crd_UkiLUwu0",
        "outputId": "ec4aa573-5e51-4765-de73-91ad95894fee",
        "colab": {
          "base_uri": "https://localhost:8080/",
          "height": 732
        }
      },
      "outputs": [
        {
          "output_type": "execute_result",
          "data": {
            "text/plain": [
              "<IPython.core.display.HTML object>"
            ],
            "text/html": [
              "<table border=\"1\"><tr><th>exchange_name</th><td>BN</td></tr><tr><th>trade_category</th><td>TESTSPOT</td></tr><tr><th>trade_symbol</th><td>BTCUSDT</td></tr><tr><th>home_currency</th><td>USDT</td></tr><tr><th>foreign_currency</th><td>BTC</td></tr><tr><th>testnet</th><td>True</td></tr><tr><th>rest_endpoint</th><td>https://testnet.binance.vision</td></tr><tr><th>public_ws_endpoint</th><td>wss://testnet.binance.vision/ws</td></tr><tr><th>private_ws_endpoint</th><td>wss://testnet.binance.vision/ws</td></tr><tr><th>history_web_base</th><td>https://data.binance.vision/data/spot/daily/trades</td></tr><tr><th>new_order_path</th><td>/api/v3/order</td></tr><tr><th>cancel_order_path</th><td>/api/v3/order</td></tr><tr><th>open_orders_path</th><td>/api/v3/openOrders</td></tr><tr><th>account_path</th><td>/api/v3/account</td></tr><tr><th>public_subscribe_message</th><td>{&quot;id&quot;:1,&quot;method&quot;:&quot;SUBSCRIBE&quot;,&quot;params&quot;:[&quot;btcusdt@trade&quot;,&quot;btcusdt@depth@100ms&quot;]}</td></tr><tr><th>user_data_stream_path</th><td>/api/v3/userDataStream</td></tr><tr><th>api_key</th><td>NO*******************</td></tr><tr><th>api_secret</th><td>yP*******************</td></tr><tr><th>market_config</th><td><table border=\"1\"><tr><th>price_unit</th><td>0.01</td></tr><tr><th>price_scale</th><td>2</td></tr><tr><th>size_unit</th><td>0.0001</td></tr><tr><th>size_scale</th><td>4</td></tr><tr><th>maker_fee</th><td>0.0</td></tr><tr><th>taker_fee</th><td>0.0</td></tr><tr><th>price_type</th><td>Foreign</td></tr><tr><th>fee_type</th><td>Home</td></tr><tr><th>home_currency</th><td>USDT</td></tr><tr><th>foreign_currency</th><td>BTC</td></tr><tr><th>market_order_price_slip</th><td>0.5</td></tr><tr><th>board_depth</th><td>1000</td></tr></table></td></tr></table>"
            ]
          },
          "metadata": {},
          "execution_count": 3
        }
      ],
      "source": [
        "# BinanceMarketクラスのインスタンスを生成(テストネットのBTCUSDT現物取引の設定)\n",
        "config = BinanceConfig.TEST_BTCUSDT\n",
        "\n",
        "# Google Colabの場合は、userdataからAPIキーを取得\n",
        "# 通常は、環境変数に設定してください。\n",
        "if 'google.colab' in str(get_ipython()):\n",
        "    from google.colab import userdata\n",
        "    # Google Colabの場合は、APIキーを入力してください。\n",
        "    config.api_key = userdata.get(\"BINANCE_API_KEY\")\n",
        "    config.api_secret = userdata.get(\"BINANCE_API_SECRET\")\n",
        "\n",
        "# json2htmlを利用して、設定情報を表示\n",
        "HTML(json2html.convert(config.__str__()))"
      ]
    },
    {
      "cell_type": "code",
      "execution_count": 4,
      "metadata": {
        "id": "QUyBAG_iUwu0",
        "outputId": "ebac9397-6fc2-499e-feaf-53e89d80e066",
        "colab": {
          "base_uri": "https://localhost:8080/",
          "height": 139
        }
      },
      "outputs": [
        {
          "output_type": "execute_result",
          "data": {
            "text/plain": [
              "<BinanceMarket at 0x58cf22c81e50>"
            ],
            "text/html": [
              "<b>Binance DB (BTCUSDT)</b>\n",
              "            <table>\n",
              "            <caption>Trade Database info table</caption>\n",
              "            <tr><th>start</th><th>end</th></tr>\n",
              "            <tr><td>1700846305680000</td><td>1700846442059000</td></tr>\n",
              "            <tr><td>\"2023-11-24T17:18:25.680000\"</td><td>\"2023-11-24T17:20:42.059000\"</td></tr>\n",
              "            <tr><td><b>days=</b></td><td>0</td></tr>                \n",
              "            </table>                \n",
              "            "
            ]
          },
          "metadata": {},
          "execution_count": 4
        }
      ],
      "source": [
        "# BinanceMarketクラスのインスタンスを生成(BTCUSDT現物取引の設定)\n",
        "market = BinanceMarket(config)\n",
        "\n",
        "# BinanceMarketのインスタンスを表示すると格納されているデータの情報が表示されます。\n",
        "market"
      ]
    },
    {
      "cell_type": "code",
      "execution_count": 5,
      "metadata": {
        "id": "9ivyZYHcUwu0"
      },
      "outputs": [],
      "source": [
        "from time import sleep\n",
        "\n",
        "# WebSocketを利用して、取引所の情報を取得する\n",
        "market.start_market_stream()\n",
        "\n",
        "sleep(1) # データが揃うまで少し待つ"
      ]
    },
    {
      "cell_type": "code",
      "execution_count": 21,
      "metadata": {
        "id": "muweimrrUwu0",
        "outputId": "d0f89a83-2ea1-4d82-e7b2-7a632dcd1c33",
        "colab": {
          "base_uri": "https://localhost:8080/"
        }
      },
      "outputs": [
        {
          "output_type": "execute_result",
          "data": {
            "text/plain": [
              "[{\"symbol\":\"BTCUSDT\",\"create_time\":1700846835380000,\"status\":\"Canceled\",\"order_id\":\"7580784\",\"client_order_id\":\"NufgEc7IitD1fKDb8MT631\",\"order_side\":\"Buy\",\"order_type\":\"Limit\",\"order_price\":\"37270.00000000\",\"order_size\":\"0.00100000\",\"remain_size\":\"0.00100000\",\"transaction_id\":\"\",\"update_time\":0,\"execute_price\":\"0.0\",\"execute_size\":\"0.0\",\"quote_vol\":\"0.0\",\"commission\":\"0.0\",\"commission_asset\":\"\",\"is_maker\":false,\"message\":\"\",\"commission_home\":\"0.0\",\"commission_foreign\":\"0.0\",\"home_change\":\"0.0\",\"foreign_change\":\"0.0\",\"free_home_change\":\"0.0\",\"free_foreign_change\":\"0.0\",\"lock_home_change\":\"0.0\",\"lock_foreign_change\":\"0.0\"},\n",
              " {\"symbol\":\"BTCUSDT\",\"create_time\":1700846835380000,\"status\":\"Canceled\",\"order_id\":\"7580800\",\"client_order_id\":\"NufgEc7IitD1fKDb8MT631\",\"order_side\":\"Sell\",\"order_type\":\"Limit\",\"order_price\":\"38270.01000000\",\"order_size\":\"0.00100000\",\"remain_size\":\"0.00100000\",\"transaction_id\":\"\",\"update_time\":0,\"execute_price\":\"0.0\",\"execute_size\":\"0.0\",\"quote_vol\":\"0.0\",\"commission\":\"0.0\",\"commission_asset\":\"\",\"is_maker\":false,\"message\":\"\",\"commission_home\":\"0.0\",\"commission_foreign\":\"0.0\",\"home_change\":\"0.0\",\"foreign_change\":\"0.0\",\"free_home_change\":\"0.0\",\"free_foreign_change\":\"0.0\",\"lock_home_change\":\"0.0\",\"lock_foreign_change\":\"0.0\"}]"
            ]
          },
          "metadata": {},
          "execution_count": 21
        }
      ],
      "source": [
        "# 一旦　過去のオーダーを全部キャンセルする\n",
        "market.cancel_all_orders()"
      ]
    },
    {
      "cell_type": "markdown",
      "metadata": {
        "id": "UOUcnYjiUwu0"
      },
      "source": [
        "## オーダー発行テスト\n",
        "\n",
        "### Limit order"
      ]
    },
    {
      "cell_type": "code",
      "execution_count": 22,
      "metadata": {
        "id": "3uYDDNDzUwu0",
        "outputId": "a8648e2f-0aca-4e53-8987-6971f3a1c521",
        "colab": {
          "base_uri": "https://localhost:8080/",
          "height": 1000
        }
      },
      "outputs": [
        {
          "output_type": "execute_result",
          "data": {
            "text/plain": [
              "<IPython.core.display.HTML object>"
            ],
            "text/html": [
              "<table border=\"1\"><tr><th>makerCommission</th><td>0</td></tr><tr><th>takerCommission</th><td>0</td></tr><tr><th>buyerCommission</th><td>0</td></tr><tr><th>sellerCommission</th><td>0</td></tr><tr><th>commissionRates</th><td><table border=\"1\"><tr><th>maker</th><td>0.00000000</td></tr><tr><th>taker</th><td>0.00000000</td></tr><tr><th>buyer</th><td>0.00000000</td></tr><tr><th>seller</th><td>0.00000000</td></tr></table></td></tr><tr><th>canTrade</th><td>True</td></tr><tr><th>canWithdraw</th><td>True</td></tr><tr><th>canDeposit</th><td>True</td></tr><tr><th>brokered</th><td>False</td></tr><tr><th>requireSelfTradePrevention</th><td>False</td></tr><tr><th>preventSor</th><td>False</td></tr><tr><th>updateTime</th><td>1700846835380</td></tr><tr><th>accountType</th><td>SPOT</td></tr><tr><th>balances</th><td><table border=\"1\"><thead><tr><th>asset</th><th>free</th><th>locked</th></tr></thead><tbody><tr><td>ETH</td><td>1.00000000</td><td>0.00000000</td></tr><tr><td>BTC</td><td>1.00400000</td><td>0.00000000</td></tr><tr><td>LTC</td><td>7.00000000</td><td>0.00000000</td></tr><tr><td>BNB</td><td>2.00000000</td><td>0.00000000</td></tr><tr><td>USDT</td><td>9849.02128000</td><td>0.00000000</td></tr><tr><td>TRX</td><td>5104.00000000</td><td>0.00000000</td></tr><tr><td>XRP</td><td>829.00000000</td><td>0.00000000</td></tr><tr><td>BUSD</td><td>10000.00000000</td><td>0.00000000</td></tr><tr><td>NEO</td><td>53.00000000</td><td>0.00000000</td></tr><tr><td>QTUM</td><td>161.00000000</td><td>0.00000000</td></tr><tr><td>EOS</td><td>805.00000000</td><td>0.00000000</td></tr><tr><td>SNT</td><td>8727.00000000</td><td>0.00000000</td></tr><tr><td>BNT</td><td>951.00000000</td><td>0.00000000</td></tr><tr><td>GAS</td><td>78.00000000</td><td>0.00000000</td></tr><tr><td>WTC</td><td>3166.00000000</td><td>0.00000000</td></tr><tr><td>LRC</td><td>2528.00000000</td><td>0.00000000</td></tr><tr><td>ZRX</td><td>1875.00000000</td><td>0.00000000</td></tr><tr><td>KNC</td><td>633.00000000</td><td>0.00000000</td></tr><tr><td>FUN</td><td>18446.00000000</td><td>0.00000000</td></tr><tr><td>IOTA</td><td>3206.00000000</td><td>0.00000000</td></tr><tr><td>LINK</td><td>44.00000000</td><td>0.00000000</td></tr><tr><td>XVG</td><td>18446.00000000</td><td>0.00000000</td></tr><tr><td>MTL</td><td>323.00000000</td><td>0.00000000</td></tr><tr><td>ETC</td><td>28.00000000</td><td>0.00000000</td></tr><tr><td>ZEC</td><td>18.00000000</td><td>0.00000000</td></tr><tr><td>AST</td><td>4777.00000000</td><td>0.00000000</td></tr><tr><td>DASH</td><td>17.00000000</td><td>0.00000000</td></tr><tr><td>OAX</td><td>2758.00000000</td><td>0.00000000</td></tr><tr><td>REQ</td><td>6783.00000000</td><td>0.00000000</td></tr><tr><td>VIB</td><td>7532.00000000</td><td>0.00000000</td></tr><tr><td>POWR</td><td>2174.00000000</td><td>0.00000000</td></tr><tr><td>ENJ</td><td>1998.00000000</td><td>0.00000000</td></tr><tr><td>STORJ</td><td>1202.00000000</td><td>0.00000000</td></tr><tr><td>KMD</td><td>2146.00000000</td><td>0.00000000</td></tr><tr><td>NULS</td><td>2612.00000000</td><td>0.00000000</td></tr><tr><td>XMR</td><td>2.00000000</td><td>0.00000000</td></tr><tr><td>AMB</td><td>18446.00000000</td><td>0.00000000</td></tr><tr><td>BAT</td><td>2426.00000000</td><td>0.00000000</td></tr><tr><td>LSK</td><td>512.00000000</td><td>0.00000000</td></tr><tr><td>MANA</td><td>1400.00000000</td><td>0.00000000</td></tr><tr><td>ADX</td><td>3375.00000000</td><td>0.00000000</td></tr><tr><td>ADA</td><td>1740.00000000</td><td>0.00000000</td></tr><tr><td>XLM</td><td>4116.00000000</td><td>0.00000000</td></tr><tr><td>WAVES</td><td>286.00000000</td><td>0.00000000</td></tr><tr><td>ICX</td><td>2300.00000000</td><td>0.00000000</td></tr><tr><td>ELF</td><td>1399.00000000</td><td>0.00000000</td></tr><tr><td>RLC</td><td>452.00000000</td><td>0.00000000</td></tr><tr><td>PIVX</td><td>18466.00000000</td><td>0.00000000</td></tr><tr><td>IOST</td><td>18446.00000000</td><td>0.00000000</td></tr><tr><td>STEEM</td><td>2228.00000000</td><td>0.00000000</td></tr><tr><td>BLZ</td><td>1678.00000000</td><td>0.00000000</td></tr><tr><td>ZIL</td><td>18446.00000000</td><td>0.00000000</td></tr><tr><td>ONT</td><td>2393.00000000</td><td>0.00000000</td></tr><tr><td>WAN</td><td>2550.00000000</td><td>0.00000000</td></tr><tr><td>SYS</td><td>4803.00000000</td><td>0.00000000</td></tr><tr><td>LOOM</td><td>4309.00000000</td><td>0.00000000</td></tr><tr><td>TUSD</td><td>10000.00000000</td><td>0.00000000</td></tr><tr><td>ZEN</td><td>56.00000000</td><td>0.00000000</td></tr><tr><td>THETA</td><td>659.00000000</td><td>0.00000000</td></tr><tr><td>IOTX</td><td>18446.00000000</td><td>0.00000000</td></tr><tr><td>QKC</td><td>18446.00000000</td><td>0.00000000</td></tr><tr><td>DATA</td><td>18446.00000000</td><td>0.00000000</td></tr><tr><td>SC</td><td>18446.00000000</td><td>0.00000000</td></tr><tr><td>DENT</td><td>18446.00000000</td><td>0.00000000</td></tr><tr><td>ARDR</td><td>5871.00000000</td><td>0.00000000</td></tr><tr><td>HOT</td><td>18446.00000000</td><td>0.00000000</td></tr><tr><td>VET</td><td>18446.00000000</td><td>0.00000000</td></tr><tr><td>DOCK</td><td>18446.00000000</td><td>0.00000000</td></tr><tr><td>RVN</td><td>18446.00000000</td><td>0.00000000</td></tr><tr><td>DCR</td><td>39.00000000</td><td>0.00000000</td></tr><tr><td>REN</td><td>10543.00000000</td><td>0.00000000</td></tr><tr><td>USDC</td><td>500.00000000</td><td>0.00000000</td></tr><tr><td>ONG</td><td>1591.00000000</td><td>0.00000000</td></tr><tr><td>FET</td><td>1425.00000000</td><td>0.00000000</td></tr><tr><td>CELR</td><td>18446.00000000</td><td>0.00000000</td></tr><tr><td>OMG</td><td>905.00000000</td><td>0.00000000</td></tr><tr><td>MATIC</td><td>793.00000000</td><td>0.00000000</td></tr><tr><td>ATOM</td><td>65.00000000</td><td>0.00000000</td></tr><tr><td>PHB</td><td>739.00000000</td><td>0.00000000</td></tr><tr><td>TFUEL</td><td>12621.00000000</td><td>0.00000000</td></tr><tr><td>ONE</td><td>18446.00000000</td><td>0.00000000</td></tr><tr><td>FTM</td><td>2137.00000000</td><td>0.00000000</td></tr><tr><td>ALGO</td><td>4598.00000000</td><td>0.00000000</td></tr><tr><td>DOGE</td><td>7481.00000000</td><td>0.00000000</td></tr><tr><td>DUSK</td><td>4125.00000000</td><td>0.00000000</td></tr><tr><td>ANKR</td><td>18446.00000000</td><td>0.00000000</td></tr><tr><td>WIN</td><td>18446.00000000</td><td>0.00000000</td></tr><tr><td>COS</td><td>18446.00000000</td><td>0.00000000</td></tr><tr><td>TOMO</td><td>278.00000000</td><td>0.00000000</td></tr><tr><td>PERL</td><td>18446.00000000</td><td>0.00000000</td></tr><tr><td>KEY</td><td>18446.00000000</td><td>0.00000000</td></tr><tr><td>CVC</td><td>5337.00000000</td><td>0.00000000</td></tr><tr><td>CHZ</td><td>7480.00000000</td><td>0.00000000</td></tr><tr><td>BAND</td><td>356.00000000</td><td>0.00000000</td></tr><tr><td>XTZ</td><td>663.00000000</td><td>0.00000000</td></tr><tr><td>HBAR</td><td>9739.00000000</td><td>0.00000000</td></tr><tr><td>NKN</td><td>5689.00000000</td><td>0.00000000</td></tr><tr><td>STX</td><td>817.00000000</td><td>0.00000000</td></tr><tr><td>KAVA</td><td>754.00000000</td><td>0.00000000</td></tr><tr><td>NGN</td><td>18466.00000000</td><td>0.00000000</td></tr><tr><td>ARPA</td><td>10527.00000000</td><td>0.00000000</td></tr><tr><td>CTXC</td><td>3731.00000000</td><td>0.00000000</td></tr><tr><td>BCH</td><td>2.00000000</td><td>0.00000000</td></tr><tr><td>RUB</td><td>18466.00000000</td><td>0.00000000</td></tr><tr><td>TROY</td><td>18446.00000000</td><td>0.00000000</td></tr><tr><td>VITE</td><td>18446.00000000</td><td>0.00000000</td></tr><tr><td>FTT</td><td>411.00000000</td><td>0.00000000</td></tr><tr><td>TRY</td><td>18466.00000000</td><td>0.00000000</td></tr><tr><td>EUR</td><td>473.00000000</td><td>0.00000000</td></tr><tr><td>OGN</td><td>4291.00000000</td><td>0.00000000</td></tr><tr><td>DREP</td><td>1895.00000000</td><td>0.00000000</td></tr><tr><td>WRX</td><td>4479.00000000</td><td>0.00000000</td></tr><tr><td>BTS</td><td>18446.00000000</td><td>0.00000000</td></tr><tr><td>LTO</td><td>7971.00000000</td><td>0.00000000</td></tr><tr><td>MBL</td><td>18446.00000000</td><td>0.00000000</td></tr><tr><td>COTI</td><td>11189.00000000</td><td>0.00000000</td></tr><tr><td>STPT</td><td>7505.00000000</td><td>0.00000000</td></tr><tr><td>ZAR</td><td>18466.00000000</td><td>0.00000000</td></tr><tr><td>SOL</td><td>13.00000000</td><td>0.00000000</td></tr><tr><td>IDRT</td><td>18466.00</td><td>0.00</td></tr><tr><td>CTSI</td><td>3514.00000000</td><td>0.00000000</td></tr><tr><td>HIVE</td><td>1511.00000000</td><td>0.00000000</td></tr><tr><td>CHR</td><td>4352.00000000</td><td>0.00000000</td></tr><tr><td>MDT</td><td>11004.00000000</td><td>0.00000000</td></tr><tr><td>STMX</td><td>18446.00000000</td><td>0.00000000</td></tr><tr><td>PNT</td><td>4000.00000000</td><td>0.00000000</td></tr><tr><td>GBP</td><td>404.00000000</td><td>0.00000000</td></tr><tr><td>DGB</td><td>18446.00000000</td><td>0.00000000</td></tr><tr><td>UAH</td><td>18466.00000000</td><td>0.00000000</td></tr><tr><td>COMP</td><td>11.00000000</td><td>0.00000000</td></tr><tr><td>BIDR</td><td>158.00</td><td>0.00</td></tr><tr><td>SXP</td><td>1657.00000000</td><td>0.00000000</td></tr><tr><td>SNX</td><td>224.00000000</td><td>0.00000000</td></tr><tr><td>VTHO</td><td>18446.00000000</td><td>0.00000000</td></tr><tr><td>IRIS</td><td>18446.00000000</td><td>0.00000000</td></tr><tr><td>MKR</td><td>1.00000000</td><td>0.00000000</td></tr><tr><td>RUNE</td><td>169.00000000</td><td>0.00000000</td></tr><tr><td>FIO</td><td>18446.00000000</td><td>0.00000000</td></tr><tr><td>AVA</td><td>1028.00000000</td><td>0.00000000</td></tr><tr><td>BAL</td><td>149.00000000</td><td>0.00000000</td></tr><tr><td>YFI</td><td>1.00000000</td><td>0.00000000</td></tr><tr><td>DAI</td><td>10000.00000000</td><td>0.00000000</td></tr><tr><td>JST</td><td>15882.00000000</td><td>0.00000000</td></tr><tr><td>ANT</td><td>104.00000000</td><td>0.00000000</td></tr><tr><td>CRV</td><td>1055.00000000</td><td>0.00000000</td></tr><tr><td>SAND</td><td>1473.00000000</td><td>0.00000000</td></tr><tr><td>OCEAN</td><td>1350.00000000</td><td>0.00000000</td></tr><tr><td>NMR</td><td>36.00000000</td><td>0.00000000</td></tr><tr><td>DOT</td><td>114.00000000</td><td>0.00000000</td></tr><tr><td>LUNA</td><td>1124.00000000</td><td>0.00000000</td></tr><tr><td>IDEX</td><td>10102.00000000</td><td>0.00000000</td></tr><tr><td>RSR</td><td>18446.00000000</td><td>0.00000000</td></tr><tr><td>PAXG</td><td>1.00000000</td><td>0.00000000</td></tr><tr><td>WNXM</td><td>15.00000000</td><td>0.00000000</td></tr><tr><td>TRB</td><td>4.00000000</td><td>0.00000000</td></tr><tr><td>WBTC</td><td>1.00000000</td><td>0.00000000</td></tr><tr><td>SUSHI</td><td>621.00000000</td><td>0.00000000</td></tr><tr><td>KSM</td><td>23.00000000</td><td>0.00000000</td></tr><tr><td>EGLD</td><td>16.00000000</td><td>0.00000000</td></tr><tr><td>DIA</td><td>1950.00000000</td><td>0.00000000</td></tr><tr><td>UMA</td><td>344.00000000</td><td>0.00000000</td></tr><tr><td>BEL</td><td>831.00000000</td><td>0.00000000</td></tr><tr><td>WING</td><td>84.00000000</td><td>0.00000000</td></tr><tr><td>UNI</td><td>121.00000000</td><td>0.00000000</td></tr><tr><td>OXT</td><td>7352.00000000</td><td>0.00000000</td></tr><tr><td>SUN</td><td>18446.00000000</td><td>0.00000000</td></tr><tr><td>AVAX</td><td>44.00000000</td><td>0.00000000</td></tr><tr><td>BAKE</td><td>3938.00000000</td><td>0.00000000</td></tr><tr><td>FLM</td><td>6193.00000000</td><td>0.00000000</td></tr><tr><td>SCRT</td><td>1775.00000000</td><td>0.00000000</td></tr><tr><td>CAKE</td><td>407.00000000</td><td>0.00000000</td></tr><tr><td>ORN</td><td>935.00000000</td><td>0.00000000</td></tr><tr><td>UTK</td><td>8650.00000000</td><td>0.00000000</td></tr><tr><td>XVS</td><td>96.00000000</td><td>0.00000000</td></tr><tr><td>ALPHA</td><td>6545.00000000</td><td>0.00000000</td></tr><tr><td>VIDT</td><td>18446.00000000</td><td>0.00000000</td></tr><tr><td>AAVE</td><td>7.00000000</td><td>0.00000000</td></tr><tr><td>BRL</td><td>97.00000000</td><td>0.00000000</td></tr><tr><td>NEAR</td><td>369.00000000</td><td>0.00000000</td></tr><tr><td>FIL</td><td>132.00000000</td><td>0.00000000</td></tr><tr><td>INJ</td><td>35.00000000</td><td>0.00000000</td></tr><tr><td>AERGO</td><td>3812.00000000</td><td>0.00000000</td></tr><tr><td>AUDIO</td><td>3042.00000000</td><td>0.00000000</td></tr><tr><td>CTK</td><td>1068.00000000</td><td>0.00000000</td></tr><tr><td>AKRO</td><td>18446.00000000</td><td>0.00000000</td></tr><tr><td>AXS</td><td>94.00000000</td><td>0.00000000</td></tr><tr><td>HARD</td><td>4125.00000000</td><td>0.00000000</td></tr><tr><td>SLP</td><td>18446.00000000</td><td>0.00000000</td></tr><tr><td>CVP</td><td>1573.00000000</td><td>0.00000000</td></tr><tr><td>STRAX</td><td>512.00000000</td><td>0.00000000</td></tr><tr><td>FOR</td><td>18446.00000000</td><td>0.00000000</td></tr><tr><td>UNFI</td><td>59.00000000</td><td>0.00000000</td></tr><tr><td>FRONT</td><td>1535.00000000</td><td>0.00000000</td></tr><tr><td>ROSE</td><td>9962.00000000</td><td>0.00000000</td></tr><tr><td>XEM</td><td>16143.00000000</td><td>0.00000000</td></tr><tr><td>PROM</td><td>118.00000000</td><td>0.00000000</td></tr><tr><td>SKL</td><td>18446.00000000</td><td>0.00000000</td></tr><tr><td>GLM</td><td>2336.00000000</td><td>0.00000000</td></tr><tr><td>GRT</td><td>4724.00000000</td><td>0.00000000</td></tr><tr><td>JUV</td><td>240.00000000</td><td>0.00000000</td></tr><tr><td>PSG</td><td>169.00000000</td><td>0.00000000</td></tr><tr><td>1INCH</td><td>1728.00000000</td><td>0.00000000</td></tr><tr><td>REEF</td><td>18446.00000000</td><td>0.00000000</td></tr><tr><td>OG</td><td>114.00000000</td><td>0.00000000</td></tr><tr><td>ATM</td><td>205.00000000</td><td>0.00000000</td></tr><tr><td>ASR</td><td>223.00000000</td><td>0.00000000</td></tr><tr><td>CELO</td><td>1039.00000000</td><td>0.00000000</td></tr><tr><td>RIF</td><td>4642.00000000</td><td>0.00000000</td></tr><tr><td>TRU</td><td>13607.00000000</td><td>0.00000000</td></tr><tr><td>DEXE</td><td>218.00000000</td><td>0.00000000</td></tr><tr><td>CKB</td><td>18446.00000000</td><td>0.00000000</td></tr><tr><td>TWT</td><td>475.00000000</td><td>0.00000000</td></tr><tr><td>FIRO</td><td>305.00000000</td><td>0.00000000</td></tr><tr><td>LIT</td><td>658.00000000</td><td>0.00000000</td></tr><tr><td>SFP</td><td>723.00000000</td><td>0.00000000</td></tr><tr><td>FXS</td><td>86.00000000</td><td>0.00000000</td></tr><tr><td>DODO</td><td>4668.00000000</td><td>0.00000000</td></tr><tr><td>UFT</td><td>1936.00000000</td><td>0.00000000</td></tr><tr><td>ACM</td><td>268.00000000</td><td>0.00000000</td></tr><tr><td>AUCTION</td><td>66.00000000</td><td>0.00000000</td></tr><tr><td>PHA</td><td>4655.00000000</td><td>0.00000000</td></tr><tr><td>TVK</td><td>18446.00000000</td><td>0.00000000</td></tr><tr><td>BADGER</td><td>206.00000000</td><td>0.00000000</td></tr><tr><td>FIS</td><td>1774.00000000</td><td>0.00000000</td></tr><tr><td>OM</td><td>18446.00000000</td><td>0.00000000</td></tr><tr><td>POND</td><td>18446.00000000</td><td>0.00000000</td></tr><tr><td>DEGO</td><td>340.00000000</td><td>0.00000000</td></tr><tr><td>ALICE</td><td>596.00000000</td><td>0.00000000</td></tr><tr><td>LINA</td><td>18446.00000000</td><td>0.00000000</td></tr><tr><td>PERP</td><td>865.00000000</td><td>0.00000000</td></tr><tr><td>SUPER</td><td>6106.00000000</td><td>0.00000000</td></tr><tr><td>CFX</td><td>3048.00000000</td><td>0.00000000</td></tr><tr><td>TKO</td><td>2256.00000000</td><td>0.00000000</td></tr><tr><td>PUNDIX</td><td>1159.00000000</td><td>0.00000000</td></tr><tr><td>TLM</td><td>18446.00000000</td><td>0.00000000</td></tr><tr><td>BAR</td><td>223.00000000</td><td>0.00000000</td></tr><tr><td>FORTH</td><td>166.00000000</td><td>0.00000000</td></tr><tr><td>BURGER</td><td>1381.00000000</td><td>0.00000000</td></tr><tr><td>SHIB</td><td>18446.00</td><td>0.00</td></tr><tr><td>ICP</td><td>130.00000000</td><td>0.00000000</td></tr><tr><td>AR</td><td>83.00000000</td><td>0.00000000</td></tr><tr><td>POLS</td><td>1559.00000000</td><td>0.00000000</td></tr><tr><td>MDX</td><td>7467.00000000</td><td>0.00000000</td></tr><tr><td>MASK</td><td>173.00000000</td><td>0.00000000</td></tr><tr><td>LPT</td><td>82.00000000</td><td>0.00000000</td></tr><tr><td>AGIX</td><td>2242.00000000</td><td>0.00000000</td></tr><tr><td>ATA</td><td>5592.00000000</td><td>0.00000000</td></tr><tr><td>GTC</td><td>541.00000000</td><td>0.00000000</td></tr><tr><td>TORN</td><td>122.00000000</td><td>0.00000000</td></tr><tr><td>ERN</td><td>313.00000000</td><td>0.00000000</td></tr><tr><td>KLAY</td><td>3810.00000000</td><td>0.00000000</td></tr><tr><td>BOND</td><td>123.00000000</td><td>0.00000000</td></tr><tr><td>MLN</td><td>31.00000000</td><td>0.00000000</td></tr><tr><td>QUICK</td><td>10814.00000000</td><td>0.00000000</td></tr><tr><td>C98</td><td>2808.00000000</td><td>0.00000000</td></tr><tr><td>CLV</td><td>14416.00000000</td><td>0.00000000</td></tr><tr><td>QNT</td><td>4.00000000</td><td>0.00000000</td></tr><tr><td>FLOW</td><td>969.00000000</td><td>0.00000000</td></tr><tr><td>XEC</td><td>18446.00</td><td>0.00</td></tr><tr><td>MINA</td><td>866.00000000</td><td>0.00000000</td></tr><tr><td>RAY</td><td>2256.00000000</td><td>0.00000000</td></tr><tr><td>FARM</td><td>19.00000000</td><td>0.00000000</td></tr><tr><td>ALPACA</td><td>3065.00000000</td><td>0.00000000</td></tr><tr><td>MBOX</td><td>1858.00000000</td><td>0.00000000</td></tr><tr><td>GHST</td><td>596.00000000</td><td>0.00000000</td></tr><tr><td>WAXP</td><td>8023.00000000</td><td>0.00000000</td></tr><tr><td>GNO</td><td>4.00000000</td><td>0.00000000</td></tr><tr><td>DYDX</td><td>219.00000000</td><td>0.00000000</td></tr><tr><td>USDP</td><td>10000.00000000</td><td>0.00000000</td></tr><tr><td>GALA</td><td>18446.00000000</td><td>0.00000000</td></tr><tr><td>ILV</td><td>10.00000000</td><td>0.00000000</td></tr><tr><td>YGG</td><td>1882.00000000</td><td>0.00000000</td></tr><tr><td>DF</td><td>13796.00000000</td><td>0.00000000</td></tr><tr><td>FIDA</td><td>2866.00000000</td><td>0.00000000</td></tr><tr><td>AGLD</td><td>580.00000000</td><td>0.00000000</td></tr><tr><td>RAD</td><td>353.00000000</td><td>0.00000000</td></tr><tr><td>BETA</td><td>7792.00000000</td><td>0.00000000</td></tr><tr><td>RARE</td><td>8445.00000000</td><td>0.00000000</td></tr><tr><td>SSV</td><td>35.00000000</td><td>0.00000000</td></tr><tr><td>LAZIO</td><td>285.00000000</td><td>0.00000000</td></tr><tr><td>CHESS</td><td>3796.00000000</td><td>0.00000000</td></tr><tr><td>DAR</td><td>5209.00000000</td><td>0.00000000</td></tr><tr><td>BNX</td><td>2085.00000000</td><td>0.00000000</td></tr><tr><td>MOVR</td><td>120.00000000</td><td>0.00000000</td></tr><tr><td>CITY</td><td>178.00000000</td><td>0.00000000</td></tr><tr><td>ENS</td><td>65.00000000</td><td>0.00000000</td></tr><tr><td>KP3R</td><td>10.00000000</td><td>0.00000000</td></tr><tr><td>QI</td><td>18446.00000000</td><td>0.00000000</td></tr><tr><td>PORTO</td><td>293.00000000</td><td>0.00000000</td></tr><tr><td>VGX</td><td>4286.00000000</td><td>0.00000000</td></tr><tr><td>JASMY</td><td>18446.00000000</td><td>0.00000000</td></tr><tr><td>AMP</td><td>18446.00000000</td><td>0.00000000</td></tr><tr><td>PLA</td><td>2778.00000000</td><td>0.00000000</td></tr><tr><td>PYR</td><td>123.00000000</td><td>0.00000000</td></tr><tr><td>RNDR</td><td>215.00000000</td><td>0.00000000</td></tr><tr><td>ALCX</td><td>34.00000000</td><td>0.00000000</td></tr><tr><td>SANTOS</td><td>177.00000000</td><td>0.00000000</td></tr><tr><td>MC</td><td>1137.00000000</td><td>0.00000000</td></tr><tr><td>BICO</td><td>2208.00000000</td><td>0.00000000</td></tr><tr><td>FLUX</td><td>1397.00000000</td><td>0.00000000</td></tr><tr><td>VOXEL</td><td>3075.00000000</td><td>0.00000000</td></tr><tr><td>HIGH</td><td>392.00000000</td><td>0.00000000</td></tr><tr><td>CVX</td><td>178.00000000</td><td>0.00000000</td></tr><tr><td>PEOPLE</td><td>18446.00000000</td><td>0.00000000</td></tr><tr><td>OOKI</td><td>18446.00000000</td><td>0.00000000</td></tr><tr><td>SPELL</td><td>18446.00000000</td><td>0.00000000</td></tr><tr><td>JOE</td><td>1925.00000000</td><td>0.00000000</td></tr><tr><td>ACH</td><td>18446.00000000</td><td>0.00000000</td></tr><tr><td>IMX</td><td>783.00000000</td><td>0.00000000</td></tr><tr><td>GLMR</td><td>2517.00000000</td><td>0.00000000</td></tr><tr><td>LOKA</td><td>2018.00000000</td><td>0.00000000</td></tr><tr><td>API3</td><td>401.00000000</td><td>0.00000000</td></tr><tr><td>BTTC</td><td>18446.0</td><td>0.0</td></tr><tr><td>ACA</td><td>9378.00000000</td><td>0.00000000</td></tr><tr><td>XNO</td><td>741.00000000</td><td>0.00000000</td></tr><tr><td>WOO</td><td>2362.00000000</td><td>0.00000000</td></tr><tr><td>ALPINE</td><td>291.00000000</td><td>0.00000000</td></tr><tr><td>T</td><td>18446.00000000</td><td>0.00000000</td></tr><tr><td>ASTR</td><td>8994.00000000</td><td>0.00000000</td></tr><tr><td>GMT</td><td>2722.00000000</td><td>0.00000000</td></tr><tr><td>KDA</td><td>990.00000000</td><td>0.00000000</td></tr><tr><td>APE</td><td>379.00000000</td><td>0.00000000</td></tr><tr><td>BSW</td><td>7587.00000000</td><td>0.00000000</td></tr><tr><td>BIFI</td><td>1.00000000</td><td>0.00000000</td></tr><tr><td>MULTI</td><td>226.00000000</td><td>0.00000000</td></tr><tr><td>MOB</td><td>869.00000000</td><td>0.00000000</td></tr><tr><td>NEXO</td><td>784.00000000</td><td>0.00000000</td></tr><tr><td>REI</td><td>18446.00000000</td><td>0.00000000</td></tr><tr><td>GAL</td><td>371.00000000</td><td>0.00000000</td></tr><tr><td>LDO</td><td>273.00000000</td><td>0.00000000</td></tr><tr><td>EPX</td><td>18446.00000000</td><td>0.00000000</td></tr><tr><td>LUNC</td><td>18446.00000000</td><td>0.00000000</td></tr><tr><td>USTC</td><td>18446.00000000</td><td>0.00000000</td></tr><tr><td>OP</td><td>362.00000000</td><td>0.00000000</td></tr><tr><td>LEVER</td><td>18446.00000000</td><td>0.00000000</td></tr><tr><td>STG</td><td>1108.00000000</td><td>0.00000000</td></tr><tr><td>PROS</td><td>1788.00000000</td><td>0.00000000</td></tr><tr><td>GMX</td><td>11.00000000</td><td>0.00000000</td></tr><tr><td>POLYX</td><td>2074.00000000</td><td>0.00000000</td></tr><tr><td>APT</td><td>72.00000000</td><td>0.00000000</td></tr><tr><td>PLN</td><td>18466.00000000</td><td>0.00000000</td></tr><tr><td>OSMO</td><td>1461.00000000</td><td>0.00000000</td></tr><tr><td>HFT</td><td>1948.00000000</td><td>0.00000000</td></tr><tr><td>HOOK</td><td>566.00000000</td><td>0.00000000</td></tr><tr><td>MAGIC</td><td>868.00000000</td><td>0.00000000</td></tr><tr><td>RON</td><td>18466.00000000</td><td>0.00000000</td></tr><tr><td>HIFI</td><td>821.00000000</td><td>0.00000000</td></tr><tr><td>RPL</td><td>21.00000000</td><td>0.00000000</td></tr><tr><td>GNS</td><td>125.00000000</td><td>0.00000000</td></tr><tr><td>SYN</td><td>1432.00000000</td><td>0.00000000</td></tr><tr><td>LQTY</td><td>316.00000000</td><td>0.00000000</td></tr><tr><td>ID</td><td>2074.00000000</td><td>0.00000000</td></tr><tr><td>ARB</td><td>526.00000000</td><td>0.00000000</td></tr><tr><td>RDNT</td><td>2060.00000000</td><td>0.00000000</td></tr><tr><td>ARS</td><td>18466.00000000</td><td>0.00000000</td></tr><tr><td>EDU</td><td>1021.00000000</td><td>0.00000000</td></tr><tr><td>SUI</td><td>1145.00000000</td><td>0.00000000</td></tr><tr><td>PEPE</td><td>18446.00</td><td>0.00</td></tr><tr><td>FLOKI</td><td>18446.00</td><td>0.00</td></tr><tr><td>WBETH</td><td>1.00000000</td><td>0.00000000</td></tr><tr><td>COMBO</td><td>749.00000000</td><td>0.00000000</td></tr><tr><td>MAV</td><td>2217.00000000</td><td>0.00000000</td></tr><tr><td>PENDLE</td><td>554.00000000</td><td>0.00000000</td></tr><tr><td>ARKM</td><td>1399.00000000</td><td>0.00000000</td></tr><tr><td>WLD</td><td>258.00000000</td><td>0.00000000</td></tr><tr><td>FDUSD</td><td>10000.00000000</td><td>0.00000000</td></tr><tr><td>SEI</td><td>4590.00000000</td><td>0.00000000</td></tr><tr><td>CYBER</td><td>80.00000000</td><td>0.00000000</td></tr><tr><td>ARK</td><td>483.00000000</td><td>0.00000000</td></tr><tr><td>CREAM</td><td>29.00000000</td><td>0.00000000</td></tr><tr><td>GFT</td><td>18446.00000000</td><td>0.00000000</td></tr><tr><td>IQ</td><td>18446.00000000</td><td>0.00000000</td></tr><tr><td>VAI</td><td>18466.00000000</td><td>0.00000000</td></tr><tr><td>NTRN</td><td>1693.00000000</td><td>0.00000000</td></tr><tr><td>TIA</td><td>223.00000000</td><td>0.00000000</td></tr></tbody></table></td></tr><tr><th>permissions</th><td><ul><li>SPOT</li></ul></td></tr><tr><th>uid</th><td>1672040438034130781</td></tr></table>"
            ]
          },
          "metadata": {},
          "execution_count": 22
        }
      ],
      "source": [
        "# 現在のアカウント情報を取り出す\n",
        "account = market.account\n",
        "\n",
        "HTML(json2html.convert(account.__str__()))"
      ]
    },
    {
      "cell_type": "code",
      "execution_count": 23,
      "metadata": {
        "id": "EFeuqANLUwu0",
        "outputId": "058c79f1-777e-42c1-e3bd-2f25308b0b8a",
        "colab": {
          "base_uri": "https://localhost:8080/"
        }
      },
      "outputs": [
        {
          "output_type": "stream",
          "name": "stdout",
          "text": [
            "BTC 残高 = {\"asset\":\"BTC\",\"free\":\"1.00400000\",\"locked\":\"0.00000000\"}\n",
            "USDT残高 = {\"asset\":\"USDT\",\"free\":\"9849.02128000\",\"locked\":\"0.00000000\"}\n"
          ]
        }
      ],
      "source": [
        "# accountにはすべての通貨の残高が入っているので、BTCとUSDTの残高を表示する\n",
        "print(\"BTC 残高 =\", account['BTC'])\n",
        "print(\"USDT残高 =\", account['USDT'])"
      ]
    },
    {
      "cell_type": "code",
      "execution_count": 24,
      "metadata": {
        "id": "6nVE1JDaUwu0"
      },
      "outputs": [],
      "source": [
        "# 現在の板情報を取り出す\n",
        "bids, asks, = market.board\n",
        "\n",
        "bid_edge = bids['price'][0]\n",
        "ask_edge = asks['price'][0]"
      ]
    },
    {
      "cell_type": "code",
      "execution_count": 26,
      "metadata": {
        "id": "6Bmf4bFzUwu0",
        "outputId": "71f37822-b982-40ce-dd35-6fdafff57717",
        "colab": {
          "base_uri": "https://localhost:8080/",
          "height": 88
        }
      },
      "outputs": [
        {
          "output_type": "execute_result",
          "data": {
            "text/plain": [
              "<IPython.core.display.HTML object>"
            ],
            "text/html": [
              "<table border=\"1\"><thead><tr><th>symbol</th><th>create_time</th><th>status</th><th>order_id</th><th>client_order_id</th><th>order_side</th><th>order_type</th><th>order_price</th><th>order_size</th><th>remain_size</th><th>transaction_id</th><th>update_time</th><th>execute_price</th><th>execute_size</th><th>quote_vol</th><th>commission</th><th>commission_asset</th><th>is_maker</th><th>message</th><th>commission_home</th><th>commission_foreign</th><th>home_change</th><th>foreign_change</th><th>free_home_change</th><th>free_foreign_change</th><th>lock_home_change</th><th>lock_foreign_change</th></tr></thead><tbody><tr><td>BTCUSDT</td><td>1700846867669000</td><td>New</td><td>7582199</td><td>r9ZdOeLOSwc9FUKVtkZzEM</td><td>Buy</td><td>Limit</td><td>37321.68000000</td><td>0.00100000</td><td>0.00100000</td><td></td><td>0</td><td>0.0</td><td>0.0</td><td>0.0</td><td>0.0</td><td></td><td>False</td><td></td><td>0.0</td><td>0.0</td><td>0.0</td><td>0.0</td><td>0.0</td><td>0.0</td><td>0.0</td><td>0.0</td></tr></tbody></table>"
            ]
          },
          "metadata": {},
          "execution_count": 26
        }
      ],
      "source": [
        "# 板より５００ドル安いところへ0.0001BTCの買い注文を出す\n",
        "buy_limit_order = market.limit_order(\"BUY\", bid_edge - 500, 0.001)\n",
        "\n",
        "HTML(json2html.convert(buy_limit_order.__str__()))"
      ]
    },
    {
      "cell_type": "code",
      "execution_count": 27,
      "metadata": {
        "id": "vLYnyIPXUwu0",
        "outputId": "6bb0e2a8-e2cc-44e8-aa4a-764cf841393a",
        "colab": {
          "base_uri": "https://localhost:8080/",
          "height": 88
        }
      },
      "outputs": [
        {
          "output_type": "execute_result",
          "data": {
            "text/plain": [
              "<IPython.core.display.HTML object>"
            ],
            "text/html": [
              "<table border=\"1\"><thead><tr><th>symbol</th><th>create_time</th><th>status</th><th>order_id</th><th>client_order_id</th><th>order_side</th><th>order_type</th><th>order_price</th><th>order_size</th><th>remain_size</th><th>transaction_id</th><th>update_time</th><th>execute_price</th><th>execute_size</th><th>quote_vol</th><th>commission</th><th>commission_asset</th><th>is_maker</th><th>message</th><th>commission_home</th><th>commission_foreign</th><th>home_change</th><th>foreign_change</th><th>free_home_change</th><th>free_foreign_change</th><th>lock_home_change</th><th>lock_foreign_change</th></tr></thead><tbody><tr><td>BTCUSDT</td><td>1700842360809000</td><td>New</td><td>7566098</td><td>VHHjQJBZmrfdX6yXrE8t0n</td><td>Buy</td><td>Limit</td><td>38187.96000000</td><td>0.00100000</td><td>0.00100000</td><td></td><td>1700842360809000</td><td>0.0</td><td>0.00000000</td><td>0.0</td><td>0.0</td><td></td><td>True</td><td></td><td>0.0</td><td>0.0</td><td>0.0</td><td>0.0</td><td>0.0</td><td>0.0</td><td>0.0</td><td>0.0</td></tr></tbody></table>"
            ]
          },
          "metadata": {},
          "execution_count": 27
        }
      ],
      "source": [
        "# 未約定のオーダーを表示する。オーダーが１つ増えているはず。\n",
        "open_order = market.open_orders\n",
        "\n",
        "HTML(json2html.convert(open_order.__str__()))"
      ]
    },
    {
      "cell_type": "code",
      "execution_count": 28,
      "metadata": {
        "id": "Cms-Qt84Uwu0",
        "outputId": "50349794-46b3-44e7-af63-88b24fecf13e",
        "colab": {
          "base_uri": "https://localhost:8080/",
          "height": 88
        }
      },
      "outputs": [
        {
          "output_type": "execute_result",
          "data": {
            "text/plain": [
              "<IPython.core.display.HTML object>"
            ],
            "text/html": [
              "<table border=\"1\"><thead><tr><th>symbol</th><th>create_time</th><th>status</th><th>order_id</th><th>client_order_id</th><th>order_side</th><th>order_type</th><th>order_price</th><th>order_size</th><th>remain_size</th><th>transaction_id</th><th>update_time</th><th>execute_price</th><th>execute_size</th><th>quote_vol</th><th>commission</th><th>commission_asset</th><th>is_maker</th><th>message</th><th>commission_home</th><th>commission_foreign</th><th>home_change</th><th>foreign_change</th><th>free_home_change</th><th>free_foreign_change</th><th>lock_home_change</th><th>lock_foreign_change</th></tr></thead><tbody><tr><td>BTCUSDT</td><td>1700846914038000</td><td>New</td><td>7582337</td><td>BW4WabPclFIlLDgKglrtSc</td><td>Sell</td><td>Limit</td><td>38321.94000000</td><td>0.00100000</td><td>0.00100000</td><td></td><td>0</td><td>0.0</td><td>0.0</td><td>0.0</td><td>0.0</td><td></td><td>False</td><td></td><td>0.0</td><td>0.0</td><td>0.0</td><td>0.0</td><td>0.0</td><td>0.0</td><td>0.0</td><td>0.0</td></tr></tbody></table>"
            ]
          },
          "metadata": {},
          "execution_count": 28
        }
      ],
      "source": [
        "# 板より５００ドル高いところへ0.0001BTCの売り注文を出す\n",
        "sell_limit_order = market.limit_order(\"SELL\", ask_edge + 500, 0.001)\n",
        "\n",
        "HTML(json2html.convert(sell_limit_order.__str__()))"
      ]
    },
    {
      "cell_type": "code",
      "execution_count": 29,
      "metadata": {
        "id": "z3yCHSNMUwu1",
        "outputId": "fd84f2d4-ada6-4ba2-bc7d-e9b1ad5c63de",
        "colab": {
          "base_uri": "https://localhost:8080/",
          "height": 88
        }
      },
      "outputs": [
        {
          "output_type": "execute_result",
          "data": {
            "text/plain": [
              "<IPython.core.display.HTML object>"
            ],
            "text/html": [
              "<table border=\"1\"><thead><tr><th>symbol</th><th>create_time</th><th>status</th><th>order_id</th><th>client_order_id</th><th>order_side</th><th>order_type</th><th>order_price</th><th>order_size</th><th>remain_size</th><th>transaction_id</th><th>update_time</th><th>execute_price</th><th>execute_size</th><th>quote_vol</th><th>commission</th><th>commission_asset</th><th>is_maker</th><th>message</th><th>commission_home</th><th>commission_foreign</th><th>home_change</th><th>foreign_change</th><th>free_home_change</th><th>free_foreign_change</th><th>lock_home_change</th><th>lock_foreign_change</th></tr></thead><tbody><tr><td>BTCUSDT</td><td>1700842360809000</td><td>New</td><td>7566098</td><td>VHHjQJBZmrfdX6yXrE8t0n</td><td>Buy</td><td>Limit</td><td>38187.96000000</td><td>0.00100000</td><td>0.00100000</td><td></td><td>1700842360809000</td><td>0.0</td><td>0.00000000</td><td>0.0</td><td>0.0</td><td></td><td>True</td><td></td><td>0.0</td><td>0.0</td><td>0.0</td><td>0.0</td><td>0.0</td><td>0.0</td><td>0.0</td><td>0.0</td></tr></tbody></table>"
            ]
          },
          "metadata": {},
          "execution_count": 29
        }
      ],
      "source": [
        "# 未約定のオーダーを表示する。オーダーが１つ増えているはず（合計２つ）（価格変動があり約定してしまうことがあります。その場合はmarket.order_statusで直近の状況を確かめられます）\n",
        "open_order = market.open_orders\n",
        "\n",
        "HTML(json2html.convert(open_order.__str__()))"
      ]
    },
    {
      "cell_type": "code",
      "execution_count": 30,
      "metadata": {
        "id": "uTZrp5lrUwu1",
        "outputId": "e33cc630-1a15-40c9-f75a-f7bd2aaf28d0",
        "colab": {
          "base_uri": "https://localhost:8080/"
        }
      },
      "outputs": [
        {
          "output_type": "stream",
          "name": "stdout",
          "text": [
            "BTC 残高 = {\"asset\":\"BTC\",\"free\":\"1.00300000\",\"locked\":\"0.00100000\"}\n",
            "USDT残高 = {\"asset\":\"USDT\",\"free\":\"9774.37792000\",\"locked\":\"74.64336000\"}\n"
          ]
        }
      ],
      "source": [
        "# 最新の残高を確認。注文中の資産がLockされているはず。\n",
        "account = market.account\n",
        "print(\"BTC 残高 =\", account['BTC'])\n",
        "print(\"USDT残高 =\", account['USDT'])"
      ]
    },
    {
      "cell_type": "code",
      "execution_count": 31,
      "metadata": {
        "id": "jnreLKm0Uwu1",
        "outputId": "6583f63b-de01-4048-e6ca-4b38764feac7",
        "colab": {
          "base_uri": "https://localhost:8080/"
        }
      },
      "outputs": [
        {
          "output_type": "stream",
          "name": "stdout",
          "text": [
            "キャンセルするオーダーID = 7582199\n"
          ]
        },
        {
          "output_type": "execute_result",
          "data": {
            "text/plain": [
              "{\"symbol\":\"BTCUSDT\",\"create_time\":1700846927142000,\"status\":\"Canceled\",\"order_id\":\"7582337\",\"client_order_id\":\"i7ixXQ6I1cyZABPZSS5lJB\",\"order_side\":\"Sell\",\"order_type\":\"Limit\",\"order_price\":\"38321.94000000\",\"order_size\":\"0.00100000\",\"remain_size\":\"0.00100000\",\"transaction_id\":\"\",\"update_time\":0,\"execute_price\":\"0.0\",\"execute_size\":\"0.0\",\"quote_vol\":\"0.0\",\"commission\":\"0.0\",\"commission_asset\":\"\",\"is_maker\":false,\"message\":\"\",\"commission_home\":\"0.0\",\"commission_foreign\":\"0.0\",\"home_change\":\"0.0\",\"foreign_change\":\"0.0\",\"free_home_change\":\"0.0\",\"free_foreign_change\":\"0.0\",\"lock_home_change\":\"0.0\",\"lock_foreign_change\":\"0.0\"}"
            ]
          },
          "metadata": {},
          "execution_count": 31
        }
      ],
      "source": [
        "# 売りオーダーをキャンセルする\n",
        "\n",
        "id_to_cancel = buy_limit_order[0].order_id\n",
        "\n",
        "print(\"キャンセルするオーダーID =\", id_to_cancel)\n",
        "\n",
        "market.cancel_order(sell_limit_order[0].order_id)"
      ]
    },
    {
      "cell_type": "code",
      "execution_count": 32,
      "metadata": {
        "id": "zips5gKZUwu1",
        "outputId": "04f7cc22-0de8-4fe6-b917-f4c2cb9655fa",
        "colab": {
          "base_uri": "https://localhost:8080/",
          "height": 88
        }
      },
      "outputs": [
        {
          "output_type": "execute_result",
          "data": {
            "text/plain": [
              "<IPython.core.display.HTML object>"
            ],
            "text/html": [
              "<table border=\"1\"><thead><tr><th>symbol</th><th>create_time</th><th>status</th><th>order_id</th><th>client_order_id</th><th>order_side</th><th>order_type</th><th>order_price</th><th>order_size</th><th>remain_size</th><th>transaction_id</th><th>update_time</th><th>execute_price</th><th>execute_size</th><th>quote_vol</th><th>commission</th><th>commission_asset</th><th>is_maker</th><th>message</th><th>commission_home</th><th>commission_foreign</th><th>home_change</th><th>foreign_change</th><th>free_home_change</th><th>free_foreign_change</th><th>lock_home_change</th><th>lock_foreign_change</th></tr></thead><tbody><tr><td>BTCUSDT</td><td>1700842360809000</td><td>New</td><td>7566098</td><td>VHHjQJBZmrfdX6yXrE8t0n</td><td>Buy</td><td>Limit</td><td>38187.96000000</td><td>0.00100000</td><td>0.00100000</td><td></td><td>1700842360809000</td><td>0.0</td><td>0.00000000</td><td>0.0</td><td>0.0</td><td></td><td>True</td><td></td><td>0.0</td><td>0.0</td><td>0.0</td><td>0.0</td><td>0.0</td><td>0.0</td><td>0.0</td><td>0.0</td></tr></tbody></table>"
            ]
          },
          "metadata": {},
          "execution_count": 32
        }
      ],
      "source": [
        "# キャンセルしたオーダーがなくなっていることを確認する\n",
        "open_order = market.open_orders\n",
        "\n",
        "HTML(json2html.convert(open_order.__str__()))"
      ]
    },
    {
      "cell_type": "code",
      "execution_count": 33,
      "metadata": {
        "id": "V56nScSGUwu1",
        "outputId": "9631937f-4daf-4fff-8a16-17fb968e4092",
        "colab": {
          "base_uri": "https://localhost:8080/"
        }
      },
      "outputs": [
        {
          "output_type": "stream",
          "name": "stdout",
          "text": [
            "BTC 残高 = {\"asset\":\"BTC\",\"free\":\"1.00400000\",\"locked\":\"0.00000000\"}\n",
            "USDT残高 = {\"asset\":\"USDT\",\"free\":\"9774.37792000\",\"locked\":\"74.64336000\"}\n"
          ]
        }
      ],
      "source": [
        "# 最新の残高を確認。キャンセルされた分の資産のLockが解放される。\n",
        "account = market.account\n",
        "print(\"BTC 残高 =\", account['BTC'])\n",
        "print(\"USDT残高 =\", account['USDT'])"
      ]
    },
    {
      "cell_type": "markdown",
      "metadata": {
        "id": "wjTzfMwpUwu1"
      },
      "source": [
        "## Market order"
      ]
    },
    {
      "cell_type": "code",
      "execution_count": 34,
      "metadata": {
        "id": "s2CqjpUHUwu1",
        "outputId": "1666de0c-9070-4d32-f29c-dbac18e3c4b5",
        "colab": {
          "base_uri": "https://localhost:8080/"
        }
      },
      "outputs": [
        {
          "output_type": "execute_result",
          "data": {
            "text/plain": [
              "[{\"symbol\":\"BTCUSDT\",\"create_time\":1700846935950000,\"status\":\"Filled\",\"order_id\":\"7582416\",\"client_order_id\":\"YzpanHRoPf05rY48CqSxQK\",\"order_side\":\"Buy\",\"order_type\":\"Market\",\"order_price\":\"0.00000000\",\"order_size\":\"0.00100000\",\"remain_size\":\"0.00000000\",\"transaction_id\":\"1543194\",\"update_time\":0,\"execute_price\":\"37763.11000000\",\"execute_size\":\"0.00100000\",\"quote_vol\":\"37.7631100000000000\",\"commission\":\"0.00000000\",\"commission_asset\":\"BTC\",\"is_maker\":false,\"message\":\"\",\"commission_home\":\"0.0\",\"commission_foreign\":\"0.0\",\"home_change\":\"0.0\",\"foreign_change\":\"0.0\",\"free_home_change\":\"0.0\",\"free_foreign_change\":\"0.0\",\"lock_home_change\":\"0.0\",\"lock_foreign_change\":\"0.0\"}]"
            ]
          },
          "metadata": {},
          "execution_count": 34
        }
      ],
      "source": [
        "# market orderを出す\n",
        "\n",
        "market_order = market.market_order(\"BUY\", 0.001)   # 0.001BTCを市場価格で買う\n",
        "market_order"
      ]
    },
    {
      "cell_type": "code",
      "execution_count": 35,
      "metadata": {
        "id": "IqIaleShUwu1",
        "outputId": "478ee2d7-c878-4229-fdb0-7be10f595c9f",
        "colab": {
          "base_uri": "https://localhost:8080/"
        }
      },
      "outputs": [
        {
          "output_type": "execute_result",
          "data": {
            "text/plain": [
              "[{\"symbol\":\"BTCUSDT\",\"orderId\":7513729,\"orderListId\":-1,\"clientOrderId\":\"JbeRhtrx4eYTsjPLQK4xAK\",\"price\":\"37773.99000000\",\"origQty\":\"0.00100000\",\"executedQty\":\"0.00100000\",\"cummulativeQuoteQty\":\"37.77399000\",\"status\":\"Filled\",\"timeInForce\":\"GTC\",\"type\":\"LIMIT\",\"side\":\"BUY\",\"stopPrice\":\"0.00000000\",\"icebergQty\":\"0.00000000\",\"time\":1700827718543,\"updateTime\":1700827806990,\"isWorking\":true,\"workingTime\":1700827718543,\"origQuoteOrderQty\":\"0.00000000\",\"selfTradePreventionMode\":\"NONE\"},\n",
              " {\"symbol\":\"BTCUSDT\",\"orderId\":7513970,\"orderListId\":-1,\"clientOrderId\":\"xRSJykRtc1na5F7b9cvIsZ\",\"price\":\"37974.00000000\",\"origQty\":\"0.00100000\",\"executedQty\":\"0.00100000\",\"cummulativeQuoteQty\":\"37.97400000\",\"status\":\"Filled\",\"timeInForce\":\"GTC\",\"type\":\"LIMIT\",\"side\":\"SELL\",\"stopPrice\":\"0.00000000\",\"icebergQty\":\"0.00000000\",\"time\":1700827832755,\"updateTime\":1700829920736,\"isWorking\":true,\"workingTime\":1700827832755,\"origQuoteOrderQty\":\"0.00000000\",\"selfTradePreventionMode\":\"NONE\"},\n",
              " {\"symbol\":\"BTCUSDT\",\"orderId\":7518625,\"orderListId\":-1,\"clientOrderId\":\"sR3KMF5k1p1ZkreO6IbzA8\",\"price\":\"37848.34000000\",\"origQty\":\"0.00100000\",\"executedQty\":\"0.00100000\",\"cummulativeQuoteQty\":\"37.84834000\",\"status\":\"Filled\",\"timeInForce\":\"GTC\",\"type\":\"LIMIT\",\"side\":\"BUY\",\"stopPrice\":\"0.00000000\",\"icebergQty\":\"0.00000000\",\"time\":1700829281001,\"updateTime\":1700829808228,\"isWorking\":true,\"workingTime\":1700829281001,\"origQuoteOrderQty\":\"0.00000000\",\"selfTradePreventionMode\":\"NONE\"},\n",
              " {\"symbol\":\"BTCUSDT\",\"orderId\":7518630,\"orderListId\":-1,\"clientOrderId\":\"B5TTCU7yVCV8F53WXy4dp1\",\"price\":\"38048.35000000\",\"origQty\":\"0.00100000\",\"executedQty\":\"0.00100000\",\"cummulativeQuoteQty\":\"38.04835000\",\"status\":\"Filled\",\"timeInForce\":\"GTC\",\"type\":\"LIMIT\",\"side\":\"SELL\",\"stopPrice\":\"0.00000000\",\"icebergQty\":\"0.00000000\",\"time\":1700829282424,\"updateTime\":1700829920736,\"isWorking\":true,\"workingTime\":1700829282424,\"origQuoteOrderQty\":\"0.00000000\",\"selfTradePreventionMode\":\"NONE\"},\n",
              " {\"symbol\":\"BTCUSDT\",\"orderId\":7519645,\"orderListId\":-1,\"clientOrderId\":\"MIDNtgQy58kqsBRkLMakDj\",\"price\":\"37841.24000000\",\"origQty\":\"0.00100000\",\"executedQty\":\"0.00100000\",\"cummulativeQuoteQty\":\"37.84124000\",\"status\":\"Filled\",\"timeInForce\":\"GTC\",\"type\":\"LIMIT\",\"side\":\"BUY\",\"stopPrice\":\"0.00000000\",\"icebergQty\":\"0.00000000\",\"time\":1700829590899,\"updateTime\":1700829808228,\"isWorking\":true,\"workingTime\":1700829590899,\"origQuoteOrderQty\":\"0.00000000\",\"selfTradePreventionMode\":\"NONE\"},\n",
              " {\"symbol\":\"BTCUSDT\",\"orderId\":7519652,\"orderListId\":-1,\"clientOrderId\":\"X4dzKf5YspjYKSjM2C2Yfh\",\"price\":\"38041.31000000\",\"origQty\":\"0.00100000\",\"executedQty\":\"0.00100000\",\"cummulativeQuoteQty\":\"38.04131000\",\"status\":\"Filled\",\"timeInForce\":\"GTC\",\"type\":\"LIMIT\",\"side\":\"SELL\",\"stopPrice\":\"0.00000000\",\"icebergQty\":\"0.00000000\",\"time\":1700829591968,\"updateTime\":1700829920736,\"isWorking\":true,\"workingTime\":1700829591968,\"origQuoteOrderQty\":\"0.00000000\",\"selfTradePreventionMode\":\"NONE\"},\n",
              " {\"symbol\":\"BTCUSDT\",\"orderId\":7530348,\"orderListId\":-1,\"clientOrderId\":\"VdCXGtM0YeidZRC55BPkKD\",\"price\":\"37711.11000000\",\"origQty\":\"0.00100000\",\"executedQty\":\"0.00100000\",\"cummulativeQuoteQty\":\"37.71111000\",\"status\":\"Filled\",\"timeInForce\":\"GTC\",\"type\":\"LIMIT\",\"side\":\"BUY\",\"stopPrice\":\"0.00000000\",\"icebergQty\":\"0.00000000\",\"time\":1700832722710,\"updateTime\":1700833328005,\"isWorking\":true,\"workingTime\":1700832722710,\"origQuoteOrderQty\":\"0.00000000\",\"selfTradePreventionMode\":\"NONE\"},\n",
              " {\"symbol\":\"BTCUSDT\",\"orderId\":7530354,\"orderListId\":-1,\"clientOrderId\":\"z4mYa9GbTXwDJLHJel8CxI\",\"price\":\"37911.12000000\",\"origQty\":\"0.00100000\",\"executedQty\":\"0.00000000\",\"cummulativeQuoteQty\":\"0.00000000\",\"status\":\"Canceled\",\"timeInForce\":\"GTC\",\"type\":\"LIMIT\",\"side\":\"SELL\",\"stopPrice\":\"0.00000000\",\"icebergQty\":\"0.00000000\",\"time\":1700832724064,\"updateTime\":1700834969597,\"isWorking\":true,\"workingTime\":1700832724064,\"origQuoteOrderQty\":\"0.00000000\",\"selfTradePreventionMode\":\"NONE\"},\n",
              " {\"symbol\":\"BTCUSDT\",\"orderId\":7530945,\"orderListId\":-1,\"clientOrderId\":\"8Z31w8XVZyA5o0RVLtG7GQ\",\"price\":\"37691.09000000\",\"origQty\":\"0.00100000\",\"executedQty\":\"0.00100000\",\"cummulativeQuoteQty\":\"37.69109000\",\"status\":\"Filled\",\"timeInForce\":\"GTC\",\"type\":\"LIMIT\",\"side\":\"BUY\",\"stopPrice\":\"0.00000000\",\"icebergQty\":\"0.00000000\",\"time\":1700832883494,\"updateTime\":1700833340694,\"isWorking\":true,\"workingTime\":1700832883494,\"origQuoteOrderQty\":\"0.00000000\",\"selfTradePreventionMode\":\"NONE\"},\n",
              " {\"symbol\":\"BTCUSDT\",\"orderId\":7534043,\"orderListId\":-1,\"clientOrderId\":\"dpB4keSJA3HsMCnhs8zIsC\",\"price\":\"37607.59000000\",\"origQty\":\"0.00100000\",\"executedQty\":\"0.00000000\",\"cummulativeQuoteQty\":\"0.00000000\",\"status\":\"Canceled\",\"timeInForce\":\"GTC\",\"type\":\"LIMIT\",\"side\":\"BUY\",\"stopPrice\":\"0.00000000\",\"icebergQty\":\"0.00000000\",\"time\":1700833719784,\"updateTime\":1700834969597,\"isWorking\":true,\"workingTime\":1700833719784,\"origQuoteOrderQty\":\"0.00000000\",\"selfTradePreventionMode\":\"NONE\"},\n",
              " {\"symbol\":\"BTCUSDT\",\"orderId\":7534048,\"orderListId\":-1,\"clientOrderId\":\"cBW4eXsDPaHFnmAskS0Fb2\",\"price\":\"37807.60000000\",\"origQty\":\"0.00100000\",\"executedQty\":\"0.00100000\",\"cummulativeQuoteQty\":\"37.80760000\",\"status\":\"Filled\",\"timeInForce\":\"GTC\",\"type\":\"LIMIT\",\"side\":\"SELL\",\"stopPrice\":\"0.00000000\",\"icebergQty\":\"0.00000000\",\"time\":1700833720940,\"updateTime\":1700834195704,\"isWorking\":true,\"workingTime\":1700833720940,\"origQuoteOrderQty\":\"0.00000000\",\"selfTradePreventionMode\":\"NONE\"},\n",
              " {\"symbol\":\"BTCUSDT\",\"orderId\":7534396,\"orderListId\":-1,\"clientOrderId\":\"fwg7SJW0IyI1FrtqsuzJDE\",\"price\":\"37593.57000000\",\"origQty\":\"0.00100000\",\"executedQty\":\"0.00000000\",\"cummulativeQuoteQty\":\"0.00000000\",\"status\":\"Canceled\",\"timeInForce\":\"GTC\",\"type\":\"LIMIT\",\"side\":\"BUY\",\"stopPrice\":\"0.00000000\",\"icebergQty\":\"0.00000000\",\"time\":1700833810232,\"updateTime\":1700834969597,\"isWorking\":true,\"workingTime\":1700833810232,\"origQuoteOrderQty\":\"0.00000000\",\"selfTradePreventionMode\":\"NONE\"},\n",
              " {\"symbol\":\"BTCUSDT\",\"orderId\":7534401,\"orderListId\":-1,\"clientOrderId\":\"olYhcCYAMvJAqkAbIjRI9q\",\"price\":\"37794.00000000\",\"origQty\":\"0.00100000\",\"executedQty\":\"0.00100000\",\"cummulativeQuoteQty\":\"37.79400000\",\"status\":\"Filled\",\"timeInForce\":\"GTC\",\"type\":\"LIMIT\",\"side\":\"SELL\",\"stopPrice\":\"0.00000000\",\"icebergQty\":\"0.00000000\",\"time\":1700833811274,\"updateTime\":1700834159374,\"isWorking\":true,\"workingTime\":1700833811274,\"origQuoteOrderQty\":\"0.00000000\",\"selfTradePreventionMode\":\"NONE\"},\n",
              " {\"symbol\":\"BTCUSDT\",\"orderId\":7538759,\"orderListId\":-1,\"clientOrderId\":\"sEOj1DWbNPYzVG1L4QhNPr\",\"price\":\"37593.57000000\",\"origQty\":\"0.00100000\",\"executedQty\":\"0.00000000\",\"cummulativeQuoteQty\":\"0.00000000\",\"status\":\"Canceled\",\"timeInForce\":\"GTC\",\"type\":\"LIMIT\",\"side\":\"BUY\",\"stopPrice\":\"0.00000000\",\"icebergQty\":\"0.00000000\",\"time\":1700834883465,\"updateTime\":1700834969597,\"isWorking\":true,\"workingTime\":1700834883465,\"origQuoteOrderQty\":\"0.00000000\",\"selfTradePreventionMode\":\"NONE\"},\n",
              " {\"symbol\":\"BTCUSDT\",\"orderId\":7538796,\"orderListId\":-1,\"clientOrderId\":\"bNAa6NQGmQL9F8lti0d76X\",\"price\":\"37794.00000000\",\"origQty\":\"0.00100000\",\"executedQty\":\"0.00100000\",\"cummulativeQuoteQty\":\"37.79400000\",\"status\":\"Filled\",\"timeInForce\":\"GTC\",\"type\":\"LIMIT\",\"side\":\"SELL\",\"stopPrice\":\"0.00000000\",\"icebergQty\":\"0.00000000\",\"time\":1700834896087,\"updateTime\":1700834946519,\"isWorking\":true,\"workingTime\":1700834896087,\"origQuoteOrderQty\":\"0.00000000\",\"selfTradePreventionMode\":\"NONE\"},\n",
              " {\"symbol\":\"BTCUSDT\",\"orderId\":7539643,\"orderListId\":-1,\"clientOrderId\":\"ebsCeMPR12KMnUxSKqPtLt\",\"price\":\"37649.75000000\",\"origQty\":\"0.00100000\",\"executedQty\":\"0.00000000\",\"cummulativeQuoteQty\":\"0.00000000\",\"status\":\"Canceled\",\"timeInForce\":\"GTC\",\"type\":\"LIMIT\",\"side\":\"BUY\",\"stopPrice\":\"0.00000000\",\"icebergQty\":\"0.00000000\",\"time\":1700835104223,\"updateTime\":1700836482464,\"isWorking\":true,\"workingTime\":1700835104223,\"origQuoteOrderQty\":\"0.00000000\",\"selfTradePreventionMode\":\"NONE\"},\n",
              " {\"symbol\":\"BTCUSDT\",\"orderId\":7539661,\"orderListId\":-1,\"clientOrderId\":\"Dixl9tgIrGJnvttteJI811\",\"price\":\"37849.76000000\",\"origQty\":\"0.00100000\",\"executedQty\":\"0.00000000\",\"cummulativeQuoteQty\":\"0.00000000\",\"status\":\"Canceled\",\"timeInForce\":\"GTC\",\"type\":\"LIMIT\",\"side\":\"SELL\",\"stopPrice\":\"0.00000000\",\"icebergQty\":\"0.00000000\",\"time\":1700835106569,\"updateTime\":1700836482464,\"isWorking\":true,\"workingTime\":1700835106569,\"origQuoteOrderQty\":\"0.00000000\",\"selfTradePreventionMode\":\"NONE\"},\n",
              " {\"symbol\":\"BTCUSDT\",\"orderId\":7540456,\"orderListId\":-1,\"clientOrderId\":\"K0FQ927eOcNajYQOQf9XFW\",\"price\":\"37649.75000000\",\"origQty\":\"0.00100000\",\"executedQty\":\"0.00000000\",\"cummulativeQuoteQty\":\"0.00000000\",\"status\":\"Canceled\",\"timeInForce\":\"GTC\",\"type\":\"LIMIT\",\"side\":\"BUY\",\"stopPrice\":\"0.00000000\",\"icebergQty\":\"0.00000000\",\"time\":1700835293478,\"updateTime\":1700836482464,\"isWorking\":true,\"workingTime\":1700835293478,\"origQuoteOrderQty\":\"0.00000000\",\"selfTradePreventionMode\":\"NONE\"},\n",
              " {\"symbol\":\"BTCUSDT\",\"orderId\":7540465,\"orderListId\":-1,\"clientOrderId\":\"ZKYcWJ1Vdoye6ZpFNUyH3n\",\"price\":\"37849.76000000\",\"origQty\":\"0.00100000\",\"executedQty\":\"0.00000000\",\"cummulativeQuoteQty\":\"0.00000000\",\"status\":\"Canceled\",\"timeInForce\":\"GTC\",\"type\":\"LIMIT\",\"side\":\"SELL\",\"stopPrice\":\"0.00000000\",\"icebergQty\":\"0.00000000\",\"time\":1700835294852,\"updateTime\":1700836482464,\"isWorking\":true,\"workingTime\":1700835294852,\"origQuoteOrderQty\":\"0.00000000\",\"selfTradePreventionMode\":\"NONE\"},\n",
              " {\"symbol\":\"BTCUSDT\",\"orderId\":7541140,\"orderListId\":-1,\"clientOrderId\":\"TB6LCEe0vfzxJ5lMIgcn8F\",\"price\":\"37649.75000000\",\"origQty\":\"0.00100000\",\"executedQty\":\"0.00000000\",\"cummulativeQuoteQty\":\"0.00000000\",\"status\":\"Canceled\",\"timeInForce\":\"GTC\",\"type\":\"LIMIT\",\"side\":\"BUY\",\"stopPrice\":\"0.00000000\",\"icebergQty\":\"0.00000000\",\"time\":1700835443121,\"updateTime\":1700836482464,\"isWorking\":true,\"workingTime\":1700835443121,\"origQuoteOrderQty\":\"0.00000000\",\"selfTradePreventionMode\":\"NONE\"},\n",
              " {\"symbol\":\"BTCUSDT\",\"orderId\":7541145,\"orderListId\":-1,\"clientOrderId\":\"aQ7cRgD9EFpexHvZDwpkIr\",\"price\":\"37849.76000000\",\"origQty\":\"0.00100000\",\"executedQty\":\"0.00000000\",\"cummulativeQuoteQty\":\"0.00000000\",\"status\":\"Canceled\",\"timeInForce\":\"GTC\",\"type\":\"LIMIT\",\"side\":\"SELL\",\"stopPrice\":\"0.00000000\",\"icebergQty\":\"0.00000000\",\"time\":1700835444717,\"updateTime\":1700836482464,\"isWorking\":true,\"workingTime\":1700835444717,\"origQuoteOrderQty\":\"0.00000000\",\"selfTradePreventionMode\":\"NONE\"},\n",
              " {\"symbol\":\"BTCUSDT\",\"orderId\":7541181,\"orderListId\":-1,\"clientOrderId\":\"K85inbjTriUPHH4dvObO0m\",\"price\":\"37849.76000000\",\"origQty\":\"0.00100000\",\"executedQty\":\"0.00000000\",\"cummulativeQuoteQty\":\"0.00000000\",\"status\":\"Canceled\",\"timeInForce\":\"GTC\",\"type\":\"LIMIT\",\"side\":\"SELL\",\"stopPrice\":\"0.00000000\",\"icebergQty\":\"0.00000000\",\"time\":1700835451758,\"updateTime\":1700835591292,\"isWorking\":true,\"workingTime\":1700835451758,\"origQuoteOrderQty\":\"0.00000000\",\"selfTradePreventionMode\":\"NONE\"},\n",
              " {\"symbol\":\"BTCUSDT\",\"orderId\":7543715,\"orderListId\":-1,\"clientOrderId\":\"UnP6CKTDdSytJxtPiFAq7H\",\"price\":\"0.00000000\",\"origQty\":\"0.00100000\",\"executedQty\":\"0.00100000\",\"cummulativeQuoteQty\":\"37.72752000\",\"status\":\"Filled\",\"timeInForce\":\"GTC\",\"type\":\"MARKET\",\"side\":\"BUY\",\"stopPrice\":\"0.00000000\",\"icebergQty\":\"0.00000000\",\"time\":1700836035726,\"updateTime\":1700836035726,\"isWorking\":true,\"workingTime\":1700836035726,\"origQuoteOrderQty\":\"0.00000000\",\"selfTradePreventionMode\":\"NONE\"},\n",
              " {\"symbol\":\"BTCUSDT\",\"orderId\":7545629,\"orderListId\":-1,\"clientOrderId\":\"AdgSVo4ycanmulqozipml2\",\"price\":\"37621.10000000\",\"origQty\":\"0.00100000\",\"executedQty\":\"0.00000000\",\"cummulativeQuoteQty\":\"0.00000000\",\"status\":\"Canceled\",\"timeInForce\":\"GTC\",\"type\":\"LIMIT\",\"side\":\"BUY\",\"stopPrice\":\"0.00000000\",\"icebergQty\":\"0.00000000\",\"time\":1700836482698,\"updateTime\":1700836635002,\"isWorking\":true,\"workingTime\":1700836482698,\"origQuoteOrderQty\":\"0.00000000\",\"selfTradePreventionMode\":\"NONE\"},\n",
              " {\"symbol\":\"BTCUSDT\",\"orderId\":7545630,\"orderListId\":-1,\"clientOrderId\":\"NWrwDbkxll0s15uCt6qWUG\",\"price\":\"37821.11000000\",\"origQty\":\"0.00100000\",\"executedQty\":\"0.00000000\",\"cummulativeQuoteQty\":\"0.00000000\",\"status\":\"Canceled\",\"timeInForce\":\"GTC\",\"type\":\"LIMIT\",\"side\":\"SELL\",\"stopPrice\":\"0.00000000\",\"icebergQty\":\"0.00000000\",\"time\":1700836482786,\"updateTime\":1700836483091,\"isWorking\":true,\"workingTime\":1700836482786,\"origQuoteOrderQty\":\"0.00000000\",\"selfTradePreventionMode\":\"NONE\"},\n",
              " {\"symbol\":\"BTCUSDT\",\"orderId\":7545638,\"orderListId\":-1,\"clientOrderId\":\"dLpkVxXeCCcJfeIpyOs8e6\",\"price\":\"0.00000000\",\"origQty\":\"0.00100000\",\"executedQty\":\"0.00100000\",\"cummulativeQuoteQty\":\"37.72111000\",\"status\":\"Filled\",\"timeInForce\":\"GTC\",\"type\":\"MARKET\",\"side\":\"BUY\",\"stopPrice\":\"0.00000000\",\"icebergQty\":\"0.00000000\",\"time\":1700836483349,\"updateTime\":1700836483349,\"isWorking\":true,\"workingTime\":1700836483349,\"origQuoteOrderQty\":\"0.00000000\",\"selfTradePreventionMode\":\"NONE\"},\n",
              " {\"symbol\":\"BTCUSDT\",\"orderId\":7546208,\"orderListId\":-1,\"clientOrderId\":\"8NvTli7bmkv8sz5s3uhEd3\",\"price\":\"37574.00000000\",\"origQty\":\"0.00100000\",\"executedQty\":\"0.00000000\",\"cummulativeQuoteQty\":\"0.00000000\",\"status\":\"Canceled\",\"timeInForce\":\"GTC\",\"type\":\"LIMIT\",\"side\":\"BUY\",\"stopPrice\":\"0.00000000\",\"icebergQty\":\"0.00000000\",\"time\":1700836646396,\"updateTime\":1700842354139,\"isWorking\":true,\"workingTime\":1700836646396,\"origQuoteOrderQty\":\"0.00000000\",\"selfTradePreventionMode\":\"NONE\"},\n",
              " {\"symbol\":\"BTCUSDT\",\"orderId\":7546215,\"orderListId\":-1,\"clientOrderId\":\"AKOXICwwcPih6o6h5rgEel\",\"price\":\"37774.01000000\",\"origQty\":\"0.00100000\",\"executedQty\":\"0.00000000\",\"cummulativeQuoteQty\":\"0.00000000\",\"status\":\"Canceled\",\"timeInForce\":\"GTC\",\"type\":\"LIMIT\",\"side\":\"SELL\",\"stopPrice\":\"0.00000000\",\"icebergQty\":\"0.00000000\",\"time\":1700836647725,\"updateTime\":1700836665046,\"isWorking\":true,\"workingTime\":1700836647725,\"origQuoteOrderQty\":\"0.00000000\",\"selfTradePreventionMode\":\"NONE\"},\n",
              " {\"symbol\":\"BTCUSDT\",\"orderId\":7546318,\"orderListId\":-1,\"clientOrderId\":\"L1pGfNJGExAWUO5APVlI2g\",\"price\":\"0.00000000\",\"origQty\":\"0.00100000\",\"executedQty\":\"0.00100000\",\"cummulativeQuoteQty\":\"37.66659000\",\"status\":\"Filled\",\"timeInForce\":\"GTC\",\"type\":\"MARKET\",\"side\":\"BUY\",\"stopPrice\":\"0.00000000\",\"icebergQty\":\"0.00000000\",\"time\":1700836678637,\"updateTime\":1700836678637,\"isWorking\":true,\"workingTime\":1700836678637,\"origQuoteOrderQty\":\"0.00000000\",\"selfTradePreventionMode\":\"NONE\"},\n",
              " {\"symbol\":\"BTCUSDT\",\"orderId\":7566098,\"orderListId\":-1,\"clientOrderId\":\"VHHjQJBZmrfdX6yXrE8t0n\",\"price\":\"38187.96000000\",\"origQty\":\"0.00100000\",\"executedQty\":\"0.00100000\",\"cummulativeQuoteQty\":\"38.18796000\",\"status\":\"Filled\",\"timeInForce\":\"GTC\",\"type\":\"LIMIT\",\"side\":\"BUY\",\"stopPrice\":\"0.00000000\",\"icebergQty\":\"0.00000000\",\"time\":1700842360809,\"updateTime\":1700843870669,\"isWorking\":true,\"workingTime\":1700842360809,\"origQuoteOrderQty\":\"0.00000000\",\"selfTradePreventionMode\":\"NONE\"},\n",
              " {\"symbol\":\"BTCUSDT\",\"orderId\":7566108,\"orderListId\":-1,\"clientOrderId\":\"2o5dRSFsUjUHd7mFsEZ1bR\",\"price\":\"38387.97000000\",\"origQty\":\"0.00100000\",\"executedQty\":\"0.00000000\",\"cummulativeQuoteQty\":\"0.00000000\",\"status\":\"Canceled\",\"timeInForce\":\"GTC\",\"type\":\"LIMIT\",\"side\":\"SELL\",\"stopPrice\":\"0.00000000\",\"icebergQty\":\"0.00000000\",\"time\":1700842363895,\"updateTime\":1700842367012,\"isWorking\":true,\"workingTime\":1700842363895,\"origQuoteOrderQty\":\"0.00000000\",\"selfTradePreventionMode\":\"NONE\"},\n",
              " {\"symbol\":\"BTCUSDT\",\"orderId\":7566125,\"orderListId\":-1,\"clientOrderId\":\"AWFGGSP9RhLazv1AzxOtAf\",\"price\":\"0.00000000\",\"origQty\":\"0.00100000\",\"executedQty\":\"0.00100000\",\"cummulativeQuoteQty\":\"38.26903000\",\"status\":\"Filled\",\"timeInForce\":\"GTC\",\"type\":\"MARKET\",\"side\":\"BUY\",\"stopPrice\":\"0.00000000\",\"icebergQty\":\"0.00000000\",\"time\":1700842371069,\"updateTime\":1700842371069,\"isWorking\":true,\"workingTime\":1700842371069,\"origQuoteOrderQty\":\"0.00000000\",\"selfTradePreventionMode\":\"NONE\"},\n",
              " {\"symbol\":\"BTCUSDT\",\"orderId\":7580158,\"orderListId\":-1,\"clientOrderId\":\"mq2TSMUSwBa0qJuArQ2jMs\",\"price\":\"37641.46000000\",\"origQty\":\"0.00100000\",\"executedQty\":\"0.00000000\",\"cummulativeQuoteQty\":\"0.00000000\",\"status\":\"Canceled\",\"timeInForce\":\"GTC\",\"type\":\"LIMIT\",\"side\":\"BUY\",\"stopPrice\":\"0.00000000\",\"icebergQty\":\"0.00000000\",\"time\":1700846323611,\"updateTime\":1700846499659,\"isWorking\":true,\"workingTime\":1700846323611,\"origQuoteOrderQty\":\"0.00000000\",\"selfTradePreventionMode\":\"NONE\"},\n",
              " {\"symbol\":\"BTCUSDT\",\"orderId\":7580171,\"orderListId\":-1,\"clientOrderId\":\"NaIdpBk23ogXBhwEE8YNUh\",\"price\":\"37844.44000000\",\"origQty\":\"0.00100000\",\"executedQty\":\"0.00000000\",\"cummulativeQuoteQty\":\"0.00000000\",\"status\":\"Canceled\",\"timeInForce\":\"GTC\",\"type\":\"LIMIT\",\"side\":\"SELL\",\"stopPrice\":\"0.00000000\",\"icebergQty\":\"0.00000000\",\"time\":1700846328241,\"updateTime\":1700846403175,\"isWorking\":true,\"workingTime\":1700846328241,\"origQuoteOrderQty\":\"0.00000000\",\"selfTradePreventionMode\":\"NONE\"},\n",
              " {\"symbol\":\"BTCUSDT\",\"orderId\":7580784,\"orderListId\":-1,\"clientOrderId\":\"w8716YrCzf0eukxzr7FZN7\",\"price\":\"37270.00000000\",\"origQty\":\"0.00100000\",\"executedQty\":\"0.00000000\",\"cummulativeQuoteQty\":\"0.00000000\",\"status\":\"Canceled\",\"timeInForce\":\"GTC\",\"type\":\"LIMIT\",\"side\":\"BUY\",\"stopPrice\":\"0.00000000\",\"icebergQty\":\"0.00000000\",\"time\":1700846508442,\"updateTime\":1700846835380,\"isWorking\":true,\"workingTime\":1700846508442,\"origQuoteOrderQty\":\"0.00000000\",\"selfTradePreventionMode\":\"NONE\"},\n",
              " {\"symbol\":\"BTCUSDT\",\"orderId\":7580800,\"orderListId\":-1,\"clientOrderId\":\"avmRhcGISljeHhghYhXm3F\",\"price\":\"38270.01000000\",\"origQty\":\"0.00100000\",\"executedQty\":\"0.00000000\",\"cummulativeQuoteQty\":\"0.00000000\",\"status\":\"Canceled\",\"timeInForce\":\"GTC\",\"type\":\"LIMIT\",\"side\":\"SELL\",\"stopPrice\":\"0.00000000\",\"icebergQty\":\"0.00000000\",\"time\":1700846513443,\"updateTime\":1700846835380,\"isWorking\":true,\"workingTime\":1700846513443,\"origQuoteOrderQty\":\"0.00000000\",\"selfTradePreventionMode\":\"NONE\"},\n",
              " {\"symbol\":\"BTCUSDT\",\"orderId\":7582127,\"orderListId\":-1,\"clientOrderId\":\"Fuuv5sCmaD1iJOyn24LCoc\",\"price\":\"37321.68000000\",\"origQty\":\"0.00100000\",\"executedQty\":\"0.00000000\",\"cummulativeQuoteQty\":\"0.00000000\",\"status\":\"New\",\"timeInForce\":\"GTC\",\"type\":\"LIMIT\",\"side\":\"BUY\",\"stopPrice\":\"0.00000000\",\"icebergQty\":\"0.00000000\",\"time\":1700846849968,\"updateTime\":1700846849968,\"isWorking\":true,\"workingTime\":1700846849968,\"origQuoteOrderQty\":\"0.00000000\",\"selfTradePreventionMode\":\"NONE\"},\n",
              " {\"symbol\":\"BTCUSDT\",\"orderId\":7582199,\"orderListId\":-1,\"clientOrderId\":\"r9ZdOeLOSwc9FUKVtkZzEM\",\"price\":\"37321.68000000\",\"origQty\":\"0.00100000\",\"executedQty\":\"0.00000000\",\"cummulativeQuoteQty\":\"0.00000000\",\"status\":\"New\",\"timeInForce\":\"GTC\",\"type\":\"LIMIT\",\"side\":\"BUY\",\"stopPrice\":\"0.00000000\",\"icebergQty\":\"0.00000000\",\"time\":1700846867669,\"updateTime\":1700846867669,\"isWorking\":true,\"workingTime\":1700846867669,\"origQuoteOrderQty\":\"0.00000000\",\"selfTradePreventionMode\":\"NONE\"},\n",
              " {\"symbol\":\"BTCUSDT\",\"orderId\":7582337,\"orderListId\":-1,\"clientOrderId\":\"BW4WabPclFIlLDgKglrtSc\",\"price\":\"38321.94000000\",\"origQty\":\"0.00100000\",\"executedQty\":\"0.00000000\",\"cummulativeQuoteQty\":\"0.00000000\",\"status\":\"Canceled\",\"timeInForce\":\"GTC\",\"type\":\"LIMIT\",\"side\":\"SELL\",\"stopPrice\":\"0.00000000\",\"icebergQty\":\"0.00000000\",\"time\":1700846914038,\"updateTime\":1700846927142,\"isWorking\":true,\"workingTime\":1700846914038,\"origQuoteOrderQty\":\"0.00000000\",\"selfTradePreventionMode\":\"NONE\"},\n",
              " {\"symbol\":\"BTCUSDT\",\"orderId\":7582416,\"orderListId\":-1,\"clientOrderId\":\"YzpanHRoPf05rY48CqSxQK\",\"price\":\"0.00000000\",\"origQty\":\"0.00100000\",\"executedQty\":\"0.00100000\",\"cummulativeQuoteQty\":\"37.76311000\",\"status\":\"Filled\",\"timeInForce\":\"GTC\",\"type\":\"MARKET\",\"side\":\"BUY\",\"stopPrice\":\"0.00000000\",\"icebergQty\":\"0.00000000\",\"time\":1700846935950,\"updateTime\":1700846935950,\"isWorking\":true,\"workingTime\":1700846935950,\"origQuoteOrderQty\":\"0.00000000\",\"selfTradePreventionMode\":\"NONE\"}]"
            ]
          },
          "metadata": {},
          "execution_count": 35
        }
      ],
      "source": [
        "# 直近のオーダーを表示する。status \"Filled\"のオーダーが１つ追加されているはず。\n",
        "# なお大きなオーダーを出すと複数に分割される場合がある。\n",
        "\n",
        "market.order_status"
      ]
    },
    {
      "cell_type": "code",
      "execution_count": 36,
      "metadata": {
        "id": "nvvd-buOUwu1",
        "outputId": "265b8c3f-7a0f-4123-860c-643b231d914b",
        "colab": {
          "base_uri": "https://localhost:8080/"
        }
      },
      "outputs": [
        {
          "output_type": "stream",
          "name": "stdout",
          "text": [
            "BTC 残高 = {\"asset\":\"BTC\",\"free\":\"1.00500000\",\"locked\":\"0.00000000\"}\n",
            "USDT残高 = {\"asset\":\"USDT\",\"free\":\"9736.61481000\",\"locked\":\"74.64336000\"}\n"
          ]
        }
      ],
      "source": [
        "# 最新の残高を確認。約定した分だけBTCが増えて、USDTの残高が減っているはず。\n",
        "account = market.account\n",
        "print(\"BTC 残高 =\", account['BTC'])\n",
        "print(\"USDT残高 =\", account['USDT'])"
      ]
    },
    {
      "cell_type": "code",
      "execution_count": null,
      "metadata": {
        "id": "o-1gQyd4Uwu1"
      },
      "outputs": [],
      "source": []
    }
  ],
  "metadata": {
    "kernelspec": {
      "display_name": "Python 3",
      "language": "python",
      "name": "python3"
    },
    "language_info": {
      "codemirror_mode": {
        "name": "ipython",
        "version": 3
      },
      "file_extension": ".py",
      "mimetype": "text/x-python",
      "name": "python",
      "nbconvert_exporter": "python",
      "pygments_lexer": "ipython3",
      "version": "3.11.6"
    },
    "colab": {
      "provenance": []
    }
  },
  "nbformat": 4,
  "nbformat_minor": 0
}