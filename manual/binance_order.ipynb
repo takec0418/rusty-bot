{
  "cells": [
    {
      "cell_type": "markdown",
      "metadata": {
        "id": "view-in-github",
        "colab_type": "text"
      },
      "source": [
        "<a href=\"https://colab.research.google.com/github/yasstake/rusty-bot/blob/main/manual/binance_order.ipynb\" target=\"_parent\"><img src=\"https://colab.research.google.com/assets/colab-badge.svg\" alt=\"Open In Colab\"/></a>"
      ]
    },
    {
      "cell_type": "markdown",
      "metadata": {
        "id": "hkkD-cZeUwuw"
      },
      "source": [
        "# Binance用オーダー発行API\n",
        "\n",
        "`BinanceMarket`は、通過ペアー毎に以下の機能を提供します。\n",
        "\n",
        "* 蓄積用データベースの生成（Sqlite)\n",
        "* 約定データのダウンロードと更新\n",
        "  * 過去データのダウンロード(Binance Webサイト)\n",
        "  * リアルタイム更新(WebSocket)\n",
        "* 約定データのDBからの取得と足の作成\n",
        "  * 任意の期間の足の作成(`ohlcv`メソッド)\n",
        "  * VAP(Value At Price)の計算(`vap`メソッド)\n",
        "* オーダーの発行・キャンセル（REST API)　KEYとSECRETの設定が必要です。\n",
        "\n",
        "また通過ペアーの設定は`BinanceConfig`クラスに定義してあります。パラーメータを修正することで任意の通過ペアーに対応可能ですが、テスト完了して提供しているものは以下になります。\n",
        "* `BinanceConfig.BTCUSDT` 本番用BTCUSDTペアー（現物）\n",
        "* `BinanceConfig.TEST_BTCUSDT`　テストネット用BTCUSDTペアー（現物）\n",
        "\n",
        "## 本サンプルの機能\n",
        "\n",
        "本サンプルでは以下を行います。\n",
        "\n",
        "* オーダーの発行(Limit, Market)\n",
        "* オーダーの検索\n",
        "* オーダーのキャンセル\n",
        "* 資産残高の確認\n",
        "\n",
        "### 利用している関数\n",
        "* オーダー発行\n",
        "  * `limit_order(side, price, size)` リミットオーダーの発行\n",
        "  * `market_order(side, size)`　マーケットオーダーの発行\n",
        "* オーダー状況確認\n",
        "  * `order_status`　オーダーステータスの確認（約定済みも含めた直近のもの）\n",
        "  * `open_orders`　未約定一覧\n",
        "* オーダーキャンセル\n",
        "  * `cancel_order(order_id)`　指定したIDのオーダキャンセル\n",
        "  * `cancel_all_orders()`　未約定のオーダーのキャンセル\n",
        "* アカウント情報\n",
        "  * `account`　アカウント情報（残高など）\n",
        "\n",
        "## API KEYについて（注：まずはテストネットで試してください）\n",
        "動作させるためにはAPI KEYが必要です。\n",
        "ローカル環境では、以下の値を環境変数に指定してください。\n",
        "* BINANCE_API_KEY   APIキー\n",
        "* BINANCE_API_SERECT  シークレット\n",
        "\n",
        "Google Clabでは、userdataに設定してください（Colabのページの左側ツールバーにある🔑マークをクリック）。"
      ]
    },
    {
      "cell_type": "markdown",
      "metadata": {
        "id": "NoPGieGZUwuy"
      },
      "source": [
        "## 必要ライブラリのインストール\n",
        "\n",
        "`rbot`がBotFrameWorkの本体です。必要なライブラリを合わせてインストールします。インストール後ランタイムの再起動が必要になる場合があります。"
      ]
    },
    {
      "cell_type": "code",
      "execution_count": 1,
      "metadata": {
        "id": "Aeg-iHJxUwuy",
        "outputId": "b4c351da-a442-4b23-9c81-efa9900aa110",
        "colab": {
          "base_uri": "https://localhost:8080/"
        }
      },
      "outputs": [
        {
          "output_type": "stream",
          "name": "stdout",
          "text": [
            "Requirement already satisfied: pip in /usr/local/lib/python3.10/dist-packages (23.1.2)\n",
            "Collecting pip\n",
            "  Downloading pip-23.3.1-py3-none-any.whl (2.1 MB)\n",
            "\u001b[2K     \u001b[90m━━━━━━━━━━━━━━━━━━━━━━━━━━━━━━━━━━━━━━━━\u001b[0m \u001b[32m2.1/2.1 MB\u001b[0m \u001b[31m21.2 MB/s\u001b[0m eta \u001b[36m0:00:00\u001b[0m\n",
            "\u001b[?25hInstalling collected packages: pip\n",
            "  Attempting uninstall: pip\n",
            "    Found existing installation: pip 23.1.2\n",
            "    Uninstalling pip-23.1.2:\n",
            "      Successfully uninstalled pip-23.1.2\n",
            "Successfully installed pip-23.3.1\n",
            "Collecting rbot==0.2.6\n",
            "  Downloading rbot-0.2.6-cp310-cp310-manylinux_2_17_x86_64.manylinux2014_x86_64.whl.metadata (253 bytes)\n",
            "Downloading rbot-0.2.6-cp310-cp310-manylinux_2_17_x86_64.manylinux2014_x86_64.whl (15.6 MB)\n",
            "\u001b[2K   \u001b[90m━━━━━━━━━━━━━━━━━━━━━━━━━━━━━━━━━━━━━━━━\u001b[0m \u001b[32m15.6/15.6 MB\u001b[0m \u001b[31m23.3 MB/s\u001b[0m eta \u001b[36m0:00:00\u001b[0m\n",
            "\u001b[?25hInstalling collected packages: rbot\n",
            "Successfully installed rbot-0.2.6\n",
            "\u001b[33mWARNING: Running pip as the 'root' user can result in broken permissions and conflicting behaviour with the system package manager. It is recommended to use a virtual environment instead: https://pip.pypa.io/warnings/venv\u001b[0m\u001b[33m\n",
            "\u001b[0m"
          ]
        }
      ],
      "source": [
        "# 必要ライブラリのインストール\n",
        "! pip install --upgrade pip\n",
        "\n",
        "# rbotがbot frameworkになります。PyPiに登録されているので、pipでインストールできます。\n",
        "# まだ開発初期段階なので、インターフェースが変わる可能性があります。そのためバージョン指定しています。\n",
        "! pip install --upgrade rbot==0.2.6\n"
      ]
    },
    {
      "cell_type": "code",
      "execution_count": null,
      "metadata": {
        "id": "a8nwsKcfUwuz"
      },
      "outputs": [],
      "source": [
        "# 必要ライブラリのインストール。環境によっては要・不要があるので適宜修正してください。\n",
        "! pip install json2html"
      ]
    },
    {
      "cell_type": "markdown",
      "metadata": {
        "id": "9xzt1ljYUwuz"
      },
      "source": [
        "## Python コード本体\n",
        "\n",
        "### 必要ライブラリのインポート"
      ]
    },
    {
      "cell_type": "code",
      "execution_count": 1,
      "metadata": {
        "id": "S4j1aSE4Uwuz",
        "outputId": "749aab78-53d4-4f53-9d86-c33966c0a385",
        "colab": {
          "base_uri": "https://localhost:8080/"
        }
      },
      "outputs": [
        {
          "output_type": "stream",
          "name": "stdout",
          "text": [
            "rbot version = 0.2.6\n"
          ]
        }
      ],
      "source": [
        "import rbot\n",
        "# BinanceMarketクラスは、BinanceのAPIを利用して、取引所の情報を取得するクラス\n",
        "from rbot import BinanceMarket\n",
        "\n",
        "# BinanceConfigクラスは、BinanceMarketクラスのコンストラクタに渡す設定クラス\n",
        "from rbot import BinanceConfig\n",
        "\n",
        "from rbot import init_log, init_debug_log\n",
        "#init_debug_log()\n",
        "\n",
        "print(\"rbot version =\", rbot.__version__)"
      ]
    },
    {
      "cell_type": "code",
      "execution_count": 2,
      "metadata": {
        "id": "lN2FrFtiUwuz"
      },
      "outputs": [],
      "source": [
        "# 必要ライブラリーのインポート\n",
        "from json2html import *\n",
        "from IPython.display import HTML"
      ]
    },
    {
      "cell_type": "markdown",
      "metadata": {
        "id": "YYxvJbCOUwuz"
      },
      "source": [
        "### BinanceMarketオブジェクトの生成\n",
        "\n",
        "引数にBinanceConfigを設定してオブジェクトを生成します。"
      ]
    },
    {
      "cell_type": "code",
      "execution_count": null,
      "metadata": {
        "id": "crd_UkiLUwu0"
      },
      "outputs": [],
      "source": [
        "# BinanceMarketクラスのインスタンスを生成(テストネットのBTCUSDT現物取引の設定)\n",
        "config = BinanceConfig.TEST_BTCUSDT\n",
        "\n",
        "# Google Colabの場合は、userdataからAPIキーを取得\n",
        "# 通常は、環境変数に設定してください。\n",
        "if 'google.colab' in str(get_ipython()):\n",
        "    from google.colab import userdata\n",
        "    # Google Colabの場合は、APIキーを入力してください。\n",
        "    config.api_key = userdata.get(\"BINANCE_API_KEY\")\n",
        "    config.api_secret = userdata.get(\"BINANCE_API_SECRET\")\n",
        "\n",
        "# json2htmlを利用して、設定情報を表示\n",
        "HTML(json2html.convert(config.__str__()))"
      ]
    },
    {
      "cell_type": "code",
      "execution_count": 4,
      "metadata": {
        "id": "QUyBAG_iUwu0",
        "outputId": "d5ed778d-0766-443f-f76e-64620a71ae17",
        "colab": {
          "base_uri": "https://localhost:8080/",
          "height": 139
        }
      },
      "outputs": [
        {
          "output_type": "execute_result",
          "data": {
            "text/plain": [
              "<BinanceMarket at 0x55a125768df0>"
            ],
            "text/html": [
              "<b>Binance DB (BTCUSDT)</b>\n",
              "            <table>\n",
              "            <caption>Trade Database info table</caption>\n",
              "            <tr><th>start</th><th>end</th></tr>\n",
              "            <tr><td>1700896516696000</td><td>1700898065939000</td></tr>\n",
              "            <tr><td>\"2023-11-25T07:15:16.696000\"</td><td>\"2023-11-25T07:41:05.939000\"</td></tr>\n",
              "            <tr><td><b>days=</b></td><td>0</td></tr>                \n",
              "            </table>                \n",
              "            "
            ]
          },
          "metadata": {},
          "execution_count": 4
        }
      ],
      "source": [
        "# BinanceMarketクラスのインスタンスを生成(BTCUSDT現物取引の設定)\n",
        "market = BinanceMarket(config)\n",
        "\n",
        "# BinanceMarketのインスタンスを表示すると格納されているデータの情報が表示されます。\n",
        "market"
      ]
    },
    {
      "cell_type": "code",
      "execution_count": 5,
      "metadata": {
        "id": "9ivyZYHcUwu0"
      },
      "outputs": [],
      "source": [
        "from time import sleep\n",
        "\n",
        "# WebSocketを利用して、取引所の情報を取得する\n",
        "# CloabではWebSocketは動作しないので、その場合は、次のセルのbid_edge, ask_edgeを手動で入力する（現在の価格を両方にセットすればOK)\n",
        "market.start_market_stream()\n",
        "\n",
        "sleep(1) # データが揃うまで少し待つ"
      ]
    },
    {
      "cell_type": "code",
      "execution_count": 6,
      "metadata": {
        "id": "6nVE1JDaUwu0",
        "colab": {
          "base_uri": "https://localhost:8080/"
        },
        "outputId": "a8562b03-1ec2-4152-fc87-6aed16c1d24a"
      },
      "outputs": [
        {
          "output_type": "stream",
          "name": "stdout",
          "text": [
            "37763.16 37764.68 0.01166 0.00808\n"
          ]
        }
      ],
      "source": [
        "# 現在の板情報を取り出す\n",
        "bids, asks, = market.board\n",
        "\n",
        "bid_edge = bids['price'][0]\n",
        "ask_edge = asks['price'][0]\n",
        "\n",
        "print(bid_edge, ask_edge, bids['size'][0], asks['size'][0])"
      ]
    },
    {
      "cell_type": "code",
      "execution_count": 7,
      "metadata": {
        "id": "muweimrrUwu0",
        "outputId": "a4b0275b-c4bc-4f61-da38-f3310311448e",
        "colab": {
          "base_uri": "https://localhost:8080/"
        }
      },
      "outputs": [
        {
          "output_type": "execute_result",
          "data": {
            "text/plain": [
              "[{\"symbol\":\"BTCUSDT\",\"create_time\":1700898088326000,\"status\":\"Canceled\",\"order_id\":\"7798687\",\"client_order_id\":\"erU2S6RGcCTpoH2a2DXNZ3\",\"order_side\":\"Buy\",\"order_type\":\"Limit\",\"order_price\":\"37271.11000000\",\"order_size\":\"0.00100000\",\"remain_size\":\"0.00100000\",\"transaction_id\":\"\",\"update_time\":0,\"execute_price\":\"0.0\",\"execute_size\":\"0.0\",\"quote_vol\":\"0.0\",\"commission\":\"0.0\",\"commission_asset\":\"\",\"is_maker\":false,\"message\":\"\",\"commission_home\":\"0.0\",\"commission_foreign\":\"0.0\",\"home_change\":\"0.0\",\"foreign_change\":\"0.0\",\"free_home_change\":\"0.0\",\"free_foreign_change\":\"0.0\",\"lock_home_change\":\"0.0\",\"lock_foreign_change\":\"0.0\"}]"
            ]
          },
          "metadata": {},
          "execution_count": 7
        }
      ],
      "source": [
        "# 一旦　過去のオーダーを全部キャンセルする\n",
        "market.cancel_all_orders()"
      ]
    },
    {
      "cell_type": "markdown",
      "metadata": {
        "id": "UOUcnYjiUwu0"
      },
      "source": [
        "## オーダー発行テスト\n",
        "\n",
        "### Limit order"
      ]
    },
    {
      "cell_type": "code",
      "execution_count": null,
      "metadata": {
        "id": "3uYDDNDzUwu0"
      },
      "outputs": [],
      "source": [
        "# 現在のアカウント情報を取り出す\n",
        "account = market.account\n",
        "\n",
        "HTML(json2html.convert(account.__str__()))"
      ]
    },
    {
      "cell_type": "code",
      "execution_count": 9,
      "metadata": {
        "id": "EFeuqANLUwu0",
        "outputId": "a64b2892-cb6f-4fc0-afb3-92d3bf0aa443",
        "colab": {
          "base_uri": "https://localhost:8080/"
        }
      },
      "outputs": [
        {
          "output_type": "stream",
          "name": "stdout",
          "text": [
            "BTC 残高 = {\"asset\":\"BTC\",\"free\":\"1.00900000\",\"locked\":\"0.00000000\"}\n",
            "USDT残高 = {\"asset\":\"USDT\",\"free\":\"9697.98517000\",\"locked\":\"0.00000000\"}\n"
          ]
        }
      ],
      "source": [
        "# accountにはすべての通貨の残高が入っているので、BTCとUSDTの残高を表示する\n",
        "print(\"BTC 残高 =\", account['BTC'])\n",
        "print(\"USDT残高 =\", account['USDT'])"
      ]
    },
    {
      "cell_type": "code",
      "execution_count": 10,
      "metadata": {
        "id": "6Bmf4bFzUwu0",
        "outputId": "74ebe796-9090-4502-b9c3-b9031615eceb",
        "colab": {
          "base_uri": "https://localhost:8080/",
          "height": 88
        }
      },
      "outputs": [
        {
          "output_type": "execute_result",
          "data": {
            "text/plain": [
              "<IPython.core.display.HTML object>"
            ],
            "text/html": [
              "<table border=\"1\"><thead><tr><th>symbol</th><th>create_time</th><th>status</th><th>order_id</th><th>client_order_id</th><th>order_side</th><th>order_type</th><th>order_price</th><th>order_size</th><th>remain_size</th><th>transaction_id</th><th>update_time</th><th>execute_price</th><th>execute_size</th><th>quote_vol</th><th>commission</th><th>commission_asset</th><th>is_maker</th><th>message</th><th>commission_home</th><th>commission_foreign</th><th>home_change</th><th>foreign_change</th><th>free_home_change</th><th>free_foreign_change</th><th>lock_home_change</th><th>lock_foreign_change</th></tr></thead><tbody><tr><td>BTCUSDT</td><td>1700898095803000</td><td>New</td><td>7799021</td><td>IXSbBJozCp9E4xbAOj1YgG</td><td>Buy</td><td>Limit</td><td>37263.16000000</td><td>0.00100000</td><td>0.00100000</td><td></td><td>0</td><td>0.0</td><td>0.0</td><td>0.0</td><td>0.0</td><td></td><td>False</td><td></td><td>0.0</td><td>0.0</td><td>0.0</td><td>0.0</td><td>0.0</td><td>0.0</td><td>0.0</td><td>0.0</td></tr></tbody></table>"
            ]
          },
          "metadata": {},
          "execution_count": 10
        }
      ],
      "source": [
        "# 板より５００ドル安いところへ0.0001BTCの買い注文を出す\n",
        "buy_limit_order = market.limit_order(\"BUY\", bid_edge - 500, 0.001)\n",
        "\n",
        "HTML(json2html.convert(buy_limit_order.__str__()))"
      ]
    },
    {
      "cell_type": "code",
      "source": [
        "# オーダーTESTNET上の問題で１行しか表示されない場合は、すべてのオーダー履歴を表示して該当のオーダー状況を確認する。\n",
        "HTML(json2html.convert(market.order_status.__str__()))"
      ],
      "metadata": {
        "id": "bUp717LCYkTb"
      },
      "execution_count": null,
      "outputs": []
    },
    {
      "cell_type": "code",
      "execution_count": 12,
      "metadata": {
        "id": "vLYnyIPXUwu0",
        "outputId": "2a957d7a-3ca1-440d-c29f-3a1ea5d6715f",
        "colab": {
          "base_uri": "https://localhost:8080/",
          "height": 88
        }
      },
      "outputs": [
        {
          "output_type": "execute_result",
          "data": {
            "text/plain": [
              "<IPython.core.display.HTML object>"
            ],
            "text/html": [
              "<table border=\"1\"><thead><tr><th>symbol</th><th>create_time</th><th>status</th><th>order_id</th><th>client_order_id</th><th>order_side</th><th>order_type</th><th>order_price</th><th>order_size</th><th>remain_size</th><th>transaction_id</th><th>update_time</th><th>execute_price</th><th>execute_size</th><th>quote_vol</th><th>commission</th><th>commission_asset</th><th>is_maker</th><th>message</th><th>commission_home</th><th>commission_foreign</th><th>home_change</th><th>foreign_change</th><th>free_home_change</th><th>free_foreign_change</th><th>lock_home_change</th><th>lock_foreign_change</th></tr></thead><tbody><tr><td>BTCUSDT</td><td>1700842360809000</td><td>New</td><td>7566098</td><td>VHHjQJBZmrfdX6yXrE8t0n</td><td>Buy</td><td>Limit</td><td>38187.96000000</td><td>0.00100000</td><td>0.00100000</td><td></td><td>1700842360809000</td><td>0.0</td><td>0.00000000</td><td>0.0</td><td>0.0</td><td></td><td>True</td><td></td><td>0.0</td><td>0.0</td><td>0.0</td><td>0.0</td><td>0.0</td><td>0.0</td><td>0.0</td><td>0.0</td></tr></tbody></table>"
            ]
          },
          "metadata": {},
          "execution_count": 12
        }
      ],
      "source": [
        "# 未約定のオーダーを表示する。オーダーが１つ増えているはず。(BINANCE TESTNETでは最初の１つしか表示されない問題あり)\n",
        "open_order = market.open_orders\n",
        "\n",
        "HTML(json2html.convert(open_order.__str__()))"
      ]
    },
    {
      "cell_type": "code",
      "execution_count": 13,
      "metadata": {
        "id": "Cms-Qt84Uwu0",
        "outputId": "2b521a24-9485-4480-84de-47f84585e7b7",
        "colab": {
          "base_uri": "https://localhost:8080/",
          "height": 88
        }
      },
      "outputs": [
        {
          "output_type": "execute_result",
          "data": {
            "text/plain": [
              "<IPython.core.display.HTML object>"
            ],
            "text/html": [
              "<table border=\"1\"><thead><tr><th>symbol</th><th>create_time</th><th>status</th><th>order_id</th><th>client_order_id</th><th>order_side</th><th>order_type</th><th>order_price</th><th>order_size</th><th>remain_size</th><th>transaction_id</th><th>update_time</th><th>execute_price</th><th>execute_size</th><th>quote_vol</th><th>commission</th><th>commission_asset</th><th>is_maker</th><th>message</th><th>commission_home</th><th>commission_foreign</th><th>home_change</th><th>foreign_change</th><th>free_home_change</th><th>free_foreign_change</th><th>lock_home_change</th><th>lock_foreign_change</th></tr></thead><tbody><tr><td>BTCUSDT</td><td>1700898102337000</td><td>New</td><td>7799061</td><td>XmgunTxBfvRJ08NopktlfG</td><td>Sell</td><td>Limit</td><td>38264.68000000</td><td>0.00100000</td><td>0.00100000</td><td></td><td>0</td><td>0.0</td><td>0.0</td><td>0.0</td><td>0.0</td><td></td><td>False</td><td></td><td>0.0</td><td>0.0</td><td>0.0</td><td>0.0</td><td>0.0</td><td>0.0</td><td>0.0</td><td>0.0</td></tr></tbody></table>"
            ]
          },
          "metadata": {},
          "execution_count": 13
        }
      ],
      "source": [
        "# 板より５００ドル高いところへ0.0001BTCの売り注文を出す\n",
        "sell_limit_order = market.limit_order(\"SELL\", ask_edge + 500, 0.001)\n",
        "\n",
        "HTML(json2html.convert(sell_limit_order.__str__()))"
      ]
    },
    {
      "cell_type": "code",
      "execution_count": 14,
      "metadata": {
        "id": "z3yCHSNMUwu1",
        "outputId": "3d771d63-9f01-4f15-975d-2ab58a092e44",
        "colab": {
          "base_uri": "https://localhost:8080/",
          "height": 88
        }
      },
      "outputs": [
        {
          "output_type": "execute_result",
          "data": {
            "text/plain": [
              "<IPython.core.display.HTML object>"
            ],
            "text/html": [
              "<table border=\"1\"><thead><tr><th>symbol</th><th>create_time</th><th>status</th><th>order_id</th><th>client_order_id</th><th>order_side</th><th>order_type</th><th>order_price</th><th>order_size</th><th>remain_size</th><th>transaction_id</th><th>update_time</th><th>execute_price</th><th>execute_size</th><th>quote_vol</th><th>commission</th><th>commission_asset</th><th>is_maker</th><th>message</th><th>commission_home</th><th>commission_foreign</th><th>home_change</th><th>foreign_change</th><th>free_home_change</th><th>free_foreign_change</th><th>lock_home_change</th><th>lock_foreign_change</th></tr></thead><tbody><tr><td>BTCUSDT</td><td>1700842360809000</td><td>New</td><td>7566098</td><td>VHHjQJBZmrfdX6yXrE8t0n</td><td>Buy</td><td>Limit</td><td>38187.96000000</td><td>0.00100000</td><td>0.00100000</td><td></td><td>1700842360809000</td><td>0.0</td><td>0.00000000</td><td>0.0</td><td>0.0</td><td></td><td>True</td><td></td><td>0.0</td><td>0.0</td><td>0.0</td><td>0.0</td><td>0.0</td><td>0.0</td><td>0.0</td><td>0.0</td></tr></tbody></table>"
            ]
          },
          "metadata": {},
          "execution_count": 14
        }
      ],
      "source": [
        "# 未約定のオーダーを表示する。オーダーが１つ増えているはず（合計２つ）(BINANCE TESTNETでは最初の１つしか表示されない問題あり)\n",
        "open_order = market.open_orders\n",
        "\n",
        "HTML(json2html.convert(open_order.__str__()))"
      ]
    },
    {
      "cell_type": "code",
      "execution_count": 15,
      "metadata": {
        "id": "uTZrp5lrUwu1",
        "outputId": "ef6f7c4e-c0a6-49ef-f522-ed8f1be1c889",
        "colab": {
          "base_uri": "https://localhost:8080/"
        }
      },
      "outputs": [
        {
          "output_type": "stream",
          "name": "stdout",
          "text": [
            "BTC 残高 = {\"asset\":\"BTC\",\"free\":\"1.00800000\",\"locked\":\"0.00100000\"}\n",
            "USDT残高 = {\"asset\":\"USDT\",\"free\":\"9660.72201000\",\"locked\":\"37.26316000\"}\n"
          ]
        }
      ],
      "source": [
        "# 最新の残高を確認。注文中の資産がLockされているはず。\n",
        "account = market.account\n",
        "print(\"BTC 残高 =\", account['BTC'])\n",
        "print(\"USDT残高 =\", account['USDT'])"
      ]
    },
    {
      "cell_type": "code",
      "execution_count": 16,
      "metadata": {
        "id": "jnreLKm0Uwu1",
        "outputId": "1d19b49a-f614-45fe-dc63-bb86542a5b0b",
        "colab": {
          "base_uri": "https://localhost:8080/"
        }
      },
      "outputs": [
        {
          "output_type": "stream",
          "name": "stdout",
          "text": [
            "キャンセルするオーダーID = 7799021\n"
          ]
        },
        {
          "output_type": "execute_result",
          "data": {
            "text/plain": [
              "{\"symbol\":\"BTCUSDT\",\"create_time\":1700898108665000,\"status\":\"Canceled\",\"order_id\":\"7799061\",\"client_order_id\":\"MmBo9bz2troyNeYIprC1bL\",\"order_side\":\"Sell\",\"order_type\":\"Limit\",\"order_price\":\"38264.68000000\",\"order_size\":\"0.00100000\",\"remain_size\":\"0.00100000\",\"transaction_id\":\"\",\"update_time\":0,\"execute_price\":\"0.0\",\"execute_size\":\"0.0\",\"quote_vol\":\"0.0\",\"commission\":\"0.0\",\"commission_asset\":\"\",\"is_maker\":false,\"message\":\"\",\"commission_home\":\"0.0\",\"commission_foreign\":\"0.0\",\"home_change\":\"0.0\",\"foreign_change\":\"0.0\",\"free_home_change\":\"0.0\",\"free_foreign_change\":\"0.0\",\"lock_home_change\":\"0.0\",\"lock_foreign_change\":\"0.0\"}"
            ]
          },
          "metadata": {},
          "execution_count": 16
        }
      ],
      "source": [
        "# 売りオーダーをキャンセルする\n",
        "\n",
        "id_to_cancel = buy_limit_order[0].order_id\n",
        "\n",
        "print(\"キャンセルするオーダーID =\", id_to_cancel)\n",
        "\n",
        "market.cancel_order(sell_limit_order[0].order_id)"
      ]
    },
    {
      "cell_type": "code",
      "execution_count": 17,
      "metadata": {
        "id": "zips5gKZUwu1",
        "outputId": "6df36192-aaf6-4687-c3e2-9c524f16f7f9",
        "colab": {
          "base_uri": "https://localhost:8080/",
          "height": 88
        }
      },
      "outputs": [
        {
          "output_type": "execute_result",
          "data": {
            "text/plain": [
              "<IPython.core.display.HTML object>"
            ],
            "text/html": [
              "<table border=\"1\"><thead><tr><th>symbol</th><th>create_time</th><th>status</th><th>order_id</th><th>client_order_id</th><th>order_side</th><th>order_type</th><th>order_price</th><th>order_size</th><th>remain_size</th><th>transaction_id</th><th>update_time</th><th>execute_price</th><th>execute_size</th><th>quote_vol</th><th>commission</th><th>commission_asset</th><th>is_maker</th><th>message</th><th>commission_home</th><th>commission_foreign</th><th>home_change</th><th>foreign_change</th><th>free_home_change</th><th>free_foreign_change</th><th>lock_home_change</th><th>lock_foreign_change</th></tr></thead><tbody><tr><td>BTCUSDT</td><td>1700842360809000</td><td>New</td><td>7566098</td><td>VHHjQJBZmrfdX6yXrE8t0n</td><td>Buy</td><td>Limit</td><td>38187.96000000</td><td>0.00100000</td><td>0.00100000</td><td></td><td>1700842360809000</td><td>0.0</td><td>0.00000000</td><td>0.0</td><td>0.0</td><td></td><td>True</td><td></td><td>0.0</td><td>0.0</td><td>0.0</td><td>0.0</td><td>0.0</td><td>0.0</td><td>0.0</td><td>0.0</td></tr></tbody></table>"
            ]
          },
          "metadata": {},
          "execution_count": 17
        }
      ],
      "source": [
        "# キャンセルしたオーダーがなくなっていることを確認する。(BINANCE TESTNETでは最初の１つしか表示されない問題あり)\n",
        "open_order = market.open_orders\n",
        "\n",
        "HTML(json2html.convert(open_order.__str__()))"
      ]
    },
    {
      "cell_type": "code",
      "execution_count": 18,
      "metadata": {
        "id": "V56nScSGUwu1",
        "outputId": "c82509ce-cca9-45fb-d97b-7f927cc1a5b1",
        "colab": {
          "base_uri": "https://localhost:8080/"
        }
      },
      "outputs": [
        {
          "output_type": "stream",
          "name": "stdout",
          "text": [
            "BTC 残高 = {\"asset\":\"BTC\",\"free\":\"1.00900000\",\"locked\":\"0.00000000\"}\n",
            "USDT残高 = {\"asset\":\"USDT\",\"free\":\"9660.72201000\",\"locked\":\"37.26316000\"}\n"
          ]
        }
      ],
      "source": [
        "# 最新の残高を確認。キャンセルされた分の資産のLockが解放される。\n",
        "account = market.account\n",
        "print(\"BTC 残高 =\", account['BTC'])\n",
        "print(\"USDT残高 =\", account['USDT'])"
      ]
    },
    {
      "cell_type": "markdown",
      "metadata": {
        "id": "wjTzfMwpUwu1"
      },
      "source": [
        "## Market order"
      ]
    },
    {
      "cell_type": "code",
      "execution_count": 19,
      "metadata": {
        "id": "s2CqjpUHUwu1",
        "outputId": "b728d3d8-25c9-47f3-b3ba-7eedf6d7889a",
        "colab": {
          "base_uri": "https://localhost:8080/",
          "height": 88
        }
      },
      "outputs": [
        {
          "output_type": "execute_result",
          "data": {
            "text/plain": [
              "<IPython.core.display.HTML object>"
            ],
            "text/html": [
              "<table border=\"1\"><thead><tr><th>symbol</th><th>create_time</th><th>status</th><th>order_id</th><th>client_order_id</th><th>order_side</th><th>order_type</th><th>order_price</th><th>order_size</th><th>remain_size</th><th>transaction_id</th><th>update_time</th><th>execute_price</th><th>execute_size</th><th>quote_vol</th><th>commission</th><th>commission_asset</th><th>is_maker</th><th>message</th><th>commission_home</th><th>commission_foreign</th><th>home_change</th><th>foreign_change</th><th>free_home_change</th><th>free_foreign_change</th><th>lock_home_change</th><th>lock_foreign_change</th></tr></thead><tbody><tr><td>BTCUSDT</td><td>1700898119353000</td><td>Filled</td><td>7799133</td><td>1pEZ0HrCCjQaZYULKzkNg1</td><td>Buy</td><td>Market</td><td>0.00000000</td><td>0.00100000</td><td>0.00000000</td><td>1569335</td><td>0</td><td>37765.36000000</td><td>0.00100000</td><td>37.7653600000000000</td><td>0.00000000</td><td>BTC</td><td>False</td><td></td><td>0.0</td><td>0.0</td><td>0.0</td><td>0.0</td><td>0.0</td><td>0.0</td><td>0.0</td><td>0.0</td></tr></tbody></table>"
            ]
          },
          "metadata": {},
          "execution_count": 19
        }
      ],
      "source": [
        "# market orderを出す\n",
        "\n",
        "market_order = market.market_order(\"BUY\", 0.001)   # 0.001BTCを市場価格で買う\n",
        "HTML(json2html.convert(market_order.__str__()))"
      ]
    },
    {
      "cell_type": "code",
      "execution_count": 20,
      "metadata": {
        "id": "IqIaleShUwu1",
        "outputId": "e2a153f8-c328-4faf-a522-5f099cd4f7f4",
        "colab": {
          "base_uri": "https://localhost:8080/",
          "height": 1000
        }
      },
      "outputs": [
        {
          "output_type": "execute_result",
          "data": {
            "text/plain": [
              "<IPython.core.display.HTML object>"
            ],
            "text/html": [
              "<table border=\"1\"><thead><tr><th>symbol</th><th>orderId</th><th>orderListId</th><th>clientOrderId</th><th>price</th><th>origQty</th><th>executedQty</th><th>cummulativeQuoteQty</th><th>status</th><th>timeInForce</th><th>type</th><th>side</th><th>stopPrice</th><th>icebergQty</th><th>time</th><th>updateTime</th><th>isWorking</th><th>workingTime</th><th>origQuoteOrderQty</th><th>selfTradePreventionMode</th></tr></thead><tbody><tr><td>BTCUSDT</td><td>7513729</td><td>-1</td><td>JbeRhtrx4eYTsjPLQK4xAK</td><td>37773.99000000</td><td>0.00100000</td><td>0.00100000</td><td>37.77399000</td><td>Filled</td><td>GTC</td><td>LIMIT</td><td>BUY</td><td>0.00000000</td><td>0.00000000</td><td>1700827718543</td><td>1700827806990</td><td>True</td><td>1700827718543</td><td>0.00000000</td><td>NONE</td></tr><tr><td>BTCUSDT</td><td>7513970</td><td>-1</td><td>xRSJykRtc1na5F7b9cvIsZ</td><td>37974.00000000</td><td>0.00100000</td><td>0.00100000</td><td>37.97400000</td><td>Filled</td><td>GTC</td><td>LIMIT</td><td>SELL</td><td>0.00000000</td><td>0.00000000</td><td>1700827832755</td><td>1700829920736</td><td>True</td><td>1700827832755</td><td>0.00000000</td><td>NONE</td></tr><tr><td>BTCUSDT</td><td>7518625</td><td>-1</td><td>sR3KMF5k1p1ZkreO6IbzA8</td><td>37848.34000000</td><td>0.00100000</td><td>0.00100000</td><td>37.84834000</td><td>Filled</td><td>GTC</td><td>LIMIT</td><td>BUY</td><td>0.00000000</td><td>0.00000000</td><td>1700829281001</td><td>1700829808228</td><td>True</td><td>1700829281001</td><td>0.00000000</td><td>NONE</td></tr><tr><td>BTCUSDT</td><td>7518630</td><td>-1</td><td>B5TTCU7yVCV8F53WXy4dp1</td><td>38048.35000000</td><td>0.00100000</td><td>0.00100000</td><td>38.04835000</td><td>Filled</td><td>GTC</td><td>LIMIT</td><td>SELL</td><td>0.00000000</td><td>0.00000000</td><td>1700829282424</td><td>1700829920736</td><td>True</td><td>1700829282424</td><td>0.00000000</td><td>NONE</td></tr><tr><td>BTCUSDT</td><td>7519645</td><td>-1</td><td>MIDNtgQy58kqsBRkLMakDj</td><td>37841.24000000</td><td>0.00100000</td><td>0.00100000</td><td>37.84124000</td><td>Filled</td><td>GTC</td><td>LIMIT</td><td>BUY</td><td>0.00000000</td><td>0.00000000</td><td>1700829590899</td><td>1700829808228</td><td>True</td><td>1700829590899</td><td>0.00000000</td><td>NONE</td></tr><tr><td>BTCUSDT</td><td>7519652</td><td>-1</td><td>X4dzKf5YspjYKSjM2C2Yfh</td><td>38041.31000000</td><td>0.00100000</td><td>0.00100000</td><td>38.04131000</td><td>Filled</td><td>GTC</td><td>LIMIT</td><td>SELL</td><td>0.00000000</td><td>0.00000000</td><td>1700829591968</td><td>1700829920736</td><td>True</td><td>1700829591968</td><td>0.00000000</td><td>NONE</td></tr><tr><td>BTCUSDT</td><td>7530348</td><td>-1</td><td>VdCXGtM0YeidZRC55BPkKD</td><td>37711.11000000</td><td>0.00100000</td><td>0.00100000</td><td>37.71111000</td><td>Filled</td><td>GTC</td><td>LIMIT</td><td>BUY</td><td>0.00000000</td><td>0.00000000</td><td>1700832722710</td><td>1700833328005</td><td>True</td><td>1700832722710</td><td>0.00000000</td><td>NONE</td></tr><tr><td>BTCUSDT</td><td>7530354</td><td>-1</td><td>z4mYa9GbTXwDJLHJel8CxI</td><td>37911.12000000</td><td>0.00100000</td><td>0.00000000</td><td>0.00000000</td><td>Canceled</td><td>GTC</td><td>LIMIT</td><td>SELL</td><td>0.00000000</td><td>0.00000000</td><td>1700832724064</td><td>1700834969597</td><td>True</td><td>1700832724064</td><td>0.00000000</td><td>NONE</td></tr><tr><td>BTCUSDT</td><td>7530945</td><td>-1</td><td>8Z31w8XVZyA5o0RVLtG7GQ</td><td>37691.09000000</td><td>0.00100000</td><td>0.00100000</td><td>37.69109000</td><td>Filled</td><td>GTC</td><td>LIMIT</td><td>BUY</td><td>0.00000000</td><td>0.00000000</td><td>1700832883494</td><td>1700833340694</td><td>True</td><td>1700832883494</td><td>0.00000000</td><td>NONE</td></tr><tr><td>BTCUSDT</td><td>7534043</td><td>-1</td><td>dpB4keSJA3HsMCnhs8zIsC</td><td>37607.59000000</td><td>0.00100000</td><td>0.00000000</td><td>0.00000000</td><td>Canceled</td><td>GTC</td><td>LIMIT</td><td>BUY</td><td>0.00000000</td><td>0.00000000</td><td>1700833719784</td><td>1700834969597</td><td>True</td><td>1700833719784</td><td>0.00000000</td><td>NONE</td></tr><tr><td>BTCUSDT</td><td>7534048</td><td>-1</td><td>cBW4eXsDPaHFnmAskS0Fb2</td><td>37807.60000000</td><td>0.00100000</td><td>0.00100000</td><td>37.80760000</td><td>Filled</td><td>GTC</td><td>LIMIT</td><td>SELL</td><td>0.00000000</td><td>0.00000000</td><td>1700833720940</td><td>1700834195704</td><td>True</td><td>1700833720940</td><td>0.00000000</td><td>NONE</td></tr><tr><td>BTCUSDT</td><td>7534396</td><td>-1</td><td>fwg7SJW0IyI1FrtqsuzJDE</td><td>37593.57000000</td><td>0.00100000</td><td>0.00000000</td><td>0.00000000</td><td>Canceled</td><td>GTC</td><td>LIMIT</td><td>BUY</td><td>0.00000000</td><td>0.00000000</td><td>1700833810232</td><td>1700834969597</td><td>True</td><td>1700833810232</td><td>0.00000000</td><td>NONE</td></tr><tr><td>BTCUSDT</td><td>7534401</td><td>-1</td><td>olYhcCYAMvJAqkAbIjRI9q</td><td>37794.00000000</td><td>0.00100000</td><td>0.00100000</td><td>37.79400000</td><td>Filled</td><td>GTC</td><td>LIMIT</td><td>SELL</td><td>0.00000000</td><td>0.00000000</td><td>1700833811274</td><td>1700834159374</td><td>True</td><td>1700833811274</td><td>0.00000000</td><td>NONE</td></tr><tr><td>BTCUSDT</td><td>7538759</td><td>-1</td><td>sEOj1DWbNPYzVG1L4QhNPr</td><td>37593.57000000</td><td>0.00100000</td><td>0.00000000</td><td>0.00000000</td><td>Canceled</td><td>GTC</td><td>LIMIT</td><td>BUY</td><td>0.00000000</td><td>0.00000000</td><td>1700834883465</td><td>1700834969597</td><td>True</td><td>1700834883465</td><td>0.00000000</td><td>NONE</td></tr><tr><td>BTCUSDT</td><td>7538796</td><td>-1</td><td>bNAa6NQGmQL9F8lti0d76X</td><td>37794.00000000</td><td>0.00100000</td><td>0.00100000</td><td>37.79400000</td><td>Filled</td><td>GTC</td><td>LIMIT</td><td>SELL</td><td>0.00000000</td><td>0.00000000</td><td>1700834896087</td><td>1700834946519</td><td>True</td><td>1700834896087</td><td>0.00000000</td><td>NONE</td></tr><tr><td>BTCUSDT</td><td>7539643</td><td>-1</td><td>ebsCeMPR12KMnUxSKqPtLt</td><td>37649.75000000</td><td>0.00100000</td><td>0.00000000</td><td>0.00000000</td><td>Canceled</td><td>GTC</td><td>LIMIT</td><td>BUY</td><td>0.00000000</td><td>0.00000000</td><td>1700835104223</td><td>1700836482464</td><td>True</td><td>1700835104223</td><td>0.00000000</td><td>NONE</td></tr><tr><td>BTCUSDT</td><td>7539661</td><td>-1</td><td>Dixl9tgIrGJnvttteJI811</td><td>37849.76000000</td><td>0.00100000</td><td>0.00000000</td><td>0.00000000</td><td>Canceled</td><td>GTC</td><td>LIMIT</td><td>SELL</td><td>0.00000000</td><td>0.00000000</td><td>1700835106569</td><td>1700836482464</td><td>True</td><td>1700835106569</td><td>0.00000000</td><td>NONE</td></tr><tr><td>BTCUSDT</td><td>7540456</td><td>-1</td><td>K0FQ927eOcNajYQOQf9XFW</td><td>37649.75000000</td><td>0.00100000</td><td>0.00000000</td><td>0.00000000</td><td>Canceled</td><td>GTC</td><td>LIMIT</td><td>BUY</td><td>0.00000000</td><td>0.00000000</td><td>1700835293478</td><td>1700836482464</td><td>True</td><td>1700835293478</td><td>0.00000000</td><td>NONE</td></tr><tr><td>BTCUSDT</td><td>7540465</td><td>-1</td><td>ZKYcWJ1Vdoye6ZpFNUyH3n</td><td>37849.76000000</td><td>0.00100000</td><td>0.00000000</td><td>0.00000000</td><td>Canceled</td><td>GTC</td><td>LIMIT</td><td>SELL</td><td>0.00000000</td><td>0.00000000</td><td>1700835294852</td><td>1700836482464</td><td>True</td><td>1700835294852</td><td>0.00000000</td><td>NONE</td></tr><tr><td>BTCUSDT</td><td>7541140</td><td>-1</td><td>TB6LCEe0vfzxJ5lMIgcn8F</td><td>37649.75000000</td><td>0.00100000</td><td>0.00000000</td><td>0.00000000</td><td>Canceled</td><td>GTC</td><td>LIMIT</td><td>BUY</td><td>0.00000000</td><td>0.00000000</td><td>1700835443121</td><td>1700836482464</td><td>True</td><td>1700835443121</td><td>0.00000000</td><td>NONE</td></tr><tr><td>BTCUSDT</td><td>7541145</td><td>-1</td><td>aQ7cRgD9EFpexHvZDwpkIr</td><td>37849.76000000</td><td>0.00100000</td><td>0.00000000</td><td>0.00000000</td><td>Canceled</td><td>GTC</td><td>LIMIT</td><td>SELL</td><td>0.00000000</td><td>0.00000000</td><td>1700835444717</td><td>1700836482464</td><td>True</td><td>1700835444717</td><td>0.00000000</td><td>NONE</td></tr><tr><td>BTCUSDT</td><td>7541181</td><td>-1</td><td>K85inbjTriUPHH4dvObO0m</td><td>37849.76000000</td><td>0.00100000</td><td>0.00000000</td><td>0.00000000</td><td>Canceled</td><td>GTC</td><td>LIMIT</td><td>SELL</td><td>0.00000000</td><td>0.00000000</td><td>1700835451758</td><td>1700835591292</td><td>True</td><td>1700835451758</td><td>0.00000000</td><td>NONE</td></tr><tr><td>BTCUSDT</td><td>7543715</td><td>-1</td><td>UnP6CKTDdSytJxtPiFAq7H</td><td>0.00000000</td><td>0.00100000</td><td>0.00100000</td><td>37.72752000</td><td>Filled</td><td>GTC</td><td>MARKET</td><td>BUY</td><td>0.00000000</td><td>0.00000000</td><td>1700836035726</td><td>1700836035726</td><td>True</td><td>1700836035726</td><td>0.00000000</td><td>NONE</td></tr><tr><td>BTCUSDT</td><td>7545629</td><td>-1</td><td>AdgSVo4ycanmulqozipml2</td><td>37621.10000000</td><td>0.00100000</td><td>0.00000000</td><td>0.00000000</td><td>Canceled</td><td>GTC</td><td>LIMIT</td><td>BUY</td><td>0.00000000</td><td>0.00000000</td><td>1700836482698</td><td>1700836635002</td><td>True</td><td>1700836482698</td><td>0.00000000</td><td>NONE</td></tr><tr><td>BTCUSDT</td><td>7545630</td><td>-1</td><td>NWrwDbkxll0s15uCt6qWUG</td><td>37821.11000000</td><td>0.00100000</td><td>0.00000000</td><td>0.00000000</td><td>Canceled</td><td>GTC</td><td>LIMIT</td><td>SELL</td><td>0.00000000</td><td>0.00000000</td><td>1700836482786</td><td>1700836483091</td><td>True</td><td>1700836482786</td><td>0.00000000</td><td>NONE</td></tr><tr><td>BTCUSDT</td><td>7545638</td><td>-1</td><td>dLpkVxXeCCcJfeIpyOs8e6</td><td>0.00000000</td><td>0.00100000</td><td>0.00100000</td><td>37.72111000</td><td>Filled</td><td>GTC</td><td>MARKET</td><td>BUY</td><td>0.00000000</td><td>0.00000000</td><td>1700836483349</td><td>1700836483349</td><td>True</td><td>1700836483349</td><td>0.00000000</td><td>NONE</td></tr><tr><td>BTCUSDT</td><td>7546208</td><td>-1</td><td>8NvTli7bmkv8sz5s3uhEd3</td><td>37574.00000000</td><td>0.00100000</td><td>0.00000000</td><td>0.00000000</td><td>Canceled</td><td>GTC</td><td>LIMIT</td><td>BUY</td><td>0.00000000</td><td>0.00000000</td><td>1700836646396</td><td>1700842354139</td><td>True</td><td>1700836646396</td><td>0.00000000</td><td>NONE</td></tr><tr><td>BTCUSDT</td><td>7546215</td><td>-1</td><td>AKOXICwwcPih6o6h5rgEel</td><td>37774.01000000</td><td>0.00100000</td><td>0.00000000</td><td>0.00000000</td><td>Canceled</td><td>GTC</td><td>LIMIT</td><td>SELL</td><td>0.00000000</td><td>0.00000000</td><td>1700836647725</td><td>1700836665046</td><td>True</td><td>1700836647725</td><td>0.00000000</td><td>NONE</td></tr><tr><td>BTCUSDT</td><td>7546318</td><td>-1</td><td>L1pGfNJGExAWUO5APVlI2g</td><td>0.00000000</td><td>0.00100000</td><td>0.00100000</td><td>37.66659000</td><td>Filled</td><td>GTC</td><td>MARKET</td><td>BUY</td><td>0.00000000</td><td>0.00000000</td><td>1700836678637</td><td>1700836678637</td><td>True</td><td>1700836678637</td><td>0.00000000</td><td>NONE</td></tr><tr><td>BTCUSDT</td><td>7566098</td><td>-1</td><td>VHHjQJBZmrfdX6yXrE8t0n</td><td>38187.96000000</td><td>0.00100000</td><td>0.00100000</td><td>38.18796000</td><td>Filled</td><td>GTC</td><td>LIMIT</td><td>BUY</td><td>0.00000000</td><td>0.00000000</td><td>1700842360809</td><td>1700843870669</td><td>True</td><td>1700842360809</td><td>0.00000000</td><td>NONE</td></tr><tr><td>BTCUSDT</td><td>7566108</td><td>-1</td><td>2o5dRSFsUjUHd7mFsEZ1bR</td><td>38387.97000000</td><td>0.00100000</td><td>0.00000000</td><td>0.00000000</td><td>Canceled</td><td>GTC</td><td>LIMIT</td><td>SELL</td><td>0.00000000</td><td>0.00000000</td><td>1700842363895</td><td>1700842367012</td><td>True</td><td>1700842363895</td><td>0.00000000</td><td>NONE</td></tr><tr><td>BTCUSDT</td><td>7566125</td><td>-1</td><td>AWFGGSP9RhLazv1AzxOtAf</td><td>0.00000000</td><td>0.00100000</td><td>0.00100000</td><td>38.26903000</td><td>Filled</td><td>GTC</td><td>MARKET</td><td>BUY</td><td>0.00000000</td><td>0.00000000</td><td>1700842371069</td><td>1700842371069</td><td>True</td><td>1700842371069</td><td>0.00000000</td><td>NONE</td></tr><tr><td>BTCUSDT</td><td>7580158</td><td>-1</td><td>mq2TSMUSwBa0qJuArQ2jMs</td><td>37641.46000000</td><td>0.00100000</td><td>0.00000000</td><td>0.00000000</td><td>Canceled</td><td>GTC</td><td>LIMIT</td><td>BUY</td><td>0.00000000</td><td>0.00000000</td><td>1700846323611</td><td>1700846499659</td><td>True</td><td>1700846323611</td><td>0.00000000</td><td>NONE</td></tr><tr><td>BTCUSDT</td><td>7580171</td><td>-1</td><td>NaIdpBk23ogXBhwEE8YNUh</td><td>37844.44000000</td><td>0.00100000</td><td>0.00000000</td><td>0.00000000</td><td>Canceled</td><td>GTC</td><td>LIMIT</td><td>SELL</td><td>0.00000000</td><td>0.00000000</td><td>1700846328241</td><td>1700846403175</td><td>True</td><td>1700846328241</td><td>0.00000000</td><td>NONE</td></tr><tr><td>BTCUSDT</td><td>7580784</td><td>-1</td><td>w8716YrCzf0eukxzr7FZN7</td><td>37270.00000000</td><td>0.00100000</td><td>0.00000000</td><td>0.00000000</td><td>Canceled</td><td>GTC</td><td>LIMIT</td><td>BUY</td><td>0.00000000</td><td>0.00000000</td><td>1700846508442</td><td>1700846835380</td><td>True</td><td>1700846508442</td><td>0.00000000</td><td>NONE</td></tr><tr><td>BTCUSDT</td><td>7580800</td><td>-1</td><td>avmRhcGISljeHhghYhXm3F</td><td>38270.01000000</td><td>0.00100000</td><td>0.00000000</td><td>0.00000000</td><td>Canceled</td><td>GTC</td><td>LIMIT</td><td>SELL</td><td>0.00000000</td><td>0.00000000</td><td>1700846513443</td><td>1700846835380</td><td>True</td><td>1700846513443</td><td>0.00000000</td><td>NONE</td></tr><tr><td>BTCUSDT</td><td>7582127</td><td>-1</td><td>Fuuv5sCmaD1iJOyn24LCoc</td><td>37321.68000000</td><td>0.00100000</td><td>0.00000000</td><td>0.00000000</td><td>Canceled</td><td>GTC</td><td>LIMIT</td><td>BUY</td><td>0.00000000</td><td>0.00000000</td><td>1700846849968</td><td>1700847229583</td><td>True</td><td>1700846849968</td><td>0.00000000</td><td>NONE</td></tr><tr><td>BTCUSDT</td><td>7582199</td><td>-1</td><td>r9ZdOeLOSwc9FUKVtkZzEM</td><td>37321.68000000</td><td>0.00100000</td><td>0.00000000</td><td>0.00000000</td><td>Canceled</td><td>GTC</td><td>LIMIT</td><td>BUY</td><td>0.00000000</td><td>0.00000000</td><td>1700846867669</td><td>1700847229583</td><td>True</td><td>1700846867669</td><td>0.00000000</td><td>NONE</td></tr><tr><td>BTCUSDT</td><td>7582337</td><td>-1</td><td>BW4WabPclFIlLDgKglrtSc</td><td>38321.94000000</td><td>0.00100000</td><td>0.00000000</td><td>0.00000000</td><td>Canceled</td><td>GTC</td><td>LIMIT</td><td>SELL</td><td>0.00000000</td><td>0.00000000</td><td>1700846914038</td><td>1700846927142</td><td>True</td><td>1700846914038</td><td>0.00000000</td><td>NONE</td></tr><tr><td>BTCUSDT</td><td>7582416</td><td>-1</td><td>YzpanHRoPf05rY48CqSxQK</td><td>0.00000000</td><td>0.00100000</td><td>0.00100000</td><td>37.76311000</td><td>Filled</td><td>GTC</td><td>MARKET</td><td>BUY</td><td>0.00000000</td><td>0.00000000</td><td>1700846935950</td><td>1700846935950</td><td>True</td><td>1700846935950</td><td>0.00000000</td><td>NONE</td></tr><tr><td>BTCUSDT</td><td>7583485</td><td>-1</td><td>FykZHHnIBU7zqREENNJAo1</td><td>37739.05000000</td><td>0.00100000</td><td>0.00100000</td><td>37.73905000</td><td>Filled</td><td>GTC</td><td>LIMIT</td><td>BUY</td><td>0.00000000</td><td>0.00000000</td><td>1700847237623</td><td>1700847749213</td><td>True</td><td>1700847237623</td><td>0.00000000</td><td>NONE</td></tr><tr><td>BTCUSDT</td><td>7583500</td><td>-1</td><td>BYzoca3lw7TafqR71Fij1l</td><td>37939.16000000</td><td>0.00100000</td><td>0.00000000</td><td>0.00000000</td><td>Canceled</td><td>GTC</td><td>LIMIT</td><td>SELL</td><td>0.00000000</td><td>0.00000000</td><td>1700847240986</td><td>1700866540201</td><td>True</td><td>1700847240986</td><td>0.00000000</td><td>NONE</td></tr><tr><td>BTCUSDT</td><td>7730582</td><td>-1</td><td>LimitOrder-test</td><td>24000.00000000</td><td>0.00100000</td><td>0.00000000</td><td>0.00000000</td><td>Canceled</td><td>GTC</td><td>LIMIT</td><td>BUY</td><td>0.00000000</td><td>0.00000000</td><td>1700882630839</td><td>1700890318249</td><td>True</td><td>1700882630839</td><td>0.00000000</td><td>NONE</td></tr><tr><td>BTCUSDT</td><td>7792083</td><td>-1</td><td>xudzDpOqRQNzATTlqmMswI</td><td>37308.47000000</td><td>0.00100000</td><td>0.00000000</td><td>0.00000000</td><td>Canceled</td><td>GTC</td><td>LIMIT</td><td>BUY</td><td>0.00000000</td><td>0.00000000</td><td>1700896532731</td><td>1700896577491</td><td>True</td><td>1700896532731</td><td>0.00000000</td><td>NONE</td></tr><tr><td>BTCUSDT</td><td>7792144</td><td>-1</td><td>Ddt0RzLZAsTzK97T8zkakf</td><td>38308.48000000</td><td>0.00100000</td><td>0.00000000</td><td>0.00000000</td><td>Canceled</td><td>GTC</td><td>LIMIT</td><td>SELL</td><td>0.00000000</td><td>0.00000000</td><td>1700896544628</td><td>1700896577491</td><td>True</td><td>1700896544628</td><td>0.00000000</td><td>NONE</td></tr><tr><td>BTCUSDT</td><td>7792366</td><td>-1</td><td>yY9J9tpqGyzQ9Ol6RHdQbX</td><td>37308.47000000</td><td>0.00100000</td><td>0.00000000</td><td>0.00000000</td><td>Canceled</td><td>GTC</td><td>LIMIT</td><td>BUY</td><td>0.00000000</td><td>0.00000000</td><td>1700896599852</td><td>1700897113597</td><td>True</td><td>1700896599852</td><td>0.00000000</td><td>NONE</td></tr><tr><td>BTCUSDT</td><td>7792384</td><td>-1</td><td>v9YGvRQxtRyw3uQD5ppvpg</td><td>37308.47000000</td><td>0.00100000</td><td>0.00000000</td><td>0.00000000</td><td>Canceled</td><td>GTC</td><td>LIMIT</td><td>BUY</td><td>0.00000000</td><td>0.00000000</td><td>1700896604076</td><td>1700897113597</td><td>True</td><td>1700896604076</td><td>0.00000000</td><td>NONE</td></tr><tr><td>BTCUSDT</td><td>7794132</td><td>-1</td><td>h4NCA52Gw3hoVzud58Qk3K</td><td>0.00000000</td><td>0.00100000</td><td>0.00100000</td><td>37.79022000</td><td>Filled</td><td>GTC</td><td>MARKET</td><td>BUY</td><td>0.00000000</td><td>0.00000000</td><td>1700896987468</td><td>1700896987468</td><td>True</td><td>1700896987468</td><td>0.00000000</td><td>NONE</td></tr><tr><td>BTCUSDT</td><td>7795527</td><td>-1</td><td>VKFxsYh3ydbzg5tVS239hV</td><td>37263.41000000</td><td>0.00100000</td><td>0.00000000</td><td>0.00000000</td><td>Canceled</td><td>GTC</td><td>LIMIT</td><td>BUY</td><td>0.00000000</td><td>0.00000000</td><td>1700897293019</td><td>1700898008053</td><td>True</td><td>1700897293019</td><td>0.00000000</td><td>NONE</td></tr><tr><td>BTCUSDT</td><td>7795639</td><td>-1</td><td>ff6Zel5uwvPJqXbie6hLJs</td><td>38263.72000000</td><td>0.00100000</td><td>0.00000000</td><td>0.00000000</td><td>Canceled</td><td>GTC</td><td>LIMIT</td><td>SELL</td><td>0.00000000</td><td>0.00000000</td><td>1700897321776</td><td>1700897347953</td><td>True</td><td>1700897321776</td><td>0.00000000</td><td>NONE</td></tr><tr><td>BTCUSDT</td><td>7796169</td><td>-1</td><td>jDVc7qJrxfzoscVpyTjSkp</td><td>0.00000000</td><td>0.00100000</td><td>0.00100000</td><td>37.74373000</td><td>Filled</td><td>GTC</td><td>MARKET</td><td>BUY</td><td>0.00000000</td><td>0.00000000</td><td>1700897441842</td><td>1700897441842</td><td>True</td><td>1700897441842</td><td>0.00000000</td><td>NONE</td></tr><tr><td>BTCUSDT</td><td>7798687</td><td>-1</td><td>C8RecV2KitzfRxHuqi0Dyf</td><td>37271.11000000</td><td>0.00100000</td><td>0.00000000</td><td>0.00000000</td><td>Canceled</td><td>GTC</td><td>LIMIT</td><td>BUY</td><td>0.00000000</td><td>0.00000000</td><td>1700898016804</td><td>1700898088326</td><td>True</td><td>1700898016804</td><td>0.00000000</td><td>NONE</td></tr><tr><td>BTCUSDT</td><td>7798699</td><td>-1</td><td>RFAZgEDlyNfbY7wF2FF1sq</td><td>38271.12000000</td><td>0.00100000</td><td>0.00000000</td><td>0.00000000</td><td>Canceled</td><td>GTC</td><td>LIMIT</td><td>SELL</td><td>0.00000000</td><td>0.00000000</td><td>1700898020535</td><td>1700898025950</td><td>True</td><td>1700898020535</td><td>0.00000000</td><td>NONE</td></tr><tr><td>BTCUSDT</td><td>7799021</td><td>-1</td><td>IXSbBJozCp9E4xbAOj1YgG</td><td>37263.16000000</td><td>0.00100000</td><td>0.00000000</td><td>0.00000000</td><td>New</td><td>GTC</td><td>LIMIT</td><td>BUY</td><td>0.00000000</td><td>0.00000000</td><td>1700898095803</td><td>1700898095803</td><td>True</td><td>1700898095803</td><td>0.00000000</td><td>NONE</td></tr><tr><td>BTCUSDT</td><td>7799061</td><td>-1</td><td>XmgunTxBfvRJ08NopktlfG</td><td>38264.68000000</td><td>0.00100000</td><td>0.00000000</td><td>0.00000000</td><td>Canceled</td><td>GTC</td><td>LIMIT</td><td>SELL</td><td>0.00000000</td><td>0.00000000</td><td>1700898102337</td><td>1700898108665</td><td>True</td><td>1700898102337</td><td>0.00000000</td><td>NONE</td></tr><tr><td>BTCUSDT</td><td>7799133</td><td>-1</td><td>1pEZ0HrCCjQaZYULKzkNg1</td><td>0.00000000</td><td>0.00100000</td><td>0.00100000</td><td>37.76536000</td><td>Filled</td><td>GTC</td><td>MARKET</td><td>BUY</td><td>0.00000000</td><td>0.00000000</td><td>1700898119353</td><td>1700898119353</td><td>True</td><td>1700898119353</td><td>0.00000000</td><td>NONE</td></tr></tbody></table>"
            ]
          },
          "metadata": {},
          "execution_count": 20
        }
      ],
      "source": [
        "# 直近のオーダーを表示する。status \"Filled\"のオーダーが１つ追加されているはず。\n",
        "# なお大きなオーダーを出すと複数に分割される場合がある。\n",
        "\n",
        "HTML(json2html.convert(market.order_status.__str__()))"
      ]
    },
    {
      "cell_type": "code",
      "execution_count": 21,
      "metadata": {
        "id": "nvvd-buOUwu1",
        "outputId": "e713c4f3-3b8a-4ed6-fcc7-3c61af605828",
        "colab": {
          "base_uri": "https://localhost:8080/"
        }
      },
      "outputs": [
        {
          "output_type": "stream",
          "name": "stdout",
          "text": [
            "BTC 残高 = {\"asset\":\"BTC\",\"free\":\"1.01000000\",\"locked\":\"0.00000000\"}\n",
            "USDT残高 = {\"asset\":\"USDT\",\"free\":\"9622.95665000\",\"locked\":\"37.26316000\"}\n"
          ]
        }
      ],
      "source": [
        "# 最新の残高を確認。約定した分だけBTCが増えて、USDTの残高が減っているはず。\n",
        "account = market.account\n",
        "print(\"BTC 残高 =\", account['BTC'])\n",
        "print(\"USDT残高 =\", account['USDT'])"
      ]
    },
    {
      "cell_type": "code",
      "execution_count": null,
      "metadata": {
        "id": "o-1gQyd4Uwu1"
      },
      "outputs": [],
      "source": []
    }
  ],
  "metadata": {
    "kernelspec": {
      "display_name": "Python 3",
      "language": "python",
      "name": "python3"
    },
    "language_info": {
      "codemirror_mode": {
        "name": "ipython",
        "version": 3
      },
      "file_extension": ".py",
      "mimetype": "text/x-python",
      "name": "python",
      "nbconvert_exporter": "python",
      "pygments_lexer": "ipython3",
      "version": "3.11.6"
    },
    "colab": {
      "provenance": [],
      "include_colab_link": true
    }
  },
  "nbformat": 4,
  "nbformat_minor": 0
}