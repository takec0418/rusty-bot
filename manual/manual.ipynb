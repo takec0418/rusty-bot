{
 "cells": [
  {
   "cell_type": "markdown",
   "metadata": {},
   "source": [
    "# rusty-bot(rbot)　APIリファレンス\n",
    "\n",
    "\n",
    "* [Sessionクラス](./session.ipynb)\n",
    "* [Loggerクラス](./logger.ipynb)\n",
    "* [timeユーティリティ](./time.ipynb)\n",
    "* [BinanceMarketクラス(市況編)](./binance_market.ipynb)\n",
    "* [BinanceMarketクラス(オーダ発行編)](./binance_order.ipynb)\n",
    "* [BinanceConfigクラス](./binance_config.ipynb)\n"
   ]
  },
  {
   "cell_type": "code",
   "execution_count": null,
   "metadata": {},
   "outputs": [],
   "source": []
  }
 ],
 "metadata": {
  "language_info": {
   "name": "python"
  }
 },
 "nbformat": 4,
 "nbformat_minor": 2
}
