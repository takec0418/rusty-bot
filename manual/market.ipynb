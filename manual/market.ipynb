{
 "cells": [
  {
   "attachments": {},
   "cell_type": "markdown",
   "metadata": {},
   "source": [
    "# Market クラス解説\n",
    "\n",
    "Marketクラスは、取引所で扱われる通貨ペアーの１組合わせをモデリングしたクラスです。\n",
    "現在はBinanceの USDBUSDのSPOT取引しか扱えませんが、比較的容易に拡張できるようにつくっていますので順次拡張していきます。\n",
    "\n",
    "## Marketクラスメソッド\n",
    "\n",
    "### マーケットオブジェクトの生成(`open`)\n",
    "\n",
    "`open`メソッドでMaketオブジェクトを開きます。内部的にキャッシュされているので２回目からはキャッシュを返します。そのため複数回呼び出してOKです。\n",
    "\n",
    "今後SPOT以外にも対応した場合、パラメータが変更になる可能性があります。\n",
    "```\n",
    "binance = Market.open(\n",
    "    'BN',               # Binanceは 'BN'\n",
    "    'BTCBUSD'\n",
    ")\n",
    "```\n",
    "\n",
    "### データのダウンロード(`download`)\n",
    "\n",
    "指定した日付あらあとのデータをダウンロードしてDBへ保存します。\n",
    "BTCBUSDしか対応していないため効果はありませんが、`open`で開いたマーケットオブジェクト全てに対してダウンロード処理をします。\n",
    "\n",
    "```\n",
    "Market.download(\n",
    "    5   #ダウンロード日数（N日前を指定)\n",
    "    )\n",
    "```\n",
    "\n",
    "\n",
    "## Marketオブジェクトメソッド\n",
    "\n",
    "Marketインスタンスが`binance`オブジェクトに保存されている前提で説明します。\n",
    "\n",
    "###　情報表示　\n",
    "\n",
    "####　`_repr_html_()`\n",
    "\n",
    "jupyuter note上でオブジェクトを入力してリターンすると内部的に`_repr_html_()`がよばれて内容が分かりやすく表示されます。\n",
    "```\n",
    "binance\n",
    "```\n",
    "\n",
    "#### DBのパス表示 `file_path`\n",
    "\n",
    "DBは巨大になりますので、不要になったら`file_path`プロパティで表示される場所を確認して手動で消してください。\n",
    "\n",
    "```\n",
    "binance.file_name\n",
    "```\n",
    "\n",
    "### OHLCV取得（pd.DataFrame形式)\n",
    "\n",
    "時刻はμsで指定する。開始時刻に0を指定するとDBの最初から、終了に0を指定するとDBの最後まで（現在時刻に一番ちかいときまで）を指定したことになる。\n",
    "\n",
    "```\n",
    "binance.ohlcv(\n",
    "    start_timestamp_us,     #開始時刻（μs）\n",
    "    end_timestamp_us,       #終了時刻（μs)\n",
    "    60                      #足の幅（秒）\n",
    "    )\n",
    "```\n",
    "\n",
    "pd.DataFrame 形式でOHLCVデータが取得できます。この機能だけつかっても便利に使えます。\n",
    "なお、Tickデータから任意の足を再生成しているので初回キャッシュされていないときはかなり時間がかかります。\n",
    "\n",
    "\n"
   ]
  },
  {
   "attachments": {},
   "cell_type": "markdown",
   "metadata": {},
   "source": [
    "## 以下うごかしながら説明"
   ]
  },
  {
   "cell_type": "code",
   "execution_count": null,
   "metadata": {},
   "outputs": [],
   "source": [
    "# 必要ライブラリのimport\n",
    "import rbot\n",
    "from rbot import Market\n",
    "from rbot import DAYS_BEFORE"
   ]
  },
  {
   "cell_type": "code",
   "execution_count": null,
   "metadata": {},
   "outputs": [],
   "source": [
    "# Binance('BN')の'BTCBUSD'ペアーの取引マーケットを生成\n",
    "binance = Market.open('BN', 'BTCBUSD')\n",
    "\n",
    "# 上記でオープンしたマーケットに対し5日より新しいログをダウンロード\n",
    "Market.download(5)\n",
    "\n",
    "Market.download(5, True)       #ディフォルトではキャッシュされているので、再ダウンロードしたい場合は強制フラグをTrueにする。"
   ]
  },
  {
   "cell_type": "code",
   "execution_count": null,
   "metadata": {},
   "outputs": [],
   "source": [
    "# Marketオブジェクトが管理するDBに保存されているデータ期間を表示する。\n",
    "binance"
   ]
  },
  {
   "cell_type": "code",
   "execution_count": null,
   "metadata": {},
   "outputs": [],
   "source": [
    "# データベースのDisk上の場所を表示する。\n",
    "\n",
    "binance.file_name"
   ]
  },
  {
   "attachments": {},
   "cell_type": "markdown",
   "metadata": {},
   "source": [
    "## OHLCVの取得"
   ]
  },
  {
   "cell_type": "code",
   "execution_count": null,
   "metadata": {},
   "outputs": [],
   "source": [
    "# 初回は遅いです。２回目はキャッシュされているので比較的高速です\n",
    "binance.ohlcv(\n",
    "    DAYS_BEFORE(5),     # 5日前から\n",
    "    0,                  # 最新まで\n",
    "    60*60\n",
    ")"
   ]
  },
  {
   "attachments": {},
   "cell_type": "markdown",
   "metadata": {},
   "source": [
    "このOHCLVだけを利用して独自の分析を行うにも便利だと思います。\n",
    "\n",
    "ご活用ください。"
   ]
  }
 ],
 "metadata": {
  "kernelspec": {
   "display_name": "venv",
   "language": "python",
   "name": "python3"
  },
  "language_info": {
   "codemirror_mode": {
    "name": "ipython",
    "version": 3
   },
   "file_extension": ".py",
   "mimetype": "text/x-python",
   "name": "python",
   "nbconvert_exporter": "python",
   "pygments_lexer": "ipython3",
   "version": "3.10.6 (main, Aug 30 2022, 04:58:14) [Clang 13.1.6 (clang-1316.0.21.2.5)]"
  },
  "orig_nbformat": 4,
  "vscode": {
   "interpreter": {
    "hash": "e69bbd470bf1393b14609a6bb37f84ea05c8b778927caf2a584647f90d922fc5"
   }
  }
 },
 "nbformat": 4,
 "nbformat_minor": 2
}
