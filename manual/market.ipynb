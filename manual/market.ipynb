{
  "cells": [
    {
      "cell_type": "markdown",
      "metadata": {
        "id": "0TnK82x56JuJ"
      },
      "source": [
        "<a target=\"_blank\" href=\"https://colab.research.google.com/github/yasstake/rusty-bot/blob/main/manual/market.ipynb\">\n",
        "  <img src=\"https://colab.research.google.com/assets/colab-badge.svg\" alt=\"Open In Colab\"/>\n",
        "</a>"
      ]
    },
    {
      "cell_type": "markdown",
      "metadata": {
        "id": "sbzlC06H6Fo1"
      },
      "source": [
        "# Market クラス解説\n",
        "\n",
        "Marketクラスは、取引所で扱われる通貨ペアーの１組合わせをモデリングしたクラスです。\n",
        "現在はBinanceの USDBUSDのSPOT取引しか扱えませんが、比較的容易に拡張できるようにつくっていますので順次拡張していきます。\n",
        "\n",
        "## Marketクラスメソッド\n",
        "\n",
        "### マーケットオブジェクトの生成(`open`)\n",
        "\n",
        "`open`メソッドでMaketオブジェクトを開きます。内部的にキャッシュされているので２回目からはキャッシュを返します。そのため複数回呼び出してOKです。\n",
        "\n",
        "今後SPOT以外にも対応した場合、パラメータが変更になる可能性があります。\n",
        "```\n",
        "binance = Market.open(\n",
        "    'BN',               # Binanceは 'BN'\n",
        "    'BTCBUSD'\n",
        ")\n",
        "```\n",
        "\n",
        "### データのダウンロード(`download`)\n",
        "\n",
        "指定した日付あらあとのデータをダウンロードしてDBへ保存します。\n",
        "BTCBUSDしか対応していないため効果はありませんが、`open`で開いたマーケットオブジェクト全てに対してダウンロード処理をします。\n",
        "\n",
        "```\n",
        "Market.download(\n",
        "    5   #ダウンロード日数（N日前を指定)\n",
        "    )\n",
        "```\n",
        "\n",
        "\n",
        "## Marketオブジェクトメソッド\n",
        "\n",
        "Marketインスタンスが`binance`オブジェクトに保存されている前提で説明します。\n",
        "\n",
        "###　情報表示　\n",
        "\n",
        "####　`_repr_html_()`\n",
        "\n",
        "jupyuter note上でオブジェクトを入力してリターンすると内部的に`_repr_html_()`がよばれて内容が分かりやすく表示されます。\n",
        "```\n",
        "binance\n",
        "```\n",
        "\n",
        "#### DBのパス表示 `file_path`\n",
        "\n",
        "DBは巨大になりますので、不要になったら`file_path`プロパティで表示される場所を確認して手動で消してください。\n",
        "\n",
        "```\n",
        "binance.file_name\n",
        "```\n",
        "\n",
        "### OHLCV取得（pd.DataFrame形式)\n",
        "\n",
        "時刻はμsで指定する。開始時刻に0を指定するとDBの最初から、終了に0を指定するとDBの最後まで（現在時刻に一番ちかいときまで）を指定したことになる。\n",
        "\n",
        "```\n",
        "binance.ohlcv(\n",
        "    start_timestamp_us,     #開始時刻（μs）\n",
        "    end_timestamp_us,       #終了時刻（μs)\n",
        "    60                      #足の幅（秒）\n",
        "    )\n",
        "```\n",
        "\n",
        "pd.DataFrame 形式でOHLCVデータが取得できます。この機能だけつかっても便利に使えます。\n",
        "なお、Tickデータから任意の足を再生成しているので初回キャッシュされていないときはかなり時間がかかります。\n",
        "\n",
        "\n"
      ]
    },
    {
      "cell_type": "markdown",
      "metadata": {
        "id": "j5DIZ9xF6GUp"
      },
      "source": []
    },
    {
      "cell_type": "markdown",
      "metadata": {
        "id": "t8_RD-ii6Fo3"
      },
      "source": [
        "## 以下動かしながら説明"
      ]
    },
    {
      "cell_type": "markdown",
      "metadata": {
        "id": "l39Rpt2h6am1"
      },
      "source": [
        "### Google Collab向けパッケージインストール"
      ]
    },
    {
      "cell_type": "code",
      "execution_count": 2,
      "metadata": {
        "colab": {
          "base_uri": "https://localhost:8080/"
        },
        "id": "5fQpFfl06aEc",
        "outputId": "88dae9fa-1623-4821-a36d-0845f755ef75"
      },
      "outputs": [
        {
          "output_type": "stream",
          "name": "stdout",
          "text": [
            "Looking in indexes: https://pypi.org/simple, https://us-python.pkg.dev/colab-wheels/public/simple/\n",
            "Requirement already satisfied: pip in /usr/local/lib/python3.8/dist-packages (22.3.1)\n",
            "\u001b[33mWARNING: Running pip as the 'root' user can result in broken permissions and conflicting behaviour with the system package manager. It is recommended to use a virtual environment instead: https://pip.pypa.io/warnings/venv\u001b[0m\u001b[33m\n",
            "\u001b[0mLooking in indexes: https://pypi.org/simple, https://us-python.pkg.dev/colab-wheels/public/simple/\n",
            "Requirement already satisfied: numpy in /usr/local/lib/python3.8/dist-packages (1.21.6)\n",
            "\u001b[33mWARNING: Running pip as the 'root' user can result in broken permissions and conflicting behaviour with the system package manager. It is recommended to use a virtual environment instead: https://pip.pypa.io/warnings/venv\u001b[0m\u001b[33m\n",
            "\u001b[0mLooking in indexes: https://pypi.org/simple, https://us-python.pkg.dev/colab-wheels/public/simple/\n",
            "Requirement already satisfied: pandas in /usr/local/lib/python3.8/dist-packages (1.3.5)\n",
            "Requirement already satisfied: numpy>=1.17.3 in /usr/local/lib/python3.8/dist-packages (from pandas) (1.21.6)\n",
            "Requirement already satisfied: pytz>=2017.3 in /usr/local/lib/python3.8/dist-packages (from pandas) (2022.6)\n",
            "Requirement already satisfied: python-dateutil>=2.7.3 in /usr/local/lib/python3.8/dist-packages (from pandas) (2.8.2)\n",
            "Requirement already satisfied: six>=1.5 in /usr/local/lib/python3.8/dist-packages (from python-dateutil>=2.7.3->pandas) (1.15.0)\n",
            "\u001b[33mWARNING: Running pip as the 'root' user can result in broken permissions and conflicting behaviour with the system package manager. It is recommended to use a virtual environment instead: https://pip.pypa.io/warnings/venv\u001b[0m\u001b[33m\n",
            "\u001b[0m\u001b[33mWARNING: Skipping panel as it is not installed.\u001b[0m\u001b[33m\n",
            "\u001b[0m\u001b[33mWARNING: Running pip as the 'root' user can result in broken permissions and conflicting behaviour with the system package manager. It is recommended to use a virtual environment instead: https://pip.pypa.io/warnings/venv\u001b[0m\u001b[33m\n",
            "\u001b[0m\u001b[33mWARNING: Running pip as the 'root' user can result in broken permissions and conflicting behaviour with the system package manager. It is recommended to use a virtual environment instead: https://pip.pypa.io/warnings/venv\u001b[0m\u001b[33m\n",
            "\u001b[0mLooking in indexes: https://pypi.org/simple, https://us-python.pkg.dev/colab-wheels/public/simple/\n",
            "Collecting rbot==0.2.0\n",
            "  Downloading https://github.com/yasstake/rusty-bot/releases/download/release-0.2.0a/rbot-0.2.0-cp38-cp38-manylinux_2_17_x86_64.manylinux2014_x86_64.whl (11.9 MB)\n",
            "\u001b[2K     \u001b[90m━━━━━━━━━━━━━━━━━━━━━━━━━━━━━━━━━━━━━━━\u001b[0m \u001b[32m11.9/11.9 MB\u001b[0m \u001b[31m105.2 MB/s\u001b[0m eta \u001b[36m0:00:00\u001b[0m\n",
            "\u001b[?25h\u001b[33mWARNING: Running pip as the 'root' user can result in broken permissions and conflicting behaviour with the system package manager. It is recommended to use a virtual environment instead: https://pip.pypa.io/warnings/venv\u001b[0m\u001b[33m\n",
            "\u001b[0m"
          ]
        }
      ],
      "source": [
        "# Google Clab用です。必要に応じてコメントアウトしてください\n",
        "! pip install --upgrade pip\n",
        "! pip install numpy\n",
        "! pip install pandas\n",
        "! pip uninstall -y panel\n",
        "! pip install --upgrade bokeh >= 3\n",
        "\n",
        "# https://github.com/yasstake/rusty-bot/releases/\n",
        "# （環境にあわせて修正お願いします。404エラーが出た場合は新しいリリースがでいるので確認してください）\n",
        "# Linux/Google Collab用\n",
        "!  pip install https://github.com/yasstake/rusty-bot/releases/download/release-0.2.0a/rbot-0.2.0-cp38-cp38-manylinux_2_17_x86_64.manylinux2014_x86_64.whl"
      ]
    },
    {
      "cell_type": "markdown",
      "metadata": {
        "id": "lJJls8q66gDz"
      },
      "source": [
        "### 以後Marktライブラリの動作"
      ]
    },
    {
      "cell_type": "code",
      "execution_count": 3,
      "metadata": {
        "id": "6oXmGbPA6Fo3"
      },
      "outputs": [],
      "source": [
        "# 必要ライブラリのimport\n",
        "import rbot\n",
        "from rbot import Market\n",
        "from rbot import DAYS_BEFORE"
      ]
    },
    {
      "cell_type": "code",
      "execution_count": 4,
      "metadata": {
        "id": "DoD87dHY6Fo3"
      },
      "outputs": [],
      "source": [
        "# Binance('BN')の'BTCBUSD'ペアーの取引マーケットを生成\n",
        "binance = Market.open('BN', 'BTCBUSD')\n",
        "\n",
        "# 上記でオープンしたマーケットに対し5日より新しいログをダウンロード\n",
        "Market.download(5)\n",
        "\n",
        "# Market.download(5, True)       #ディフォルトではキャッシュされているので、再ダウンロードしたい場合は強制フラグをTrueにする。Collabでは１日あたり1分ぐらいかかります。"
      ]
    },
    {
      "cell_type": "code",
      "execution_count": 5,
      "metadata": {
        "colab": {
          "base_uri": "https://localhost:8080/",
          "height": 137
        },
        "id": "XUgtpn8o6Fo4",
        "outputId": "b2600d41-93b3-45c5-e861-6f6b2ee46e81"
      },
      "outputs": [
        {
          "output_type": "execute_result",
          "data": {
            "text/plain": [
              "<rbot.BinanceMarket at 0x7ff3651b0be0>"
            ],
            "text/html": [
              "<b>Binance DB (BTCBUSD)</b>\n",
              "            <table>\n",
              "            <caption>Trade Database info table</caption>\n",
              "            <tr><th>start</th><th>end</th></tr>\n",
              "            <tr><td>1671148800221000</td><td>1671667199909000</td></tr>\n",
              "            <tr><td>\"2022-12-16T00:00:00.221000\"</td><td>\"2022-12-21T23:59:59.909000\"</td></tr>\n",
              "            <tr><td><b>days=</b></td><td>5</td></tr>                \n",
              "            </table>                \n",
              "            "
            ]
          },
          "metadata": {},
          "execution_count": 5
        }
      ],
      "source": [
        "# Marketオブジェクトが管理するDBに保存されているデータ期間を表示する。\n",
        "binance"
      ]
    },
    {
      "cell_type": "code",
      "execution_count": 6,
      "metadata": {
        "colab": {
          "base_uri": "https://localhost:8080/",
          "height": 37
        },
        "id": "S4iW-C1v6Fo4",
        "outputId": "56919adf-276e-4595-ab24-a03d4fe0b5b1"
      },
      "outputs": [
        {
          "output_type": "execute_result",
          "data": {
            "text/plain": [
              "'/root/.local/share/rbot/DB/BN/SPOT-BTCBUSD.db'"
            ],
            "application/vnd.google.colaboratory.intrinsic+json": {
              "type": "string"
            }
          },
          "metadata": {},
          "execution_count": 6
        }
      ],
      "source": [
        "# データベースのDisk上の場所を表示する。不要になったら手で消してください。\n",
        "\n",
        "binance.file_name"
      ]
    },
    {
      "cell_type": "markdown",
      "metadata": {
        "id": "JnN9omjp6Fo4"
      },
      "source": [
        "## OHLCVの取得"
      ]
    },
    {
      "cell_type": "code",
      "execution_count": 7,
      "metadata": {
        "colab": {
          "base_uri": "https://localhost:8080/",
          "height": 450
        },
        "id": "CzyQj2lN6Fo4",
        "outputId": "ea1c16fb-b909-4782-d368-67a2fc5f2087"
      },
      "outputs": [
        {
          "output_type": "execute_result",
          "data": {
            "text/plain": [
              "                               open      high       low     close      volume\n",
              "timestamp                                                                    \n",
              "2022-12-17 06:00:00+00:00  16729.13  16776.64  16706.27  16714.89  2770.83525\n",
              "2022-12-17 07:00:00+00:00  16714.89  16753.80  16679.97  16750.25  3199.92340\n",
              "2022-12-17 08:00:00+00:00  16750.39  16758.94  16712.00  16723.05  2753.37501\n",
              "2022-12-17 09:00:00+00:00  16722.95  16739.38  16678.36  16699.33  3410.79708\n",
              "2022-12-17 10:00:00+00:00  16700.37  16762.10  16666.66  16735.20  3513.70912\n",
              "...                             ...       ...       ...       ...         ...\n",
              "2022-12-21 19:00:00+00:00  16789.65  16806.64  16729.61  16756.34  3662.99697\n",
              "2022-12-21 20:00:00+00:00  16756.48  16783.41  16731.28  16781.68  3504.26428\n",
              "2022-12-21 21:00:00+00:00  16781.69  16801.83  16754.33  16793.20  2657.77402\n",
              "2022-12-21 22:00:00+00:00  16794.57  16794.93  16756.55  16765.14  1748.14969\n",
              "2022-12-21 23:00:00+00:00  16765.24  16842.00  16750.00  16825.10  3770.60751\n",
              "\n",
              "[114 rows x 5 columns]"
            ],
            "text/html": [
              "\n",
              "  <div id=\"df-3684c916-f133-4fd1-b792-49500f4f393e\">\n",
              "    <div class=\"colab-df-container\">\n",
              "      <div>\n",
              "<style scoped>\n",
              "    .dataframe tbody tr th:only-of-type {\n",
              "        vertical-align: middle;\n",
              "    }\n",
              "\n",
              "    .dataframe tbody tr th {\n",
              "        vertical-align: top;\n",
              "    }\n",
              "\n",
              "    .dataframe thead th {\n",
              "        text-align: right;\n",
              "    }\n",
              "</style>\n",
              "<table border=\"1\" class=\"dataframe\">\n",
              "  <thead>\n",
              "    <tr style=\"text-align: right;\">\n",
              "      <th></th>\n",
              "      <th>open</th>\n",
              "      <th>high</th>\n",
              "      <th>low</th>\n",
              "      <th>close</th>\n",
              "      <th>volume</th>\n",
              "    </tr>\n",
              "    <tr>\n",
              "      <th>timestamp</th>\n",
              "      <th></th>\n",
              "      <th></th>\n",
              "      <th></th>\n",
              "      <th></th>\n",
              "      <th></th>\n",
              "    </tr>\n",
              "  </thead>\n",
              "  <tbody>\n",
              "    <tr>\n",
              "      <th>2022-12-17 06:00:00+00:00</th>\n",
              "      <td>16729.13</td>\n",
              "      <td>16776.64</td>\n",
              "      <td>16706.27</td>\n",
              "      <td>16714.89</td>\n",
              "      <td>2770.83525</td>\n",
              "    </tr>\n",
              "    <tr>\n",
              "      <th>2022-12-17 07:00:00+00:00</th>\n",
              "      <td>16714.89</td>\n",
              "      <td>16753.80</td>\n",
              "      <td>16679.97</td>\n",
              "      <td>16750.25</td>\n",
              "      <td>3199.92340</td>\n",
              "    </tr>\n",
              "    <tr>\n",
              "      <th>2022-12-17 08:00:00+00:00</th>\n",
              "      <td>16750.39</td>\n",
              "      <td>16758.94</td>\n",
              "      <td>16712.00</td>\n",
              "      <td>16723.05</td>\n",
              "      <td>2753.37501</td>\n",
              "    </tr>\n",
              "    <tr>\n",
              "      <th>2022-12-17 09:00:00+00:00</th>\n",
              "      <td>16722.95</td>\n",
              "      <td>16739.38</td>\n",
              "      <td>16678.36</td>\n",
              "      <td>16699.33</td>\n",
              "      <td>3410.79708</td>\n",
              "    </tr>\n",
              "    <tr>\n",
              "      <th>2022-12-17 10:00:00+00:00</th>\n",
              "      <td>16700.37</td>\n",
              "      <td>16762.10</td>\n",
              "      <td>16666.66</td>\n",
              "      <td>16735.20</td>\n",
              "      <td>3513.70912</td>\n",
              "    </tr>\n",
              "    <tr>\n",
              "      <th>...</th>\n",
              "      <td>...</td>\n",
              "      <td>...</td>\n",
              "      <td>...</td>\n",
              "      <td>...</td>\n",
              "      <td>...</td>\n",
              "    </tr>\n",
              "    <tr>\n",
              "      <th>2022-12-21 19:00:00+00:00</th>\n",
              "      <td>16789.65</td>\n",
              "      <td>16806.64</td>\n",
              "      <td>16729.61</td>\n",
              "      <td>16756.34</td>\n",
              "      <td>3662.99697</td>\n",
              "    </tr>\n",
              "    <tr>\n",
              "      <th>2022-12-21 20:00:00+00:00</th>\n",
              "      <td>16756.48</td>\n",
              "      <td>16783.41</td>\n",
              "      <td>16731.28</td>\n",
              "      <td>16781.68</td>\n",
              "      <td>3504.26428</td>\n",
              "    </tr>\n",
              "    <tr>\n",
              "      <th>2022-12-21 21:00:00+00:00</th>\n",
              "      <td>16781.69</td>\n",
              "      <td>16801.83</td>\n",
              "      <td>16754.33</td>\n",
              "      <td>16793.20</td>\n",
              "      <td>2657.77402</td>\n",
              "    </tr>\n",
              "    <tr>\n",
              "      <th>2022-12-21 22:00:00+00:00</th>\n",
              "      <td>16794.57</td>\n",
              "      <td>16794.93</td>\n",
              "      <td>16756.55</td>\n",
              "      <td>16765.14</td>\n",
              "      <td>1748.14969</td>\n",
              "    </tr>\n",
              "    <tr>\n",
              "      <th>2022-12-21 23:00:00+00:00</th>\n",
              "      <td>16765.24</td>\n",
              "      <td>16842.00</td>\n",
              "      <td>16750.00</td>\n",
              "      <td>16825.10</td>\n",
              "      <td>3770.60751</td>\n",
              "    </tr>\n",
              "  </tbody>\n",
              "</table>\n",
              "<p>114 rows × 5 columns</p>\n",
              "</div>\n",
              "      <button class=\"colab-df-convert\" onclick=\"convertToInteractive('df-3684c916-f133-4fd1-b792-49500f4f393e')\"\n",
              "              title=\"Convert this dataframe to an interactive table.\"\n",
              "              style=\"display:none;\">\n",
              "        \n",
              "  <svg xmlns=\"http://www.w3.org/2000/svg\" height=\"24px\"viewBox=\"0 0 24 24\"\n",
              "       width=\"24px\">\n",
              "    <path d=\"M0 0h24v24H0V0z\" fill=\"none\"/>\n",
              "    <path d=\"M18.56 5.44l.94 2.06.94-2.06 2.06-.94-2.06-.94-.94-2.06-.94 2.06-2.06.94zm-11 1L8.5 8.5l.94-2.06 2.06-.94-2.06-.94L8.5 2.5l-.94 2.06-2.06.94zm10 10l.94 2.06.94-2.06 2.06-.94-2.06-.94-.94-2.06-.94 2.06-2.06.94z\"/><path d=\"M17.41 7.96l-1.37-1.37c-.4-.4-.92-.59-1.43-.59-.52 0-1.04.2-1.43.59L10.3 9.45l-7.72 7.72c-.78.78-.78 2.05 0 2.83L4 21.41c.39.39.9.59 1.41.59.51 0 1.02-.2 1.41-.59l7.78-7.78 2.81-2.81c.8-.78.8-2.07 0-2.86zM5.41 20L4 18.59l7.72-7.72 1.47 1.35L5.41 20z\"/>\n",
              "  </svg>\n",
              "      </button>\n",
              "      \n",
              "  <style>\n",
              "    .colab-df-container {\n",
              "      display:flex;\n",
              "      flex-wrap:wrap;\n",
              "      gap: 12px;\n",
              "    }\n",
              "\n",
              "    .colab-df-convert {\n",
              "      background-color: #E8F0FE;\n",
              "      border: none;\n",
              "      border-radius: 50%;\n",
              "      cursor: pointer;\n",
              "      display: none;\n",
              "      fill: #1967D2;\n",
              "      height: 32px;\n",
              "      padding: 0 0 0 0;\n",
              "      width: 32px;\n",
              "    }\n",
              "\n",
              "    .colab-df-convert:hover {\n",
              "      background-color: #E2EBFA;\n",
              "      box-shadow: 0px 1px 2px rgba(60, 64, 67, 0.3), 0px 1px 3px 1px rgba(60, 64, 67, 0.15);\n",
              "      fill: #174EA6;\n",
              "    }\n",
              "\n",
              "    [theme=dark] .colab-df-convert {\n",
              "      background-color: #3B4455;\n",
              "      fill: #D2E3FC;\n",
              "    }\n",
              "\n",
              "    [theme=dark] .colab-df-convert:hover {\n",
              "      background-color: #434B5C;\n",
              "      box-shadow: 0px 1px 3px 1px rgba(0, 0, 0, 0.15);\n",
              "      filter: drop-shadow(0px 1px 2px rgba(0, 0, 0, 0.3));\n",
              "      fill: #FFFFFF;\n",
              "    }\n",
              "  </style>\n",
              "\n",
              "      <script>\n",
              "        const buttonEl =\n",
              "          document.querySelector('#df-3684c916-f133-4fd1-b792-49500f4f393e button.colab-df-convert');\n",
              "        buttonEl.style.display =\n",
              "          google.colab.kernel.accessAllowed ? 'block' : 'none';\n",
              "\n",
              "        async function convertToInteractive(key) {\n",
              "          const element = document.querySelector('#df-3684c916-f133-4fd1-b792-49500f4f393e');\n",
              "          const dataTable =\n",
              "            await google.colab.kernel.invokeFunction('convertToInteractive',\n",
              "                                                     [key], {});\n",
              "          if (!dataTable) return;\n",
              "\n",
              "          const docLinkHtml = 'Like what you see? Visit the ' +\n",
              "            '<a target=\"_blank\" href=https://colab.research.google.com/notebooks/data_table.ipynb>data table notebook</a>'\n",
              "            + ' to learn more about interactive tables.';\n",
              "          element.innerHTML = '';\n",
              "          dataTable['output_type'] = 'display_data';\n",
              "          await google.colab.output.renderOutput(dataTable, element);\n",
              "          const docLink = document.createElement('div');\n",
              "          docLink.innerHTML = docLinkHtml;\n",
              "          element.appendChild(docLink);\n",
              "        }\n",
              "      </script>\n",
              "    </div>\n",
              "  </div>\n",
              "  "
            ]
          },
          "metadata": {},
          "execution_count": 7
        }
      ],
      "source": [
        "# 初回は遅いです。２回目はキャッシュされているので比較的高速です\n",
        "binance.ohlcv(\n",
        "    DAYS_BEFORE(5),     # 5日前から\n",
        "    0,                  # 最新まで\n",
        "    60*60\n",
        ")"
      ]
    },
    {
      "cell_type": "markdown",
      "metadata": {
        "id": "zJ32_Apr6Fo4"
      },
      "source": [
        "短めの足では任意のサイズの足が作れるので、このOHCLVだけを利用して独自の分析を行うにも便利だと思います。\n",
        "週足より長い足も作れますが、性能が出ないのとデータが揃わない点に問題があり実用できではないかもしれません。\n",
        "\n",
        "ご活用ください。"
      ]
    },
    {
      "cell_type": "code",
      "source": [],
      "metadata": {
        "id": "t7JfD5-4iYuS"
      },
      "execution_count": 7,
      "outputs": []
    }
  ],
  "metadata": {
    "colab": {
      "provenance": []
    },
    "kernelspec": {
      "display_name": "venv",
      "language": "python",
      "name": "python3"
    },
    "language_info": {
      "codemirror_mode": {
        "name": "ipython",
        "version": 3
      },
      "file_extension": ".py",
      "mimetype": "text/x-python",
      "name": "python",
      "nbconvert_exporter": "python",
      "pygments_lexer": "ipython3",
      "version": "3.10.6 (main, Aug 30 2022, 04:58:14) [Clang 13.1.6 (clang-1316.0.21.2.5)]"
    },
    "orig_nbformat": 4,
    "vscode": {
      "interpreter": {
        "hash": "e69bbd470bf1393b14609a6bb37f84ea05c8b778927caf2a584647f90d922fc5"
      }
    }
  },
  "nbformat": 4,
  "nbformat_minor": 0
}