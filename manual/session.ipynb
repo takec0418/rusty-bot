{
 "cells": [
  {
   "attachments": {},
   "cell_type": "markdown",
   "metadata": {},
   "source": [
    "# Sessionクラス解説\n",
    "\n",
    "Session クラスはAgentの各イベント(on_tick, on_clock, on_update)時に引数として送られてきます。\n",
    "このSessionのインスタンスを利用してAgent内の取引ロジックを開発してください。\n",
    "使えるプロパティ／メソッドについて説明します。\n",
    "\n",
    "このNoteの中では説明のためにSessionオブジェクトのインスタンス化や内部関数も使いますが、\n",
    "ユーザがはSessionオブジェクトを自分で生成することはありません。\n",
    "\n",
    "資金管理などのメソッドは今後の開発予定になっています。\n",
    "\n",
    "## プロパティ\n",
    "\n",
    "\n",
    "### 市況を示すプロパティ\n",
    "\n",
    "<table>\n",
    "<tr><td >内容</td><td>プロパティ</td></tr>\n",
    "<tr><td>現在時刻</td><td>Session.current_timestamp</td></tr>\n",
    "<tr><td>最終売Take価格 = 最終買Make価格</td><td>Session.best_buy_price</td></tr>\n",
    "<tr><td>最終買Take価格 = 最終売Make価格</td><td>Session.best_sell_price</td></tr>\n",
    "</table>\n",
    "\n",
    "### 自分のオーダー／ポジションを表すプロパティ\n",
    "\n",
    "\n",
    "#### 注残\n",
    "\n",
    "<table>\n",
    "<table>\n",
    "<tr><td></td><td>内容</td><td>関数</td></tr>\n",
    "<tr><td colspan='3'>Long</td></tr>\n",
    "<tr><td></td><td>買注文個数</td><td>Session.long_order_len</td></tr>\n",
    "<tr><td></td><td>買注文一覧</td><td>Session.long_orders</td></tr>\n",
    "<tr><td colspan='3'>Short</td></tr>\n",
    "<tr><td></td><td>売注文個数</td><td>Session.short_order_len</td></tr>\n",
    "<tr><td></td><td>売注文一覧</td><td>Session.short_orders</td></tr>\n",
    "</table>\n",
    "\n",
    "#### ポジション\n",
    "\n",
    "<table>\n",
    "<tr><td></td><td>内容</td><td>関数</td></tr>\n",
    "<tr><td colspan='3'>Long</td></tr>\n",
    "<tr><td></td><td>平均単価</td><td>Session.long_position_price</td></tr>\n",
    "<tr><td></td><td>サイズ</td><td>Session.long_position_size</td></tr>\n",
    "<tr><td colspan='3'>Short</td></tr>\n",
    "<tr><td></td><td>平均単価</td><td>Session.short_position_price</td></tr>\n",
    "<tr><td></td><td>サイズ</td><td>Session.short_position_size</td></tr>\n",
    "</tbody></table>\n",
    "</table>\n",
    "\n",
    "\n",
    "\n",
    "## 関数\n",
    "\n",
    "#### オーダー発行(`place_order`)\n",
    "\n",
    "```\n",
    "Session.place_order(\n",
    "    order_side,     # 'Buy'　または 'Sell'を指定\n",
    "    price,          # 任意の価格が設定できるが相手の板にぶつけるtakeになる価格でもmakeの処理・手数料で処理している。\n",
    "                    # ギリ指しするために　Session.best_buy_price, Session.best_sell_priceが使える。\n",
    "    size,           # オーダーサイズ BTCBUSDの場合BTC建で指定。\n",
    "    duration_sec,   # オーダーの有効期限（秒）。オーダー後、この秒数をこえるとExpireする。\n",
    "    message         # あとでログで識別できるように任意の文字列が設定できる。\n",
    ")\n",
    "```\n",
    "\n",
    "#### 現在時刻のohlcv取得(`ohlcv`)\n",
    "\n",
    "```\n",
    "Session.ohlcv(\n",
    "    time_window,    #   OHLCVの足の幅（秒）\n",
    "    num_of_bars,    #   取得する本数\n",
    ")\n",
    "```\n",
    "\n"
   ]
  },
  {
   "attachments": {},
   "cell_type": "markdown",
   "metadata": {},
   "source": [
    "## 以下テストを兼ねたSessionオブジェクトの内部動作確認"
   ]
  },
  {
   "cell_type": "code",
   "execution_count": null,
   "metadata": {},
   "outputs": [],
   "source": [
    "# 通常ユーザがSessionオブジェクトを生成する必要はありません。説明のために内部関数をつかって生成します。\n",
    "from rbot import Session, _DummySession\n",
    "\n",
    "session = Session(_DummySession('BN', \"BTCBUSD\", False))"
   ]
  },
  {
   "cell_type": "code",
   "execution_count": null,
   "metadata": {},
   "outputs": [],
   "source": [
    "# 初期状態では中身は空っぽ\n",
    "session"
   ]
  },
  {
   "cell_type": "code",
   "execution_count": null,
   "metadata": {},
   "outputs": [],
   "source": [
    "# 内部処理、バックテスト用にログを読み取らせると市況がUpdateされる。\n",
    "from rbot import NOW\n",
    "import rbot\n",
    "\n",
    "# 最後に買われた価格が 売り板の最良値（best_sell_price)になる。\n",
    "session.trade(NOW(), \"Buy\", 100, 1, \"ORDERID-1\")    # BackTester内部処理\n",
    "session"
   ]
  },
  {
   "cell_type": "code",
   "execution_count": null,
   "metadata": {},
   "outputs": [],
   "source": [
    "# 最後に売られた価格が買い板の最良値(best_buy_price)になる、\n",
    "session.trade(NOW(), \"Sell\", 99.9, 1, \"ORDERID-2\") # BackTester内部処理\n",
    "session"
   ]
  },
  {
   "cell_type": "code",
   "execution_count": null,
   "metadata": {},
   "outputs": [],
   "source": [
    "# Agent用メソッド：　オーダーを発行すると,処理中オーダーにキューされる\n",
    "session.place_order(\"Buy\", \n",
    "                    100,    #価格\n",
    "                    50,     # サイズ\n",
    "                    1,     # 有効期間\n",
    "                    'test order')\n",
    "session"
   ]
  },
  {
   "cell_type": "code",
   "execution_count": null,
   "metadata": {},
   "outputs": [],
   "source": [
    "# 有効期間が1秒なので、1秒まってバックテスターが次のTradeを処理するとオーダーはExpireしてしまう（オーダーがセッションから消える）。\n",
    "import time\n",
    "time.sleep(1)\n",
    "session.trade(NOW(), \"Buy\", 100, 1, \"ORDERID-1\")    # BackTester内部処理\n",
    "session"
   ]
  },
  {
   "cell_type": "code",
   "execution_count": null,
   "metadata": {},
   "outputs": [],
   "source": [
    "# Agent用メソッド：　今度は有効期間のながいオーダーを出す。\n",
    "session.place_order(\"Buy\", \n",
    "                    100,    #価格\n",
    "                    50,      # サイズ\n",
    "                    60*60,     # 有効期間(1時間)\n",
    "                    'test order')\n",
    "session"
   ]
  },
  {
   "cell_type": "code",
   "execution_count": null,
   "metadata": {},
   "outputs": [],
   "source": [
    "# 買オーダー(100)よりも高い売り(101.0)がおこなわれてもオーダーには影響がない。\n",
    "session.trade(NOW(), \"Sell\", 101.0, 1, \"ORDERID-2\")  # Back Tester内部処理\n",
    "session"
   ]
  },
  {
   "cell_type": "code",
   "execution_count": null,
   "metadata": {},
   "outputs": [],
   "source": [
    "# 買オーダー（１００）と同じ価格の売りがおこなわれているときも影響がない\n",
    "# 本来は時間が経って板の最後までまわってきたら約定するが、辛めに判定\n",
    "session.trade(NOW(), \"Sell\", 100.0, 1, \"ORDERID-2\")  # Back Tester内部処理\n",
    "session"
   ]
  },
  {
   "cell_type": "code",
   "execution_count": null,
   "metadata": {},
   "outputs": [],
   "source": [
    "# 買オーダー(100)よりも低い価格の売りがでてきたら、部分約定する（今回の例では、サイズ１が約定して49が残っている）\n",
    "# ただし約定ログは分割せずremain_sizeをへらして全部約定のときにログを出す（あとで、まとめて約定したことにする）\n",
    "session.trade(NOW(), \"Sell\", 99.9, 1, \"ORDERID-2\")  # Back Tester内部処理\n",
    "session"
   ]
  },
  {
   "cell_type": "code",
   "execution_count": null,
   "metadata": {},
   "outputs": [],
   "source": [
    "# のこり49の売りが発生すると全部約定し、オーダーがlongポジションへ移動する。\n",
    "session.trade(NOW(), \"Sell\", 99.9, 49, \"ORDERID-2\")  # Back Tester内部処理\n",
    "session"
   ]
  },
  {
   "cell_type": "code",
   "execution_count": null,
   "metadata": {},
   "outputs": [],
   "source": [
    "# Agent用メソッド：　ここでドテンオーダーを出すと売りのオーダーにキューされる。\n",
    "session.place_order(\"Sell\", \n",
    "                    100,    #価格\n",
    "                    100,      # サイズ\n",
    "                    60*60,     # 有効期間(1時間)\n",
    "                    'test order')\n",
    "session"
   ]
  },
  {
   "cell_type": "code",
   "execution_count": null,
   "metadata": {},
   "outputs": [],
   "source": [
    "# 全部を約定するようなログがきたら、ロングポジション５０が精算されると同時に分割されてあらたに５０のショートポジションが積まれる。\n",
    "session.trade(NOW(), \"Buy\", 100.1, 100, \"ORDERID-2\")  # Back Tester内部処理\n",
    "session"
   ]
  },
  {
   "attachments": {},
   "cell_type": "markdown",
   "metadata": {},
   "source": [
    "# まとめ\n",
    "\n",
    "以上のような動きを約定ログ全部なめてバックテストを行なっています。\n",
    "（こんな面倒な方法やらなきゃよかった。。。）"
   ]
  }
 ],
 "metadata": {
  "kernelspec": {
   "display_name": "Python 3",
   "language": "python",
   "name": "python3"
  },
  "language_info": {
   "codemirror_mode": {
    "name": "ipython",
    "version": 3
   },
   "file_extension": ".py",
   "mimetype": "text/x-python",
   "name": "python",
   "nbconvert_exporter": "python",
   "pygments_lexer": "ipython3",
   "version": "3.10.6 (main, Aug 30 2022, 04:58:14) [Clang 13.1.6 (clang-1316.0.21.2.5)]"
  },
  "vscode": {
   "interpreter": {
    "hash": "eda7e54fe21129b67f77862937907ee926f057597a3e2fa1e18ac955e40912b3"
   }
  }
 },
 "nbformat": 4,
 "nbformat_minor": 2
}
